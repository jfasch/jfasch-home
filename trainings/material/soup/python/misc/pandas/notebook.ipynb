{
 "cells": [
  {
   "cell_type": "markdown",
   "id": "793ff69c",
   "metadata": {},
   "source": [
    "# Pandas"
   ]
  },
  {
   "cell_type": "code",
   "execution_count": 1,
   "id": "01093dff",
   "metadata": {},
   "outputs": [],
   "source": [
    "import pandas as pd"
   ]
  },
  {
   "cell_type": "markdown",
   "id": "dcf256ac",
   "metadata": {},
   "source": [
    "## DataFrame"
   ]
  },
  {
   "cell_type": "code",
   "execution_count": 2,
   "id": "3879ed4f",
   "metadata": {},
   "outputs": [],
   "source": [
    "users = {\n",
    "    'firstname': ['Joerg', 'Johanna', 'Caro', 'Philipp'],\n",
    "    'lastname': ['Faschingbauer', 'Faschingbauer', 'Faschingbauer', 'Lichtenberger'],\n",
    "    'svnr': ['1037190666', '1234110695', '2345250497', '345606041986'],\n",
    "    'age': [56, 27, 25, 37]\n",
    "}"
   ]
  },
  {
   "cell_type": "code",
   "execution_count": 3,
   "id": "fd8e8e5e",
   "metadata": {},
   "outputs": [
    {
     "data": {
      "text/plain": [
       "['Joerg', 'Johanna', 'Caro', 'Philipp']"
      ]
     },
     "execution_count": 3,
     "metadata": {},
     "output_type": "execute_result"
    }
   ],
   "source": [
    "users['firstname']"
   ]
  },
  {
   "cell_type": "code",
   "execution_count": 4,
   "id": "25555fe0",
   "metadata": {},
   "outputs": [],
   "source": [
    "df = pd.DataFrame(users)"
   ]
  },
  {
   "cell_type": "code",
   "execution_count": 5,
   "id": "9a708285",
   "metadata": {},
   "outputs": [
    {
     "data": {
      "text/html": [
       "<div>\n",
       "<style scoped>\n",
       "    .dataframe tbody tr th:only-of-type {\n",
       "        vertical-align: middle;\n",
       "    }\n",
       "\n",
       "    .dataframe tbody tr th {\n",
       "        vertical-align: top;\n",
       "    }\n",
       "\n",
       "    .dataframe thead th {\n",
       "        text-align: right;\n",
       "    }\n",
       "</style>\n",
       "<table border=\"1\" class=\"dataframe\">\n",
       "  <thead>\n",
       "    <tr style=\"text-align: right;\">\n",
       "      <th></th>\n",
       "      <th>firstname</th>\n",
       "      <th>lastname</th>\n",
       "      <th>svnr</th>\n",
       "      <th>age</th>\n",
       "    </tr>\n",
       "  </thead>\n",
       "  <tbody>\n",
       "    <tr>\n",
       "      <th>0</th>\n",
       "      <td>Joerg</td>\n",
       "      <td>Faschingbauer</td>\n",
       "      <td>1037190666</td>\n",
       "      <td>56</td>\n",
       "    </tr>\n",
       "    <tr>\n",
       "      <th>1</th>\n",
       "      <td>Johanna</td>\n",
       "      <td>Faschingbauer</td>\n",
       "      <td>1234110695</td>\n",
       "      <td>27</td>\n",
       "    </tr>\n",
       "    <tr>\n",
       "      <th>2</th>\n",
       "      <td>Caro</td>\n",
       "      <td>Faschingbauer</td>\n",
       "      <td>2345250497</td>\n",
       "      <td>25</td>\n",
       "    </tr>\n",
       "    <tr>\n",
       "      <th>3</th>\n",
       "      <td>Philipp</td>\n",
       "      <td>Lichtenberger</td>\n",
       "      <td>345606041986</td>\n",
       "      <td>37</td>\n",
       "    </tr>\n",
       "  </tbody>\n",
       "</table>\n",
       "</div>"
      ],
      "text/plain": [
       "  firstname       lastname          svnr  age\n",
       "0     Joerg  Faschingbauer    1037190666   56\n",
       "1   Johanna  Faschingbauer    1234110695   27\n",
       "2      Caro  Faschingbauer    2345250497   25\n",
       "3   Philipp  Lichtenberger  345606041986   37"
      ]
     },
     "execution_count": 5,
     "metadata": {},
     "output_type": "execute_result"
    }
   ],
   "source": [
    "df"
   ]
  },
  {
   "cell_type": "code",
   "execution_count": 6,
   "id": "e1723d3a",
   "metadata": {},
   "outputs": [
    {
     "data": {
      "text/plain": [
       "0      Joerg\n",
       "1    Johanna\n",
       "2       Caro\n",
       "3    Philipp\n",
       "Name: firstname, dtype: object"
      ]
     },
     "execution_count": 6,
     "metadata": {},
     "output_type": "execute_result"
    }
   ],
   "source": [
    "df['firstname']"
   ]
  },
  {
   "cell_type": "markdown",
   "id": "bd2ce22b",
   "metadata": {},
   "source": [
    "## Filters"
   ]
  },
  {
   "cell_type": "markdown",
   "id": "e2d19847",
   "metadata": {},
   "source": [
    "### Simple Equality"
   ]
  },
  {
   "cell_type": "code",
   "execution_count": 7,
   "id": "dc79e0d0",
   "metadata": {},
   "outputs": [
    {
     "data": {
      "text/plain": [
       "0     True\n",
       "1     True\n",
       "2     True\n",
       "3    False\n",
       "Name: lastname, dtype: bool"
      ]
     },
     "execution_count": 7,
     "metadata": {},
     "output_type": "execute_result"
    }
   ],
   "source": [
    "df['lastname'] == 'Faschingbauer'"
   ]
  },
  {
   "cell_type": "code",
   "execution_count": 8,
   "id": "00b80adc",
   "metadata": {},
   "outputs": [],
   "source": [
    "flt = df['lastname'] == 'Faschingbauer'"
   ]
  },
  {
   "cell_type": "code",
   "execution_count": 9,
   "id": "39911a70",
   "metadata": {},
   "outputs": [
    {
     "data": {
      "text/plain": [
       "0     True\n",
       "1     True\n",
       "2     True\n",
       "3    False\n",
       "Name: lastname, dtype: bool"
      ]
     },
     "execution_count": 9,
     "metadata": {},
     "output_type": "execute_result"
    }
   ],
   "source": [
    "flt"
   ]
  },
  {
   "cell_type": "code",
   "execution_count": 10,
   "id": "9e3af383",
   "metadata": {},
   "outputs": [
    {
     "data": {
      "text/plain": [
       "pandas.core.series.Series"
      ]
     },
     "execution_count": 10,
     "metadata": {},
     "output_type": "execute_result"
    }
   ],
   "source": [
    "type(flt)"
   ]
  },
  {
   "cell_type": "code",
   "execution_count": 11,
   "id": "1a391ea5",
   "metadata": {},
   "outputs": [
    {
     "data": {
      "text/html": [
       "<div>\n",
       "<style scoped>\n",
       "    .dataframe tbody tr th:only-of-type {\n",
       "        vertical-align: middle;\n",
       "    }\n",
       "\n",
       "    .dataframe tbody tr th {\n",
       "        vertical-align: top;\n",
       "    }\n",
       "\n",
       "    .dataframe thead th {\n",
       "        text-align: right;\n",
       "    }\n",
       "</style>\n",
       "<table border=\"1\" class=\"dataframe\">\n",
       "  <thead>\n",
       "    <tr style=\"text-align: right;\">\n",
       "      <th></th>\n",
       "      <th>firstname</th>\n",
       "      <th>lastname</th>\n",
       "      <th>svnr</th>\n",
       "      <th>age</th>\n",
       "    </tr>\n",
       "  </thead>\n",
       "  <tbody>\n",
       "    <tr>\n",
       "      <th>0</th>\n",
       "      <td>Joerg</td>\n",
       "      <td>Faschingbauer</td>\n",
       "      <td>1037190666</td>\n",
       "      <td>56</td>\n",
       "    </tr>\n",
       "    <tr>\n",
       "      <th>1</th>\n",
       "      <td>Johanna</td>\n",
       "      <td>Faschingbauer</td>\n",
       "      <td>1234110695</td>\n",
       "      <td>27</td>\n",
       "    </tr>\n",
       "    <tr>\n",
       "      <th>2</th>\n",
       "      <td>Caro</td>\n",
       "      <td>Faschingbauer</td>\n",
       "      <td>2345250497</td>\n",
       "      <td>25</td>\n",
       "    </tr>\n",
       "  </tbody>\n",
       "</table>\n",
       "</div>"
      ],
      "text/plain": [
       "  firstname       lastname        svnr  age\n",
       "0     Joerg  Faschingbauer  1037190666   56\n",
       "1   Johanna  Faschingbauer  1234110695   27\n",
       "2      Caro  Faschingbauer  2345250497   25"
      ]
     },
     "execution_count": 11,
     "metadata": {},
     "output_type": "execute_result"
    }
   ],
   "source": [
    "df[flt]"
   ]
  },
  {
   "cell_type": "markdown",
   "id": "36758ad5",
   "metadata": {},
   "source": [
    "**Better:** use ``loc[]`` to avoid confusion with column addressing (we want *rows*)"
   ]
  },
  {
   "cell_type": "code",
   "execution_count": 12,
   "id": "8401ded0",
   "metadata": {},
   "outputs": [
    {
     "data": {
      "text/html": [
       "<div>\n",
       "<style scoped>\n",
       "    .dataframe tbody tr th:only-of-type {\n",
       "        vertical-align: middle;\n",
       "    }\n",
       "\n",
       "    .dataframe tbody tr th {\n",
       "        vertical-align: top;\n",
       "    }\n",
       "\n",
       "    .dataframe thead th {\n",
       "        text-align: right;\n",
       "    }\n",
       "</style>\n",
       "<table border=\"1\" class=\"dataframe\">\n",
       "  <thead>\n",
       "    <tr style=\"text-align: right;\">\n",
       "      <th></th>\n",
       "      <th>firstname</th>\n",
       "      <th>lastname</th>\n",
       "      <th>svnr</th>\n",
       "      <th>age</th>\n",
       "    </tr>\n",
       "  </thead>\n",
       "  <tbody>\n",
       "    <tr>\n",
       "      <th>0</th>\n",
       "      <td>Joerg</td>\n",
       "      <td>Faschingbauer</td>\n",
       "      <td>1037190666</td>\n",
       "      <td>56</td>\n",
       "    </tr>\n",
       "    <tr>\n",
       "      <th>1</th>\n",
       "      <td>Johanna</td>\n",
       "      <td>Faschingbauer</td>\n",
       "      <td>1234110695</td>\n",
       "      <td>27</td>\n",
       "    </tr>\n",
       "    <tr>\n",
       "      <th>2</th>\n",
       "      <td>Caro</td>\n",
       "      <td>Faschingbauer</td>\n",
       "      <td>2345250497</td>\n",
       "      <td>25</td>\n",
       "    </tr>\n",
       "  </tbody>\n",
       "</table>\n",
       "</div>"
      ],
      "text/plain": [
       "  firstname       lastname        svnr  age\n",
       "0     Joerg  Faschingbauer  1037190666   56\n",
       "1   Johanna  Faschingbauer  1234110695   27\n",
       "2      Caro  Faschingbauer  2345250497   25"
      ]
     },
     "execution_count": 12,
     "metadata": {},
     "output_type": "execute_result"
    }
   ],
   "source": [
    "df.loc[flt]"
   ]
  },
  {
   "cell_type": "markdown",
   "id": "4bd2cc8f",
   "metadata": {},
   "source": [
    "**Better again:** ``loc`` allows us to select the columns that we want"
   ]
  },
  {
   "cell_type": "code",
   "execution_count": 13,
   "id": "b45f7110",
   "metadata": {},
   "outputs": [
    {
     "data": {
      "text/plain": [
       "0      Joerg\n",
       "1    Johanna\n",
       "2       Caro\n",
       "Name: firstname, dtype: object"
      ]
     },
     "execution_count": 13,
     "metadata": {},
     "output_type": "execute_result"
    }
   ],
   "source": [
    "df.loc[flt, 'firstname']"
   ]
  },
  {
   "cell_type": "markdown",
   "id": "08a9709b",
   "metadata": {},
   "source": [
    "### Boolean Expressions"
   ]
  },
  {
   "cell_type": "code",
   "execution_count": 14,
   "id": "09151f8e",
   "metadata": {},
   "outputs": [],
   "source": [
    "flt = (df['firstname'] == 'Joerg') & (df['lastname'] == 'Faschingbauer') | (df['firstname'] == 'Philipp')"
   ]
  },
  {
   "cell_type": "markdown",
   "id": "f1868415",
   "metadata": {},
   "source": [
    "**Attention**: braces are important because '&' binds stronger than '=='. This is bad."
   ]
  },
  {
   "cell_type": "code",
   "execution_count": 15,
   "id": "c657acfe",
   "metadata": {},
   "outputs": [
    {
     "data": {
      "text/html": [
       "<div>\n",
       "<style scoped>\n",
       "    .dataframe tbody tr th:only-of-type {\n",
       "        vertical-align: middle;\n",
       "    }\n",
       "\n",
       "    .dataframe tbody tr th {\n",
       "        vertical-align: top;\n",
       "    }\n",
       "\n",
       "    .dataframe thead th {\n",
       "        text-align: right;\n",
       "    }\n",
       "</style>\n",
       "<table border=\"1\" class=\"dataframe\">\n",
       "  <thead>\n",
       "    <tr style=\"text-align: right;\">\n",
       "      <th></th>\n",
       "      <th>firstname</th>\n",
       "      <th>lastname</th>\n",
       "      <th>svnr</th>\n",
       "      <th>age</th>\n",
       "    </tr>\n",
       "  </thead>\n",
       "  <tbody>\n",
       "    <tr>\n",
       "      <th>0</th>\n",
       "      <td>Joerg</td>\n",
       "      <td>Faschingbauer</td>\n",
       "      <td>1037190666</td>\n",
       "      <td>56</td>\n",
       "    </tr>\n",
       "    <tr>\n",
       "      <th>3</th>\n",
       "      <td>Philipp</td>\n",
       "      <td>Lichtenberger</td>\n",
       "      <td>345606041986</td>\n",
       "      <td>37</td>\n",
       "    </tr>\n",
       "  </tbody>\n",
       "</table>\n",
       "</div>"
      ],
      "text/plain": [
       "  firstname       lastname          svnr  age\n",
       "0     Joerg  Faschingbauer    1037190666   56\n",
       "3   Philipp  Lichtenberger  345606041986   37"
      ]
     },
     "execution_count": 15,
     "metadata": {},
     "output_type": "execute_result"
    }
   ],
   "source": [
    "df[flt]"
   ]
  },
  {
   "cell_type": "markdown",
   "id": "3a3c9939",
   "metadata": {},
   "source": [
    "**Negation**: ``~``"
   ]
  },
  {
   "cell_type": "code",
   "execution_count": 16,
   "id": "68836479",
   "metadata": {},
   "outputs": [
    {
     "data": {
      "text/html": [
       "<div>\n",
       "<style scoped>\n",
       "    .dataframe tbody tr th:only-of-type {\n",
       "        vertical-align: middle;\n",
       "    }\n",
       "\n",
       "    .dataframe tbody tr th {\n",
       "        vertical-align: top;\n",
       "    }\n",
       "\n",
       "    .dataframe thead th {\n",
       "        text-align: right;\n",
       "    }\n",
       "</style>\n",
       "<table border=\"1\" class=\"dataframe\">\n",
       "  <thead>\n",
       "    <tr style=\"text-align: right;\">\n",
       "      <th></th>\n",
       "      <th>firstname</th>\n",
       "      <th>lastname</th>\n",
       "      <th>svnr</th>\n",
       "      <th>age</th>\n",
       "    </tr>\n",
       "  </thead>\n",
       "  <tbody>\n",
       "    <tr>\n",
       "      <th>1</th>\n",
       "      <td>Johanna</td>\n",
       "      <td>Faschingbauer</td>\n",
       "      <td>1234110695</td>\n",
       "      <td>27</td>\n",
       "    </tr>\n",
       "    <tr>\n",
       "      <th>2</th>\n",
       "      <td>Caro</td>\n",
       "      <td>Faschingbauer</td>\n",
       "      <td>2345250497</td>\n",
       "      <td>25</td>\n",
       "    </tr>\n",
       "  </tbody>\n",
       "</table>\n",
       "</div>"
      ],
      "text/plain": [
       "  firstname       lastname        svnr  age\n",
       "1   Johanna  Faschingbauer  1234110695   27\n",
       "2      Caro  Faschingbauer  2345250497   25"
      ]
     },
     "execution_count": 16,
     "metadata": {},
     "output_type": "execute_result"
    }
   ],
   "source": [
    "df.loc[~flt]"
   ]
  },
  {
   "cell_type": "markdown",
   "id": "0a371e23",
   "metadata": {},
   "source": [
    "### Neat Helpers"
   ]
  },
  {
   "cell_type": "code",
   "execution_count": 17,
   "id": "5568b62d",
   "metadata": {},
   "outputs": [
    {
     "data": {
      "text/html": [
       "<div>\n",
       "<style scoped>\n",
       "    .dataframe tbody tr th:only-of-type {\n",
       "        vertical-align: middle;\n",
       "    }\n",
       "\n",
       "    .dataframe tbody tr th {\n",
       "        vertical-align: top;\n",
       "    }\n",
       "\n",
       "    .dataframe thead th {\n",
       "        text-align: right;\n",
       "    }\n",
       "</style>\n",
       "<table border=\"1\" class=\"dataframe\">\n",
       "  <thead>\n",
       "    <tr style=\"text-align: right;\">\n",
       "      <th></th>\n",
       "      <th>firstname</th>\n",
       "      <th>lastname</th>\n",
       "      <th>svnr</th>\n",
       "      <th>age</th>\n",
       "    </tr>\n",
       "  </thead>\n",
       "  <tbody>\n",
       "    <tr>\n",
       "      <th>2</th>\n",
       "      <td>Caro</td>\n",
       "      <td>Faschingbauer</td>\n",
       "      <td>2345250497</td>\n",
       "      <td>25</td>\n",
       "    </tr>\n",
       "    <tr>\n",
       "      <th>3</th>\n",
       "      <td>Philipp</td>\n",
       "      <td>Lichtenberger</td>\n",
       "      <td>345606041986</td>\n",
       "      <td>37</td>\n",
       "    </tr>\n",
       "  </tbody>\n",
       "</table>\n",
       "</div>"
      ],
      "text/plain": [
       "  firstname       lastname          svnr  age\n",
       "2      Caro  Faschingbauer    2345250497   25\n",
       "3   Philipp  Lichtenberger  345606041986   37"
      ]
     },
     "execution_count": 17,
     "metadata": {},
     "output_type": "execute_result"
    }
   ],
   "source": [
    "flt = df['firstname'].isin(['Caro', 'Philipp'])\n",
    "df[flt]"
   ]
  },
  {
   "cell_type": "code",
   "execution_count": 18,
   "id": "7d32c0a3",
   "metadata": {},
   "outputs": [
    {
     "data": {
      "text/html": [
       "<div>\n",
       "<style scoped>\n",
       "    .dataframe tbody tr th:only-of-type {\n",
       "        vertical-align: middle;\n",
       "    }\n",
       "\n",
       "    .dataframe tbody tr th {\n",
       "        vertical-align: top;\n",
       "    }\n",
       "\n",
       "    .dataframe thead th {\n",
       "        text-align: right;\n",
       "    }\n",
       "</style>\n",
       "<table border=\"1\" class=\"dataframe\">\n",
       "  <thead>\n",
       "    <tr style=\"text-align: right;\">\n",
       "      <th></th>\n",
       "      <th>firstname</th>\n",
       "      <th>lastname</th>\n",
       "      <th>svnr</th>\n",
       "      <th>age</th>\n",
       "    </tr>\n",
       "  </thead>\n",
       "  <tbody>\n",
       "    <tr>\n",
       "      <th>0</th>\n",
       "      <td>Joerg</td>\n",
       "      <td>Faschingbauer</td>\n",
       "      <td>1037190666</td>\n",
       "      <td>56</td>\n",
       "    </tr>\n",
       "    <tr>\n",
       "      <th>1</th>\n",
       "      <td>Johanna</td>\n",
       "      <td>Faschingbauer</td>\n",
       "      <td>1234110695</td>\n",
       "      <td>27</td>\n",
       "    </tr>\n",
       "  </tbody>\n",
       "</table>\n",
       "</div>"
      ],
      "text/plain": [
       "  firstname       lastname        svnr  age\n",
       "0     Joerg  Faschingbauer  1037190666   56\n",
       "1   Johanna  Faschingbauer  1234110695   27"
      ]
     },
     "execution_count": 18,
     "metadata": {},
     "output_type": "execute_result"
    }
   ],
   "source": [
    "flt = df['firstname'].str.startswith('J')\n",
    "df[flt]"
   ]
  },
  {
   "cell_type": "markdown",
   "id": "4ffd6d57",
   "metadata": {},
   "source": [
    "\n",
    "### Updating"
   ]
  },
  {
   "cell_type": "markdown",
   "id": "321d86a7",
   "metadata": {},
   "source": [
    "#### Straightforward: assign modified copy of Series back into DataFrame"
   ]
  },
  {
   "cell_type": "code",
   "execution_count": 19,
   "id": "7473069d",
   "metadata": {},
   "outputs": [],
   "source": [
    "df2 = df.copy()"
   ]
  },
  {
   "cell_type": "code",
   "execution_count": 20,
   "id": "fac0682f",
   "metadata": {},
   "outputs": [],
   "source": [
    "df2['firstname'] = df2['firstname'].str.upper()"
   ]
  },
  {
   "cell_type": "code",
   "execution_count": 21,
   "id": "afc8c698",
   "metadata": {},
   "outputs": [
    {
     "data": {
      "text/html": [
       "<div>\n",
       "<style scoped>\n",
       "    .dataframe tbody tr th:only-of-type {\n",
       "        vertical-align: middle;\n",
       "    }\n",
       "\n",
       "    .dataframe tbody tr th {\n",
       "        vertical-align: top;\n",
       "    }\n",
       "\n",
       "    .dataframe thead th {\n",
       "        text-align: right;\n",
       "    }\n",
       "</style>\n",
       "<table border=\"1\" class=\"dataframe\">\n",
       "  <thead>\n",
       "    <tr style=\"text-align: right;\">\n",
       "      <th></th>\n",
       "      <th>firstname</th>\n",
       "      <th>lastname</th>\n",
       "      <th>svnr</th>\n",
       "      <th>age</th>\n",
       "    </tr>\n",
       "  </thead>\n",
       "  <tbody>\n",
       "    <tr>\n",
       "      <th>0</th>\n",
       "      <td>JOERG</td>\n",
       "      <td>Faschingbauer</td>\n",
       "      <td>1037190666</td>\n",
       "      <td>56</td>\n",
       "    </tr>\n",
       "    <tr>\n",
       "      <th>1</th>\n",
       "      <td>JOHANNA</td>\n",
       "      <td>Faschingbauer</td>\n",
       "      <td>1234110695</td>\n",
       "      <td>27</td>\n",
       "    </tr>\n",
       "    <tr>\n",
       "      <th>2</th>\n",
       "      <td>CARO</td>\n",
       "      <td>Faschingbauer</td>\n",
       "      <td>2345250497</td>\n",
       "      <td>25</td>\n",
       "    </tr>\n",
       "    <tr>\n",
       "      <th>3</th>\n",
       "      <td>PHILIPP</td>\n",
       "      <td>Lichtenberger</td>\n",
       "      <td>345606041986</td>\n",
       "      <td>37</td>\n",
       "    </tr>\n",
       "  </tbody>\n",
       "</table>\n",
       "</div>"
      ],
      "text/plain": [
       "  firstname       lastname          svnr  age\n",
       "0     JOERG  Faschingbauer    1037190666   56\n",
       "1   JOHANNA  Faschingbauer    1234110695   27\n",
       "2      CARO  Faschingbauer    2345250497   25\n",
       "3   PHILIPP  Lichtenberger  345606041986   37"
      ]
     },
     "execution_count": 21,
     "metadata": {},
     "output_type": "execute_result"
    }
   ],
   "source": [
    "df2"
   ]
  },
  {
   "cell_type": "markdown",
   "id": "02408e6f",
   "metadata": {},
   "source": [
    "#### Apply On Series"
   ]
  },
  {
   "cell_type": "code",
   "execution_count": 22,
   "id": "a631e824",
   "metadata": {},
   "outputs": [
    {
     "data": {
      "text/plain": [
       "0    5\n",
       "1    7\n",
       "2    4\n",
       "3    7\n",
       "Name: firstname, dtype: int64"
      ]
     },
     "execution_count": 22,
     "metadata": {},
     "output_type": "execute_result"
    }
   ],
   "source": [
    "df['firstname'].apply(len)"
   ]
  },
  {
   "cell_type": "code",
   "execution_count": 23,
   "id": "a4b75bbd",
   "metadata": {},
   "outputs": [],
   "source": [
    "def upper(s):\n",
    "    return s.upper()"
   ]
  },
  {
   "cell_type": "code",
   "execution_count": 24,
   "id": "1dda505e",
   "metadata": {},
   "outputs": [
    {
     "data": {
      "text/plain": [
       "0      JOERG\n",
       "1    JOHANNA\n",
       "2       CARO\n",
       "3    PHILIPP\n",
       "Name: firstname, dtype: object"
      ]
     },
     "execution_count": 24,
     "metadata": {},
     "output_type": "execute_result"
    }
   ],
   "source": [
    "df['firstname'].apply(upper)"
   ]
  },
  {
   "cell_type": "markdown",
   "id": "a4ee71c1",
   "metadata": {},
   "source": [
    "#### Apply On Entire DataFrame"
   ]
  },
  {
   "cell_type": "markdown",
   "id": "07da9983",
   "metadata": {},
   "source": [
    "Default direction: 'rows' -> length of each column"
   ]
  },
  {
   "cell_type": "code",
   "execution_count": 25,
   "id": "2952c193",
   "metadata": {},
   "outputs": [
    {
     "data": {
      "text/plain": [
       "firstname    4\n",
       "lastname     4\n",
       "svnr         4\n",
       "age          4\n",
       "dtype: int64"
      ]
     },
     "execution_count": 25,
     "metadata": {},
     "output_type": "execute_result"
    }
   ],
   "source": [
    "df.apply(len)"
   ]
  },
  {
   "cell_type": "code",
   "execution_count": 26,
   "id": "31844e47",
   "metadata": {},
   "outputs": [
    {
     "data": {
      "text/plain": [
       "0    4\n",
       "1    4\n",
       "2    4\n",
       "3    4\n",
       "dtype: int64"
      ]
     },
     "execution_count": 26,
     "metadata": {},
     "output_type": "execute_result"
    }
   ],
   "source": [
    "df.apply(len, axis='columns')"
   ]
  },
  {
   "cell_type": "markdown",
   "id": "0cc03f14",
   "metadata": {},
   "source": [
    "#### ``applymap``: Each Element of DataFrama"
   ]
  },
  {
   "cell_type": "markdown",
   "id": "d4b52cdd",
   "metadata": {},
   "source": [
    "### Groups, Aggregation"
   ]
  },
  {
   "cell_type": "markdown",
   "id": "d63576e9",
   "metadata": {},
   "source": [
    "#### Naive Approach"
   ]
  },
  {
   "cell_type": "code",
   "execution_count": 41,
   "id": "a61567b3",
   "metadata": {},
   "outputs": [
    {
     "data": {
      "text/plain": [
       "36.0"
      ]
     },
     "execution_count": 41,
     "metadata": {},
     "output_type": "execute_result"
    }
   ],
   "source": [
    "flt = df['lastname'] == 'Faschingbauer'\n",
    "df.loc[flt, 'age'].mean()"
   ]
  },
  {
   "cell_type": "code",
   "execution_count": 42,
   "id": "1f63e28a",
   "metadata": {},
   "outputs": [
    {
     "data": {
      "text/plain": [
       "37.0"
      ]
     },
     "execution_count": 42,
     "metadata": {},
     "output_type": "execute_result"
    }
   ],
   "source": [
    "flt = df['lastname'] == 'Lichtenberger'\n",
    "df.loc[flt, 'age'].mean()"
   ]
  },
  {
   "cell_type": "markdown",
   "id": "e6cbb806",
   "metadata": {},
   "source": [
    "#### ``groupby``"
   ]
  },
  {
   "cell_type": "code",
   "execution_count": 29,
   "id": "491ebf5c",
   "metadata": {},
   "outputs": [],
   "source": [
    "lastnames = df.groupby('lastname')"
   ]
  },
  {
   "cell_type": "code",
   "execution_count": 43,
   "id": "e9facd57",
   "metadata": {},
   "outputs": [
    {
     "data": {
      "text/plain": [
       "<pandas.core.groupby.generic.DataFrameGroupBy object at 0x7f7f5fd6b130>"
      ]
     },
     "execution_count": 43,
     "metadata": {},
     "output_type": "execute_result"
    }
   ],
   "source": [
    "lastnames"
   ]
  },
  {
   "cell_type": "markdown",
   "id": "0e8306ed",
   "metadata": {},
   "source": [
    "**To give an idea what it is ...**\n",
    "\n",
    "Converted to a list ..."
   ]
  },
  {
   "cell_type": "code",
   "execution_count": 31,
   "id": "d5907dad",
   "metadata": {},
   "outputs": [
    {
     "data": {
      "text/plain": [
       "[('Faschingbauer',\n",
       "    firstname       lastname        svnr  age\n",
       "  0     Joerg  Faschingbauer  1037190666   56\n",
       "  1   Johanna  Faschingbauer  1234110695   27\n",
       "  2      Caro  Faschingbauer  2345250497   25),\n",
       " ('Lichtenberger',\n",
       "    firstname       lastname          svnr  age\n",
       "  3   Philipp  Lichtenberger  345606041986   37)]"
      ]
     },
     "execution_count": 31,
     "metadata": {},
     "output_type": "execute_result"
    }
   ],
   "source": [
    "list(lastnames)"
   ]
  },
  {
   "cell_type": "markdown",
   "id": "6cfa6e69",
   "metadata": {},
   "source": [
    "That into a ``dict`` ... looks like the elements are data frames"
   ]
  },
  {
   "cell_type": "code",
   "execution_count": 32,
   "id": "369aaf97",
   "metadata": {},
   "outputs": [],
   "source": [
    "d = dict(list(lastnames))"
   ]
  },
  {
   "cell_type": "code",
   "execution_count": 33,
   "id": "d5f1bbc9",
   "metadata": {},
   "outputs": [
    {
     "data": {
      "text/plain": [
       "{'Faschingbauer':   firstname       lastname        svnr  age\n",
       " 0     Joerg  Faschingbauer  1037190666   56\n",
       " 1   Johanna  Faschingbauer  1234110695   27\n",
       " 2      Caro  Faschingbauer  2345250497   25,\n",
       " 'Lichtenberger':   firstname       lastname          svnr  age\n",
       " 3   Philipp  Lichtenberger  345606041986   37}"
      ]
     },
     "execution_count": 33,
     "metadata": {},
     "output_type": "execute_result"
    }
   ],
   "source": [
    "d"
   ]
  },
  {
   "cell_type": "code",
   "execution_count": 44,
   "id": "660b61e4",
   "metadata": {},
   "outputs": [
    {
     "data": {
      "text/plain": [
       "pandas.core.frame.DataFrame"
      ]
     },
     "execution_count": 44,
     "metadata": {},
     "output_type": "execute_result"
    }
   ],
   "source": [
    "type(d['Faschingbauer'])"
   ]
  },
  {
   "cell_type": "markdown",
   "id": "0b8e1575",
   "metadata": {},
   "source": [
    "#### Working with ``groupby``"
   ]
  },
  {
   "cell_type": "markdown",
   "id": "963df21b",
   "metadata": {},
   "source": [
    "``get_group()`` gives a DataFrame"
   ]
  },
  {
   "cell_type": "code",
   "execution_count": 45,
   "id": "f13a27d6",
   "metadata": {},
   "outputs": [],
   "source": [
    "f = lastnames.get_group('Faschingbauer')"
   ]
  },
  {
   "cell_type": "code",
   "execution_count": 46,
   "id": "4fbdeee1",
   "metadata": {},
   "outputs": [
    {
     "data": {
      "text/html": [
       "<div>\n",
       "<style scoped>\n",
       "    .dataframe tbody tr th:only-of-type {\n",
       "        vertical-align: middle;\n",
       "    }\n",
       "\n",
       "    .dataframe tbody tr th {\n",
       "        vertical-align: top;\n",
       "    }\n",
       "\n",
       "    .dataframe thead th {\n",
       "        text-align: right;\n",
       "    }\n",
       "</style>\n",
       "<table border=\"1\" class=\"dataframe\">\n",
       "  <thead>\n",
       "    <tr style=\"text-align: right;\">\n",
       "      <th></th>\n",
       "      <th>firstname</th>\n",
       "      <th>lastname</th>\n",
       "      <th>svnr</th>\n",
       "      <th>age</th>\n",
       "    </tr>\n",
       "  </thead>\n",
       "  <tbody>\n",
       "    <tr>\n",
       "      <th>0</th>\n",
       "      <td>Joerg</td>\n",
       "      <td>Faschingbauer</td>\n",
       "      <td>1037190666</td>\n",
       "      <td>56</td>\n",
       "    </tr>\n",
       "    <tr>\n",
       "      <th>1</th>\n",
       "      <td>Johanna</td>\n",
       "      <td>Faschingbauer</td>\n",
       "      <td>1234110695</td>\n",
       "      <td>27</td>\n",
       "    </tr>\n",
       "    <tr>\n",
       "      <th>2</th>\n",
       "      <td>Caro</td>\n",
       "      <td>Faschingbauer</td>\n",
       "      <td>2345250497</td>\n",
       "      <td>25</td>\n",
       "    </tr>\n",
       "  </tbody>\n",
       "</table>\n",
       "</div>"
      ],
      "text/plain": [
       "  firstname       lastname        svnr  age\n",
       "0     Joerg  Faschingbauer  1037190666   56\n",
       "1   Johanna  Faschingbauer  1234110695   27\n",
       "2      Caro  Faschingbauer  2345250497   25"
      ]
     },
     "execution_count": 46,
     "metadata": {},
     "output_type": "execute_result"
    }
   ],
   "source": [
    "f"
   ]
  },
  {
   "cell_type": "code",
   "execution_count": 52,
   "id": "21348400",
   "metadata": {},
   "outputs": [
    {
     "data": {
      "text/plain": [
       "36.0"
      ]
     },
     "execution_count": 52,
     "metadata": {},
     "output_type": "execute_result"
    }
   ],
   "source": [
    "f['age'].mean()"
   ]
  }
 ],
 "metadata": {
  "kernelspec": {
   "display_name": "Python 3 (ipykernel)",
   "language": "python",
   "name": "python3"
  },
  "language_info": {
   "codemirror_mode": {
    "name": "ipython",
    "version": 3
   },
   "file_extension": ".py",
   "mimetype": "text/x-python",
   "name": "python",
   "nbconvert_exporter": "python",
   "pygments_lexer": "ipython3",
   "version": "3.10.7"
  }
 },
 "nbformat": 4,
 "nbformat_minor": 5
}
