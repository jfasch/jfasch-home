{
 "cells": [
  {
   "cell_type": "markdown",
   "id": "793ff69c",
   "metadata": {},
   "source": [
    "# Pandas"
   ]
  },
  {
   "cell_type": "code",
   "execution_count": 1,
   "id": "01093dff",
   "metadata": {},
   "outputs": [],
   "source": [
    "import pandas as pd"
   ]
  },
  {
   "cell_type": "markdown",
   "id": "dcf256ac",
   "metadata": {},
   "source": [
    "## DataFrame"
   ]
  },
  {
   "cell_type": "code",
   "execution_count": 6,
   "id": "6007172a",
   "metadata": {},
   "outputs": [],
   "source": [
    "persons = {\n",
    "    'firstname': ['Joerg', 'Johanna', 'Caro', 'Philipp'],\n",
    "    'lastname': ['Faschingbauer', 'Faschingbauer', 'Faschingbauer', 'Lichtenberger'],\n",
    "    'email': ['jf@faschingbauer.co.at', 'caro@email.com', 'johanna@email.com', 'philipp@email.com'],\n",
    "    'age': [56, 27, 25, 37],\n",
    "}"
   ]
  },
  {
   "cell_type": "markdown",
   "id": "95fc317c",
   "metadata": {},
   "source": [
    "### Enter ``pandas``, ``DataFrame``, ``Series``"
   ]
  },
  {
   "cell_type": "code",
   "execution_count": 10,
   "id": "c33b5478",
   "metadata": {},
   "outputs": [],
   "source": [
    "import pandas as pd"
   ]
  },
  {
   "cell_type": "code",
   "execution_count": 11,
   "id": "25555fe0",
   "metadata": {},
   "outputs": [],
   "source": [
    "persons = pd.DataFrame(persons)"
   ]
  },
  {
   "cell_type": "markdown",
   "id": "dd7f7404",
   "metadata": {},
   "source": [
    "**Rows: ``loc``, ``iloc``**"
   ]
  },
  {
   "cell_type": "code",
   "execution_count": 19,
   "id": "3e3cd27c",
   "metadata": {},
   "outputs": [
    {
     "data": {
      "text/plain": [
       "4"
      ]
     },
     "execution_count": 19,
     "metadata": {},
     "output_type": "execute_result"
    }
   ],
   "source": [
    "len(persons)"
   ]
  },
  {
   "cell_type": "markdown",
   "id": "d99ce67e",
   "metadata": {},
   "source": [
    "**``iloc``: Integer Location**"
   ]
  },
  {
   "cell_type": "code",
   "execution_count": 20,
   "id": "0f088bfb",
   "metadata": {},
   "outputs": [
    {
     "data": {
      "text/plain": [
       "firstname           Johanna\n",
       "lastname      Faschingbauer\n",
       "email        caro@email.com\n",
       "age                      27\n",
       "Name: 1, dtype: object"
      ]
     },
     "execution_count": 20,
     "metadata": {},
     "output_type": "execute_result"
    }
   ],
   "source": [
    "persons.iloc[1]"
   ]
  },
  {
   "cell_type": "code",
   "execution_count": 21,
   "id": "cf19ac82",
   "metadata": {},
   "outputs": [
    {
     "data": {
      "text/plain": [
       "pandas.core.series.Series"
      ]
     },
     "execution_count": 21,
     "metadata": {},
     "output_type": "execute_result"
    }
   ],
   "source": [
    "type(persons.iloc[1])"
   ]
  },
  {
   "cell_type": "code",
   "execution_count": 22,
   "id": "1854eebd",
   "metadata": {},
   "outputs": [
    {
     "name": "stdout",
     "output_type": "stream",
     "text": [
      "single positional indexer is out-of-bounds <class 'IndexError'>\n"
     ]
    }
   ],
   "source": [
    "try:\n",
    "    persons.iloc[4]\n",
    "except Exception as e:\n",
    "    print(e, type(e))"
   ]
  },
  {
   "cell_type": "markdown",
   "id": "c68eb17d",
   "metadata": {},
   "source": [
    "**Row Is series** with column name as index"
   ]
  },
  {
   "cell_type": "markdown",
   "id": "f2b9d010",
   "metadata": {},
   "source": [
    "ref indexes jjj"
   ]
  },
  {
   "cell_type": "markdown",
   "id": "2e73f860",
   "metadata": {},
   "source": [
    "Note non-integer index type"
   ]
  },
  {
   "cell_type": "code",
   "execution_count": 23,
   "id": "ae3891b1",
   "metadata": {},
   "outputs": [],
   "source": [
    "row = persons.iloc[1]"
   ]
  },
  {
   "cell_type": "code",
   "execution_count": 24,
   "id": "391f4a84",
   "metadata": {},
   "outputs": [
    {
     "data": {
      "text/plain": [
       "firstname           Johanna\n",
       "lastname      Faschingbauer\n",
       "email        caro@email.com\n",
       "age                      27\n",
       "Name: 1, dtype: object"
      ]
     },
     "execution_count": 24,
     "metadata": {},
     "output_type": "execute_result"
    }
   ],
   "source": [
    "row"
   ]
  },
  {
   "cell_type": "code",
   "execution_count": 25,
   "id": "73b9cee2",
   "metadata": {},
   "outputs": [
    {
     "data": {
      "text/plain": [
       "'Johanna'"
      ]
     },
     "execution_count": 25,
     "metadata": {},
     "output_type": "execute_result"
    }
   ],
   "source": [
    "row.iloc[0]"
   ]
  },
  {
   "cell_type": "code",
   "execution_count": 26,
   "id": "eb2b05e0",
   "metadata": {},
   "outputs": [
    {
     "data": {
      "text/plain": [
       "'Johanna'"
      ]
     },
     "execution_count": 26,
     "metadata": {},
     "output_type": "execute_result"
    }
   ],
   "source": [
    "row.loc['firstname']"
   ]
  },
  {
   "cell_type": "markdown",
   "id": "e8406b99",
   "metadata": {},
   "source": [
    "Multiple rows"
   ]
  },
  {
   "cell_type": "code",
   "execution_count": 27,
   "id": "a8f74d03",
   "metadata": {},
   "outputs": [
    {
     "data": {
      "text/html": [
       "<div>\n",
       "<style scoped>\n",
       "    .dataframe tbody tr th:only-of-type {\n",
       "        vertical-align: middle;\n",
       "    }\n",
       "\n",
       "    .dataframe tbody tr th {\n",
       "        vertical-align: top;\n",
       "    }\n",
       "\n",
       "    .dataframe thead th {\n",
       "        text-align: right;\n",
       "    }\n",
       "</style>\n",
       "<table border=\"1\" class=\"dataframe\">\n",
       "  <thead>\n",
       "    <tr style=\"text-align: right;\">\n",
       "      <th></th>\n",
       "      <th>firstname</th>\n",
       "      <th>lastname</th>\n",
       "      <th>email</th>\n",
       "      <th>age</th>\n",
       "    </tr>\n",
       "  </thead>\n",
       "  <tbody>\n",
       "    <tr>\n",
       "      <th>0</th>\n",
       "      <td>Joerg</td>\n",
       "      <td>Faschingbauer</td>\n",
       "      <td>jf@faschingbauer.co.at</td>\n",
       "      <td>56</td>\n",
       "    </tr>\n",
       "    <tr>\n",
       "      <th>1</th>\n",
       "      <td>Johanna</td>\n",
       "      <td>Faschingbauer</td>\n",
       "      <td>caro@email.com</td>\n",
       "      <td>27</td>\n",
       "    </tr>\n",
       "  </tbody>\n",
       "</table>\n",
       "</div>"
      ],
      "text/plain": [
       "  firstname       lastname                   email  age\n",
       "0     Joerg  Faschingbauer  jf@faschingbauer.co.at   56\n",
       "1   Johanna  Faschingbauer          caro@email.com   27"
      ]
     },
     "execution_count": 27,
     "metadata": {},
     "output_type": "execute_result"
    }
   ],
   "source": [
    "persons.iloc[[0,1]]"
   ]
  },
  {
   "cell_type": "markdown",
   "id": "df01a45f",
   "metadata": {},
   "source": [
    "NOte index is again integer (it is a dataframe)"
   ]
  },
  {
   "cell_type": "markdown",
   "id": "660a86da",
   "metadata": {},
   "source": [
    "**``iloc``: Slicing**"
   ]
  },
  {
   "cell_type": "code",
   "execution_count": 28,
   "id": "d5f0c76e",
   "metadata": {},
   "outputs": [
    {
     "data": {
      "text/html": [
       "<div>\n",
       "<style scoped>\n",
       "    .dataframe tbody tr th:only-of-type {\n",
       "        vertical-align: middle;\n",
       "    }\n",
       "\n",
       "    .dataframe tbody tr th {\n",
       "        vertical-align: top;\n",
       "    }\n",
       "\n",
       "    .dataframe thead th {\n",
       "        text-align: right;\n",
       "    }\n",
       "</style>\n",
       "<table border=\"1\" class=\"dataframe\">\n",
       "  <thead>\n",
       "    <tr style=\"text-align: right;\">\n",
       "      <th></th>\n",
       "      <th>firstname</th>\n",
       "      <th>lastname</th>\n",
       "      <th>email</th>\n",
       "      <th>age</th>\n",
       "    </tr>\n",
       "  </thead>\n",
       "  <tbody>\n",
       "    <tr>\n",
       "      <th>0</th>\n",
       "      <td>Joerg</td>\n",
       "      <td>Faschingbauer</td>\n",
       "      <td>jf@faschingbauer.co.at</td>\n",
       "      <td>56</td>\n",
       "    </tr>\n",
       "    <tr>\n",
       "      <th>1</th>\n",
       "      <td>Johanna</td>\n",
       "      <td>Faschingbauer</td>\n",
       "      <td>caro@email.com</td>\n",
       "      <td>27</td>\n",
       "    </tr>\n",
       "  </tbody>\n",
       "</table>\n",
       "</div>"
      ],
      "text/plain": [
       "  firstname       lastname                   email  age\n",
       "0     Joerg  Faschingbauer  jf@faschingbauer.co.at   56\n",
       "1   Johanna  Faschingbauer          caro@email.com   27"
      ]
     },
     "execution_count": 28,
     "metadata": {},
     "output_type": "execute_result"
    }
   ],
   "source": [
    "persons.iloc[0:2]"
   ]
  },
  {
   "cell_type": "markdown",
   "id": "e6e459d5",
   "metadata": {},
   "source": [
    "**``iloc``: Selecting rows and columns**"
   ]
  },
  {
   "cell_type": "markdown",
   "id": "a51d2729",
   "metadata": {},
   "source": [
    "Row 1, column 2 (which is ``email``)"
   ]
  },
  {
   "cell_type": "code",
   "execution_count": 29,
   "id": "29e7423a",
   "metadata": {},
   "outputs": [
    {
     "data": {
      "text/plain": [
       "'caro@email.com'"
      ]
     },
     "execution_count": 29,
     "metadata": {},
     "output_type": "execute_result"
    }
   ],
   "source": [
    "persons.iloc[1, 2]"
   ]
  },
  {
   "cell_type": "markdown",
   "id": "50d2b57d",
   "metadata": {},
   "source": [
    "Rows 0 and 1, column 2 (``email``)"
   ]
  },
  {
   "cell_type": "code",
   "execution_count": 41,
   "id": "1d3dbd11",
   "metadata": {},
   "outputs": [
    {
     "data": {
      "text/plain": [
       "0    jf@faschingbauer.co.at\n",
       "1            caro@email.com\n",
       "Name: email, dtype: object"
      ]
     },
     "execution_count": 41,
     "metadata": {},
     "output_type": "execute_result"
    }
   ],
   "source": [
    "persons.iloc[[0,1], 2]"
   ]
  },
  {
   "cell_type": "code",
   "execution_count": 42,
   "id": "86cd2b37",
   "metadata": {},
   "outputs": [
    {
     "data": {
      "text/html": [
       "<div>\n",
       "<style scoped>\n",
       "    .dataframe tbody tr th:only-of-type {\n",
       "        vertical-align: middle;\n",
       "    }\n",
       "\n",
       "    .dataframe tbody tr th {\n",
       "        vertical-align: top;\n",
       "    }\n",
       "\n",
       "    .dataframe thead th {\n",
       "        text-align: right;\n",
       "    }\n",
       "</style>\n",
       "<table border=\"1\" class=\"dataframe\">\n",
       "  <thead>\n",
       "    <tr style=\"text-align: right;\">\n",
       "      <th></th>\n",
       "      <th>firstname</th>\n",
       "      <th>email</th>\n",
       "    </tr>\n",
       "  </thead>\n",
       "  <tbody>\n",
       "    <tr>\n",
       "      <th>0</th>\n",
       "      <td>Joerg</td>\n",
       "      <td>jf@faschingbauer.co.at</td>\n",
       "    </tr>\n",
       "    <tr>\n",
       "      <th>1</th>\n",
       "      <td>Johanna</td>\n",
       "      <td>caro@email.com</td>\n",
       "    </tr>\n",
       "  </tbody>\n",
       "</table>\n",
       "</div>"
      ],
      "text/plain": [
       "  firstname                   email\n",
       "0     Joerg  jf@faschingbauer.co.at\n",
       "1   Johanna          caro@email.com"
      ]
     },
     "execution_count": 42,
     "metadata": {},
     "output_type": "execute_result"
    }
   ],
   "source": [
    "persons.iloc[[0,1], [0, 2]]"
   ]
  },
  {
   "cell_type": "markdown",
   "id": "c41ecf08",
   "metadata": {},
   "source": [
    "**``iloc``: Slicing is Exclusive (like in Python, generally)**"
   ]
  },
  {
   "cell_type": "code",
   "execution_count": 32,
   "id": "22358081",
   "metadata": {},
   "outputs": [
    {
     "data": {
      "text/html": [
       "<div>\n",
       "<style scoped>\n",
       "    .dataframe tbody tr th:only-of-type {\n",
       "        vertical-align: middle;\n",
       "    }\n",
       "\n",
       "    .dataframe tbody tr th {\n",
       "        vertical-align: top;\n",
       "    }\n",
       "\n",
       "    .dataframe thead th {\n",
       "        text-align: right;\n",
       "    }\n",
       "</style>\n",
       "<table border=\"1\" class=\"dataframe\">\n",
       "  <thead>\n",
       "    <tr style=\"text-align: right;\">\n",
       "      <th></th>\n",
       "      <th>firstname</th>\n",
       "      <th>lastname</th>\n",
       "      <th>email</th>\n",
       "    </tr>\n",
       "  </thead>\n",
       "  <tbody>\n",
       "    <tr>\n",
       "      <th>0</th>\n",
       "      <td>Joerg</td>\n",
       "      <td>Faschingbauer</td>\n",
       "      <td>jf@faschingbauer.co.at</td>\n",
       "    </tr>\n",
       "    <tr>\n",
       "      <th>1</th>\n",
       "      <td>Johanna</td>\n",
       "      <td>Faschingbauer</td>\n",
       "      <td>caro@email.com</td>\n",
       "    </tr>\n",
       "  </tbody>\n",
       "</table>\n",
       "</div>"
      ],
      "text/plain": [
       "  firstname       lastname                   email\n",
       "0     Joerg  Faschingbauer  jf@faschingbauer.co.at\n",
       "1   Johanna  Faschingbauer          caro@email.com"
      ]
     },
     "execution_count": 32,
     "metadata": {},
     "output_type": "execute_result"
    }
   ],
   "source": [
    "persons.iloc[0:2, 0:3]"
   ]
  },
  {
   "cell_type": "markdown",
   "id": "d450bbad",
   "metadata": {},
   "source": [
    "**Summary**: ``iloc``\n",
    "\n",
    "* Works with integers only\n",
    "* Cannot even specify columns by their names\n",
    "* Efficient though"
   ]
  },
  {
   "cell_type": "markdown",
   "id": "ab77c903",
   "metadata": {},
   "source": [
    "**``loc``: Rows (and columns) by Label**"
   ]
  },
  {
   "cell_type": "markdown",
   "id": "8b5f4934",
   "metadata": {},
   "source": [
    "By label? Default index is integer, so ... just the same as ``iloc``"
   ]
  },
  {
   "cell_type": "code",
   "execution_count": 33,
   "id": "d45b855e",
   "metadata": {
    "scrolled": true
   },
   "outputs": [
    {
     "data": {
      "text/plain": [
       "firstname                     Joerg\n",
       "lastname              Faschingbauer\n",
       "email        jf@faschingbauer.co.at\n",
       "age                              56\n",
       "Name: 0, dtype: object"
      ]
     },
     "execution_count": 33,
     "metadata": {},
     "output_type": "execute_result"
    }
   ],
   "source": [
    "persons.loc[0]"
   ]
  },
  {
   "cell_type": "code",
   "execution_count": 43,
   "id": "9094b865",
   "metadata": {},
   "outputs": [
    {
     "data": {
      "text/html": [
       "<div>\n",
       "<style scoped>\n",
       "    .dataframe tbody tr th:only-of-type {\n",
       "        vertical-align: middle;\n",
       "    }\n",
       "\n",
       "    .dataframe tbody tr th {\n",
       "        vertical-align: top;\n",
       "    }\n",
       "\n",
       "    .dataframe thead th {\n",
       "        text-align: right;\n",
       "    }\n",
       "</style>\n",
       "<table border=\"1\" class=\"dataframe\">\n",
       "  <thead>\n",
       "    <tr style=\"text-align: right;\">\n",
       "      <th></th>\n",
       "      <th>firstname</th>\n",
       "      <th>lastname</th>\n",
       "      <th>email</th>\n",
       "      <th>age</th>\n",
       "    </tr>\n",
       "  </thead>\n",
       "  <tbody>\n",
       "    <tr>\n",
       "      <th>0</th>\n",
       "      <td>Joerg</td>\n",
       "      <td>Faschingbauer</td>\n",
       "      <td>jf@faschingbauer.co.at</td>\n",
       "      <td>56</td>\n",
       "    </tr>\n",
       "    <tr>\n",
       "      <th>1</th>\n",
       "      <td>Johanna</td>\n",
       "      <td>Faschingbauer</td>\n",
       "      <td>caro@email.com</td>\n",
       "      <td>27</td>\n",
       "    </tr>\n",
       "  </tbody>\n",
       "</table>\n",
       "</div>"
      ],
      "text/plain": [
       "  firstname       lastname                   email  age\n",
       "0     Joerg  Faschingbauer  jf@faschingbauer.co.at   56\n",
       "1   Johanna  Faschingbauer          caro@email.com   27"
      ]
     },
     "execution_count": 43,
     "metadata": {},
     "output_type": "execute_result"
    }
   ],
   "source": [
    "persons.loc[[0,1]]"
   ]
  },
  {
   "cell_type": "code",
   "execution_count": 45,
   "id": "987abcdf",
   "metadata": {},
   "outputs": [
    {
     "data": {
      "text/html": [
       "<div>\n",
       "<style scoped>\n",
       "    .dataframe tbody tr th:only-of-type {\n",
       "        vertical-align: middle;\n",
       "    }\n",
       "\n",
       "    .dataframe tbody tr th {\n",
       "        vertical-align: top;\n",
       "    }\n",
       "\n",
       "    .dataframe thead th {\n",
       "        text-align: right;\n",
       "    }\n",
       "</style>\n",
       "<table border=\"1\" class=\"dataframe\">\n",
       "  <thead>\n",
       "    <tr style=\"text-align: right;\">\n",
       "      <th></th>\n",
       "      <th>firstname</th>\n",
       "      <th>lastname</th>\n",
       "      <th>email</th>\n",
       "      <th>age</th>\n",
       "    </tr>\n",
       "  </thead>\n",
       "  <tbody>\n",
       "    <tr>\n",
       "      <th>0</th>\n",
       "      <td>Joerg</td>\n",
       "      <td>Faschingbauer</td>\n",
       "      <td>jf@faschingbauer.co.at</td>\n",
       "      <td>56</td>\n",
       "    </tr>\n",
       "    <tr>\n",
       "      <th>1</th>\n",
       "      <td>Johanna</td>\n",
       "      <td>Faschingbauer</td>\n",
       "      <td>caro@email.com</td>\n",
       "      <td>27</td>\n",
       "    </tr>\n",
       "  </tbody>\n",
       "</table>\n",
       "</div>"
      ],
      "text/plain": [
       "  firstname       lastname                   email  age\n",
       "0     Joerg  Faschingbauer  jf@faschingbauer.co.at   56\n",
       "1   Johanna  Faschingbauer          caro@email.com   27"
      ]
     },
     "execution_count": 45,
     "metadata": {},
     "output_type": "execute_result"
    }
   ],
   "source": [
    "persons.loc[0:1]"
   ]
  },
  {
   "cell_type": "markdown",
   "id": "d65bf4de",
   "metadata": {},
   "source": [
    "But ... labeled columns (an filters ... and ...) ... later jjj"
   ]
  },
  {
   "cell_type": "code",
   "execution_count": 46,
   "id": "91ae1f43",
   "metadata": {},
   "outputs": [
    {
     "data": {
      "text/plain": [
       "firstname    Joerg\n",
       "age             56\n",
       "Name: 0, dtype: object"
      ]
     },
     "execution_count": 46,
     "metadata": {},
     "output_type": "execute_result"
    }
   ],
   "source": [
    "persons.loc[0, ['firstname', 'age']]"
   ]
  },
  {
   "cell_type": "code",
   "execution_count": 47,
   "id": "df9262c9",
   "metadata": {},
   "outputs": [
    {
     "data": {
      "text/html": [
       "<div>\n",
       "<style scoped>\n",
       "    .dataframe tbody tr th:only-of-type {\n",
       "        vertical-align: middle;\n",
       "    }\n",
       "\n",
       "    .dataframe tbody tr th {\n",
       "        vertical-align: top;\n",
       "    }\n",
       "\n",
       "    .dataframe thead th {\n",
       "        text-align: right;\n",
       "    }\n",
       "</style>\n",
       "<table border=\"1\" class=\"dataframe\">\n",
       "  <thead>\n",
       "    <tr style=\"text-align: right;\">\n",
       "      <th></th>\n",
       "      <th>firstname</th>\n",
       "      <th>age</th>\n",
       "    </tr>\n",
       "  </thead>\n",
       "  <tbody>\n",
       "    <tr>\n",
       "      <th>0</th>\n",
       "      <td>Joerg</td>\n",
       "      <td>56</td>\n",
       "    </tr>\n",
       "    <tr>\n",
       "      <th>1</th>\n",
       "      <td>Johanna</td>\n",
       "      <td>27</td>\n",
       "    </tr>\n",
       "  </tbody>\n",
       "</table>\n",
       "</div>"
      ],
      "text/plain": [
       "  firstname  age\n",
       "0     Joerg   56\n",
       "1   Johanna   27"
      ]
     },
     "execution_count": 47,
     "metadata": {},
     "output_type": "execute_result"
    }
   ],
   "source": [
    "persons.loc[[0, 1], ['firstname', 'age']]"
   ]
  },
  {
   "cell_type": "markdown",
   "id": "20b13498",
   "metadata": {},
   "source": [
    "**``loc``: Slicing is inclusive!**"
   ]
  },
  {
   "cell_type": "code",
   "execution_count": 37,
   "id": "d81fc85f",
   "metadata": {},
   "outputs": [
    {
     "data": {
      "text/html": [
       "<div>\n",
       "<style scoped>\n",
       "    .dataframe tbody tr th:only-of-type {\n",
       "        vertical-align: middle;\n",
       "    }\n",
       "\n",
       "    .dataframe tbody tr th {\n",
       "        vertical-align: top;\n",
       "    }\n",
       "\n",
       "    .dataframe thead th {\n",
       "        text-align: right;\n",
       "    }\n",
       "</style>\n",
       "<table border=\"1\" class=\"dataframe\">\n",
       "  <thead>\n",
       "    <tr style=\"text-align: right;\">\n",
       "      <th></th>\n",
       "      <th>firstname</th>\n",
       "      <th>lastname</th>\n",
       "      <th>email</th>\n",
       "      <th>age</th>\n",
       "    </tr>\n",
       "  </thead>\n",
       "  <tbody>\n",
       "    <tr>\n",
       "      <th>0</th>\n",
       "      <td>Joerg</td>\n",
       "      <td>Faschingbauer</td>\n",
       "      <td>jf@faschingbauer.co.at</td>\n",
       "      <td>56</td>\n",
       "    </tr>\n",
       "    <tr>\n",
       "      <th>1</th>\n",
       "      <td>Johanna</td>\n",
       "      <td>Faschingbauer</td>\n",
       "      <td>caro@email.com</td>\n",
       "      <td>27</td>\n",
       "    </tr>\n",
       "    <tr>\n",
       "      <th>2</th>\n",
       "      <td>Caro</td>\n",
       "      <td>Faschingbauer</td>\n",
       "      <td>johanna@email.com</td>\n",
       "      <td>25</td>\n",
       "    </tr>\n",
       "  </tbody>\n",
       "</table>\n",
       "</div>"
      ],
      "text/plain": [
       "  firstname       lastname                   email  age\n",
       "0     Joerg  Faschingbauer  jf@faschingbauer.co.at   56\n",
       "1   Johanna  Faschingbauer          caro@email.com   27\n",
       "2      Caro  Faschingbauer       johanna@email.com   25"
      ]
     },
     "execution_count": 37,
     "metadata": {},
     "output_type": "execute_result"
    }
   ],
   "source": [
    "persons.loc[0:2, 'firstname':'age']"
   ]
  },
  {
   "cell_type": "markdown",
   "id": "b203d43e",
   "metadata": {},
   "source": [
    "Blah not pythonic, but user friendly. As pandas in general -> confusing at times (why iloc[], loc[], and not loc(), iloc())"
   ]
  },
  {
   "cell_type": "markdown",
   "id": "bd2ce22b",
   "metadata": {},
   "source": [
    "## Filters"
   ]
  },
  {
   "cell_type": "markdown",
   "id": "469f42a9",
   "metadata": {},
   "source": [
    "### Blah"
   ]
  },
  {
   "cell_type": "code",
   "execution_count": 51,
   "id": "e24b533f",
   "metadata": {},
   "outputs": [
    {
     "data": {
      "text/html": [
       "<div>\n",
       "<style scoped>\n",
       "    .dataframe tbody tr th:only-of-type {\n",
       "        vertical-align: middle;\n",
       "    }\n",
       "\n",
       "    .dataframe tbody tr th {\n",
       "        vertical-align: top;\n",
       "    }\n",
       "\n",
       "    .dataframe thead th {\n",
       "        text-align: right;\n",
       "    }\n",
       "</style>\n",
       "<table border=\"1\" class=\"dataframe\">\n",
       "  <thead>\n",
       "    <tr style=\"text-align: right;\">\n",
       "      <th></th>\n",
       "      <th>firstname</th>\n",
       "      <th>lastname</th>\n",
       "      <th>email</th>\n",
       "      <th>age</th>\n",
       "    </tr>\n",
       "  </thead>\n",
       "  <tbody>\n",
       "    <tr>\n",
       "      <th>0</th>\n",
       "      <td>Joerg</td>\n",
       "      <td>Faschingbauer</td>\n",
       "      <td>jf@faschingbauer.co.at</td>\n",
       "      <td>56</td>\n",
       "    </tr>\n",
       "    <tr>\n",
       "      <th>1</th>\n",
       "      <td>Johanna</td>\n",
       "      <td>Faschingbauer</td>\n",
       "      <td>caro@email.com</td>\n",
       "      <td>27</td>\n",
       "    </tr>\n",
       "    <tr>\n",
       "      <th>2</th>\n",
       "      <td>Caro</td>\n",
       "      <td>Faschingbauer</td>\n",
       "      <td>johanna@email.com</td>\n",
       "      <td>25</td>\n",
       "    </tr>\n",
       "  </tbody>\n",
       "</table>\n",
       "</div>"
      ],
      "text/plain": [
       "  firstname       lastname                   email  age\n",
       "0     Joerg  Faschingbauer  jf@faschingbauer.co.at   56\n",
       "1   Johanna  Faschingbauer          caro@email.com   27\n",
       "2      Caro  Faschingbauer       johanna@email.com   25"
      ]
     },
     "execution_count": 51,
     "metadata": {},
     "output_type": "execute_result"
    }
   ],
   "source": [
    "persons.loc[persons['lastname'] == 'Faschingbauer']"
   ]
  },
  {
   "cell_type": "markdown",
   "id": "e2d19847",
   "metadata": {},
   "source": [
    "### Simple Equality"
   ]
  },
  {
   "cell_type": "code",
   "execution_count": 53,
   "id": "dc79e0d0",
   "metadata": {},
   "outputs": [
    {
     "data": {
      "text/plain": [
       "0     True\n",
       "1     True\n",
       "2     True\n",
       "3    False\n",
       "Name: lastname, dtype: bool"
      ]
     },
     "execution_count": 53,
     "metadata": {},
     "output_type": "execute_result"
    }
   ],
   "source": [
    "persons['lastname'] == 'Faschingbauer'"
   ]
  },
  {
   "cell_type": "code",
   "execution_count": 55,
   "id": "00b80adc",
   "metadata": {},
   "outputs": [],
   "source": [
    "flt = persons['lastname'] == 'Faschingbauer'"
   ]
  },
  {
   "cell_type": "code",
   "execution_count": 58,
   "id": "39911a70",
   "metadata": {},
   "outputs": [
    {
     "data": {
      "text/plain": [
       "0     True\n",
       "1     True\n",
       "2     True\n",
       "3    False\n",
       "Name: lastname, dtype: bool"
      ]
     },
     "execution_count": 58,
     "metadata": {},
     "output_type": "execute_result"
    }
   ],
   "source": [
    "flt"
   ]
  },
  {
   "cell_type": "code",
   "execution_count": 56,
   "id": "9e3af383",
   "metadata": {},
   "outputs": [
    {
     "data": {
      "text/plain": [
       "pandas.core.series.Series"
      ]
     },
     "execution_count": 56,
     "metadata": {},
     "output_type": "execute_result"
    }
   ],
   "source": [
    "type(flt)"
   ]
  },
  {
   "cell_type": "code",
   "execution_count": 59,
   "id": "1a391ea5",
   "metadata": {},
   "outputs": [
    {
     "data": {
      "text/html": [
       "<div>\n",
       "<style scoped>\n",
       "    .dataframe tbody tr th:only-of-type {\n",
       "        vertical-align: middle;\n",
       "    }\n",
       "\n",
       "    .dataframe tbody tr th {\n",
       "        vertical-align: top;\n",
       "    }\n",
       "\n",
       "    .dataframe thead th {\n",
       "        text-align: right;\n",
       "    }\n",
       "</style>\n",
       "<table border=\"1\" class=\"dataframe\">\n",
       "  <thead>\n",
       "    <tr style=\"text-align: right;\">\n",
       "      <th></th>\n",
       "      <th>firstname</th>\n",
       "      <th>lastname</th>\n",
       "      <th>email</th>\n",
       "      <th>age</th>\n",
       "    </tr>\n",
       "  </thead>\n",
       "  <tbody>\n",
       "    <tr>\n",
       "      <th>0</th>\n",
       "      <td>Joerg</td>\n",
       "      <td>Faschingbauer</td>\n",
       "      <td>jf@faschingbauer.co.at</td>\n",
       "      <td>56</td>\n",
       "    </tr>\n",
       "    <tr>\n",
       "      <th>1</th>\n",
       "      <td>Johanna</td>\n",
       "      <td>Faschingbauer</td>\n",
       "      <td>caro@email.com</td>\n",
       "      <td>27</td>\n",
       "    </tr>\n",
       "    <tr>\n",
       "      <th>2</th>\n",
       "      <td>Caro</td>\n",
       "      <td>Faschingbauer</td>\n",
       "      <td>johanna@email.com</td>\n",
       "      <td>25</td>\n",
       "    </tr>\n",
       "  </tbody>\n",
       "</table>\n",
       "</div>"
      ],
      "text/plain": [
       "  firstname       lastname                   email  age\n",
       "0     Joerg  Faschingbauer  jf@faschingbauer.co.at   56\n",
       "1   Johanna  Faschingbauer          caro@email.com   27\n",
       "2      Caro  Faschingbauer       johanna@email.com   25"
      ]
     },
     "execution_count": 59,
     "metadata": {},
     "output_type": "execute_result"
    }
   ],
   "source": [
    "persons[flt]"
   ]
  },
  {
   "cell_type": "markdown",
   "id": "36758ad5",
   "metadata": {},
   "source": [
    "**Better:** use ``loc[]`` to avoid confusion with column addressing (we want *rows*)"
   ]
  },
  {
   "cell_type": "code",
   "execution_count": 60,
   "id": "8401ded0",
   "metadata": {},
   "outputs": [
    {
     "data": {
      "text/html": [
       "<div>\n",
       "<style scoped>\n",
       "    .dataframe tbody tr th:only-of-type {\n",
       "        vertical-align: middle;\n",
       "    }\n",
       "\n",
       "    .dataframe tbody tr th {\n",
       "        vertical-align: top;\n",
       "    }\n",
       "\n",
       "    .dataframe thead th {\n",
       "        text-align: right;\n",
       "    }\n",
       "</style>\n",
       "<table border=\"1\" class=\"dataframe\">\n",
       "  <thead>\n",
       "    <tr style=\"text-align: right;\">\n",
       "      <th></th>\n",
       "      <th>firstname</th>\n",
       "      <th>lastname</th>\n",
       "      <th>email</th>\n",
       "      <th>age</th>\n",
       "    </tr>\n",
       "  </thead>\n",
       "  <tbody>\n",
       "    <tr>\n",
       "      <th>0</th>\n",
       "      <td>Joerg</td>\n",
       "      <td>Faschingbauer</td>\n",
       "      <td>jf@faschingbauer.co.at</td>\n",
       "      <td>56</td>\n",
       "    </tr>\n",
       "    <tr>\n",
       "      <th>1</th>\n",
       "      <td>Johanna</td>\n",
       "      <td>Faschingbauer</td>\n",
       "      <td>caro@email.com</td>\n",
       "      <td>27</td>\n",
       "    </tr>\n",
       "    <tr>\n",
       "      <th>2</th>\n",
       "      <td>Caro</td>\n",
       "      <td>Faschingbauer</td>\n",
       "      <td>johanna@email.com</td>\n",
       "      <td>25</td>\n",
       "    </tr>\n",
       "  </tbody>\n",
       "</table>\n",
       "</div>"
      ],
      "text/plain": [
       "  firstname       lastname                   email  age\n",
       "0     Joerg  Faschingbauer  jf@faschingbauer.co.at   56\n",
       "1   Johanna  Faschingbauer          caro@email.com   27\n",
       "2      Caro  Faschingbauer       johanna@email.com   25"
      ]
     },
     "execution_count": 60,
     "metadata": {},
     "output_type": "execute_result"
    }
   ],
   "source": [
    "persons.loc[flt]"
   ]
  },
  {
   "cell_type": "markdown",
   "id": "4bd2cc8f",
   "metadata": {},
   "source": [
    "**Better again:** ``loc`` allows us to select the columns that we want"
   ]
  },
  {
   "cell_type": "code",
   "execution_count": 66,
   "id": "b45f7110",
   "metadata": {},
   "outputs": [
    {
     "data": {
      "text/plain": [
       "0      Joerg\n",
       "3    Philipp\n",
       "Name: firstname, dtype: object"
      ]
     },
     "execution_count": 66,
     "metadata": {},
     "output_type": "execute_result"
    }
   ],
   "source": [
    "persons.loc[flt, 'firstname']"
   ]
  },
  {
   "cell_type": "markdown",
   "id": "08a9709b",
   "metadata": {},
   "source": [
    "### Boolean Expressions"
   ]
  },
  {
   "cell_type": "code",
   "execution_count": 68,
   "id": "09151f8e",
   "metadata": {},
   "outputs": [],
   "source": [
    "flt = (persons['firstname'] == 'Joerg') & (persons['lastname'] == 'Faschingbauer') | (persons['firstname'] == 'Philipp')"
   ]
  },
  {
   "cell_type": "markdown",
   "id": "f1868415",
   "metadata": {},
   "source": [
    "**Attention**: braces are important because '&' binds stronger than '=='. This is bad."
   ]
  },
  {
   "cell_type": "code",
   "execution_count": 64,
   "id": "c657acfe",
   "metadata": {},
   "outputs": [
    {
     "data": {
      "text/html": [
       "<div>\n",
       "<style scoped>\n",
       "    .dataframe tbody tr th:only-of-type {\n",
       "        vertical-align: middle;\n",
       "    }\n",
       "\n",
       "    .dataframe tbody tr th {\n",
       "        vertical-align: top;\n",
       "    }\n",
       "\n",
       "    .dataframe thead th {\n",
       "        text-align: right;\n",
       "    }\n",
       "</style>\n",
       "<table border=\"1\" class=\"dataframe\">\n",
       "  <thead>\n",
       "    <tr style=\"text-align: right;\">\n",
       "      <th></th>\n",
       "      <th>firstname</th>\n",
       "      <th>lastname</th>\n",
       "      <th>email</th>\n",
       "      <th>age</th>\n",
       "    </tr>\n",
       "  </thead>\n",
       "  <tbody>\n",
       "    <tr>\n",
       "      <th>0</th>\n",
       "      <td>Joerg</td>\n",
       "      <td>Faschingbauer</td>\n",
       "      <td>jf@faschingbauer.co.at</td>\n",
       "      <td>56</td>\n",
       "    </tr>\n",
       "    <tr>\n",
       "      <th>3</th>\n",
       "      <td>Philipp</td>\n",
       "      <td>Lichtenberger</td>\n",
       "      <td>philipp@email.com</td>\n",
       "      <td>37</td>\n",
       "    </tr>\n",
       "  </tbody>\n",
       "</table>\n",
       "</div>"
      ],
      "text/plain": [
       "  firstname       lastname                   email  age\n",
       "0     Joerg  Faschingbauer  jf@faschingbauer.co.at   56\n",
       "3   Philipp  Lichtenberger       philipp@email.com   37"
      ]
     },
     "execution_count": 64,
     "metadata": {},
     "output_type": "execute_result"
    }
   ],
   "source": [
    "persons.loc[flt]"
   ]
  },
  {
   "cell_type": "markdown",
   "id": "3a3c9939",
   "metadata": {},
   "source": [
    "**Negation**: ``~``"
   ]
  },
  {
   "cell_type": "code",
   "execution_count": 69,
   "id": "68836479",
   "metadata": {},
   "outputs": [
    {
     "data": {
      "text/html": [
       "<div>\n",
       "<style scoped>\n",
       "    .dataframe tbody tr th:only-of-type {\n",
       "        vertical-align: middle;\n",
       "    }\n",
       "\n",
       "    .dataframe tbody tr th {\n",
       "        vertical-align: top;\n",
       "    }\n",
       "\n",
       "    .dataframe thead th {\n",
       "        text-align: right;\n",
       "    }\n",
       "</style>\n",
       "<table border=\"1\" class=\"dataframe\">\n",
       "  <thead>\n",
       "    <tr style=\"text-align: right;\">\n",
       "      <th></th>\n",
       "      <th>firstname</th>\n",
       "      <th>lastname</th>\n",
       "      <th>email</th>\n",
       "      <th>age</th>\n",
       "    </tr>\n",
       "  </thead>\n",
       "  <tbody>\n",
       "    <tr>\n",
       "      <th>1</th>\n",
       "      <td>Johanna</td>\n",
       "      <td>Faschingbauer</td>\n",
       "      <td>caro@email.com</td>\n",
       "      <td>27</td>\n",
       "    </tr>\n",
       "    <tr>\n",
       "      <th>2</th>\n",
       "      <td>Caro</td>\n",
       "      <td>Faschingbauer</td>\n",
       "      <td>johanna@email.com</td>\n",
       "      <td>25</td>\n",
       "    </tr>\n",
       "  </tbody>\n",
       "</table>\n",
       "</div>"
      ],
      "text/plain": [
       "  firstname       lastname              email  age\n",
       "1   Johanna  Faschingbauer     caro@email.com   27\n",
       "2      Caro  Faschingbauer  johanna@email.com   25"
      ]
     },
     "execution_count": 69,
     "metadata": {},
     "output_type": "execute_result"
    }
   ],
   "source": [
    "persons.loc[~flt]"
   ]
  },
  {
   "cell_type": "markdown",
   "id": "0a371e23",
   "metadata": {},
   "source": [
    "### Neat Helpers"
   ]
  },
  {
   "cell_type": "code",
   "execution_count": 70,
   "id": "5568b62d",
   "metadata": {},
   "outputs": [
    {
     "data": {
      "text/html": [
       "<div>\n",
       "<style scoped>\n",
       "    .dataframe tbody tr th:only-of-type {\n",
       "        vertical-align: middle;\n",
       "    }\n",
       "\n",
       "    .dataframe tbody tr th {\n",
       "        vertical-align: top;\n",
       "    }\n",
       "\n",
       "    .dataframe thead th {\n",
       "        text-align: right;\n",
       "    }\n",
       "</style>\n",
       "<table border=\"1\" class=\"dataframe\">\n",
       "  <thead>\n",
       "    <tr style=\"text-align: right;\">\n",
       "      <th></th>\n",
       "      <th>firstname</th>\n",
       "      <th>lastname</th>\n",
       "      <th>email</th>\n",
       "      <th>age</th>\n",
       "    </tr>\n",
       "  </thead>\n",
       "  <tbody>\n",
       "    <tr>\n",
       "      <th>2</th>\n",
       "      <td>Caro</td>\n",
       "      <td>Faschingbauer</td>\n",
       "      <td>johanna@email.com</td>\n",
       "      <td>25</td>\n",
       "    </tr>\n",
       "    <tr>\n",
       "      <th>3</th>\n",
       "      <td>Philipp</td>\n",
       "      <td>Lichtenberger</td>\n",
       "      <td>philipp@email.com</td>\n",
       "      <td>37</td>\n",
       "    </tr>\n",
       "  </tbody>\n",
       "</table>\n",
       "</div>"
      ],
      "text/plain": [
       "  firstname       lastname              email  age\n",
       "2      Caro  Faschingbauer  johanna@email.com   25\n",
       "3   Philipp  Lichtenberger  philipp@email.com   37"
      ]
     },
     "execution_count": 70,
     "metadata": {},
     "output_type": "execute_result"
    }
   ],
   "source": [
    "flt = persons['firstname'].isin(['Caro', 'Philipp'])\n",
    "persons[flt]"
   ]
  },
  {
   "cell_type": "code",
   "execution_count": 72,
   "id": "7d32c0a3",
   "metadata": {},
   "outputs": [
    {
     "data": {
      "text/html": [
       "<div>\n",
       "<style scoped>\n",
       "    .dataframe tbody tr th:only-of-type {\n",
       "        vertical-align: middle;\n",
       "    }\n",
       "\n",
       "    .dataframe tbody tr th {\n",
       "        vertical-align: top;\n",
       "    }\n",
       "\n",
       "    .dataframe thead th {\n",
       "        text-align: right;\n",
       "    }\n",
       "</style>\n",
       "<table border=\"1\" class=\"dataframe\">\n",
       "  <thead>\n",
       "    <tr style=\"text-align: right;\">\n",
       "      <th></th>\n",
       "      <th>firstname</th>\n",
       "      <th>lastname</th>\n",
       "      <th>email</th>\n",
       "      <th>age</th>\n",
       "    </tr>\n",
       "  </thead>\n",
       "  <tbody>\n",
       "    <tr>\n",
       "      <th>0</th>\n",
       "      <td>Joerg</td>\n",
       "      <td>Faschingbauer</td>\n",
       "      <td>jf@faschingbauer.co.at</td>\n",
       "      <td>56</td>\n",
       "    </tr>\n",
       "    <tr>\n",
       "      <th>1</th>\n",
       "      <td>Johanna</td>\n",
       "      <td>Faschingbauer</td>\n",
       "      <td>caro@email.com</td>\n",
       "      <td>27</td>\n",
       "    </tr>\n",
       "  </tbody>\n",
       "</table>\n",
       "</div>"
      ],
      "text/plain": [
       "  firstname       lastname                   email  age\n",
       "0     Joerg  Faschingbauer  jf@faschingbauer.co.at   56\n",
       "1   Johanna  Faschingbauer          caro@email.com   27"
      ]
     },
     "execution_count": 72,
     "metadata": {},
     "output_type": "execute_result"
    }
   ],
   "source": [
    "flt = persons['firstname'].str.startswith('J')\n",
    "persons[flt]"
   ]
  },
  {
   "cell_type": "markdown",
   "id": "4ffd6d57",
   "metadata": {},
   "source": [
    "### Updating"
   ]
  },
  {
   "cell_type": "markdown",
   "id": "321d86a7",
   "metadata": {},
   "source": [
    "#### Straightforward: assign modified copy of Series back into DataFrame"
   ]
  },
  {
   "cell_type": "code",
   "execution_count": null,
   "id": "7473069d",
   "metadata": {},
   "outputs": [],
   "source": [
    "df2 = df.copy()"
   ]
  },
  {
   "cell_type": "code",
   "execution_count": null,
   "id": "fac0682f",
   "metadata": {},
   "outputs": [],
   "source": [
    "df2['firstname'] = df2['firstname'].str.upper()"
   ]
  },
  {
   "cell_type": "code",
   "execution_count": null,
   "id": "afc8c698",
   "metadata": {},
   "outputs": [],
   "source": [
    "df2"
   ]
  },
  {
   "cell_type": "markdown",
   "id": "02408e6f",
   "metadata": {},
   "source": [
    "#### Apply On Series"
   ]
  },
  {
   "cell_type": "code",
   "execution_count": null,
   "id": "a631e824",
   "metadata": {},
   "outputs": [],
   "source": [
    "df['firstname'].apply(len)"
   ]
  },
  {
   "cell_type": "code",
   "execution_count": null,
   "id": "a4b75bbd",
   "metadata": {},
   "outputs": [],
   "source": [
    "def upper(s):\n",
    "    return s.upper()"
   ]
  },
  {
   "cell_type": "code",
   "execution_count": null,
   "id": "1dda505e",
   "metadata": {},
   "outputs": [],
   "source": [
    "df['firstname'].apply(upper)"
   ]
  },
  {
   "cell_type": "markdown",
   "id": "a4ee71c1",
   "metadata": {},
   "source": [
    "#### Apply On Entire DataFrame"
   ]
  },
  {
   "cell_type": "markdown",
   "id": "07da9983",
   "metadata": {},
   "source": [
    "Default direction: 'rows' -> length of each column"
   ]
  },
  {
   "cell_type": "code",
   "execution_count": null,
   "id": "2952c193",
   "metadata": {},
   "outputs": [],
   "source": [
    "df.apply(len)"
   ]
  },
  {
   "cell_type": "code",
   "execution_count": null,
   "id": "31844e47",
   "metadata": {},
   "outputs": [],
   "source": [
    "df.apply(len, axis='columns')"
   ]
  },
  {
   "cell_type": "markdown",
   "id": "0cc03f14",
   "metadata": {},
   "source": [
    "#### ``applymap``: Each Element of DataFrama"
   ]
  },
  {
   "cell_type": "markdown",
   "id": "c120e8dc",
   "metadata": {},
   "source": [
    "### Add Rows: Assign To New Index"
   ]
  },
  {
   "cell_type": "code",
   "execution_count": null,
   "id": "a6554e35",
   "metadata": {},
   "outputs": [],
   "source": [
    "df2 = df.copy()"
   ]
  },
  {
   "cell_type": "markdown",
   "id": "ce6aa907",
   "metadata": {},
   "source": [
    "Assign to one-past-last row with ``loc[]`` (doing the same with ``iloc[]`` would appear more logical, but it refuses to \"enlarge the object\")"
   ]
  },
  {
   "cell_type": "code",
   "execution_count": null,
   "id": "25c1d326",
   "metadata": {},
   "outputs": [],
   "source": [
    "df2.loc[len(df2)] = ('Isolde', 'Haubentaucher', '666608091972', 50)"
   ]
  },
  {
   "cell_type": "code",
   "execution_count": null,
   "id": "a85acc22",
   "metadata": {},
   "outputs": [],
   "source": [
    "df2"
   ]
  },
  {
   "cell_type": "markdown",
   "id": "9a149a17",
   "metadata": {},
   "source": [
    "### Add Rows: ``append()``"
   ]
  },
  {
   "cell_type": "markdown",
   "id": "ac7480d7",
   "metadata": {},
   "source": [
    "Would be most expressive, but is deprecated"
   ]
  },
  {
   "cell_type": "markdown",
   "id": "43952f12",
   "metadata": {},
   "source": [
    "### Add Rows: Concatenating Frames"
   ]
  },
  {
   "cell_type": "markdown",
   "id": "90061b1f",
   "metadata": {},
   "source": [
    "This appears to be the most recommended approach"
   ]
  },
  {
   "cell_type": "code",
   "execution_count": null,
   "id": "9a603ccc",
   "metadata": {},
   "outputs": [],
   "source": [
    "df.columns"
   ]
  },
  {
   "cell_type": "code",
   "execution_count": null,
   "id": "7534a647",
   "metadata": {},
   "outputs": [],
   "source": [
    "new_users = pd.DataFrame({'firstname': ['Isolde', 'Saskia'], 'lastname': ['Haubentaucher', 'Haubentaucher'], 'svnr': ['666608091972', '456710042003'], 'age': [50, 19]})"
   ]
  },
  {
   "cell_type": "code",
   "execution_count": null,
   "id": "5a4e9eed",
   "metadata": {},
   "outputs": [],
   "source": [
    "df_whole = pd.concat([df, new_users])"
   ]
  },
  {
   "cell_type": "code",
   "execution_count": null,
   "id": "b00a4991",
   "metadata": {},
   "outputs": [],
   "source": [
    "df_whole"
   ]
  },
  {
   "cell_type": "markdown",
   "id": "5f4448b1",
   "metadata": {},
   "source": [
    "### Groups, Aggregation"
   ]
  },
  {
   "cell_type": "markdown",
   "id": "3db5d178",
   "metadata": {},
   "source": [
    "#### Naive Approach: Separate Filter for each possible value"
   ]
  },
  {
   "cell_type": "code",
   "execution_count": null,
   "id": "53ae5d7c",
   "metadata": {},
   "outputs": [],
   "source": [
    "flt = df['lastname'] == 'Faschingbauer'\n",
    "df.loc[flt, 'age'].mean()"
   ]
  },
  {
   "cell_type": "code",
   "execution_count": null,
   "id": "baef1d49",
   "metadata": {},
   "outputs": [],
   "source": [
    "flt = df['lastname'] == 'Lichtenberger'\n",
    "df.loc[flt, 'age'].mean()"
   ]
  },
  {
   "cell_type": "markdown",
   "id": "6bcdc91c",
   "metadata": {},
   "source": [
    "#### ``groupby``"
   ]
  },
  {
   "cell_type": "code",
   "execution_count": null,
   "id": "5f6c7e78",
   "metadata": {},
   "outputs": [],
   "source": [
    "lastnames = df.groupby('lastname')"
   ]
  },
  {
   "cell_type": "code",
   "execution_count": null,
   "id": "f4beaedc",
   "metadata": {},
   "outputs": [],
   "source": [
    "lastnames"
   ]
  },
  {
   "cell_type": "markdown",
   "id": "b2e52736",
   "metadata": {},
   "source": [
    "**To give an idea what it is ...**\n",
    "\n",
    "Converted to a list ..."
   ]
  },
  {
   "cell_type": "code",
   "execution_count": null,
   "id": "53528964",
   "metadata": {},
   "outputs": [],
   "source": [
    "list(lastnames)"
   ]
  },
  {
   "cell_type": "markdown",
   "id": "328121e6",
   "metadata": {},
   "source": [
    "That into a ``dict`` ... looks like the elements are data frames"
   ]
  },
  {
   "cell_type": "code",
   "execution_count": null,
   "id": "6e10f81d",
   "metadata": {},
   "outputs": [],
   "source": [
    "d = dict(list(lastnames))"
   ]
  },
  {
   "cell_type": "code",
   "execution_count": null,
   "id": "db4959b5",
   "metadata": {},
   "outputs": [],
   "source": [
    "d"
   ]
  },
  {
   "cell_type": "code",
   "execution_count": null,
   "id": "5bfa83a9",
   "metadata": {},
   "outputs": [],
   "source": [
    "type(d['Faschingbauer'])"
   ]
  },
  {
   "cell_type": "markdown",
   "id": "47d214d6",
   "metadata": {},
   "source": [
    "#### Working with ``groupby``"
   ]
  },
  {
   "cell_type": "markdown",
   "id": "ddd265c3",
   "metadata": {},
   "source": [
    "``get_group()`` gives a DataFrame"
   ]
  },
  {
   "cell_type": "code",
   "execution_count": null,
   "id": "1198d0fe",
   "metadata": {},
   "outputs": [],
   "source": [
    "fasch = lastnames.get_group('Faschingbauer')"
   ]
  },
  {
   "cell_type": "code",
   "execution_count": null,
   "id": "850a2364",
   "metadata": {},
   "outputs": [],
   "source": [
    "fasch"
   ]
  },
  {
   "cell_type": "markdown",
   "id": "31fbe508",
   "metadata": {},
   "source": [
    "Popular use: aggregation on each group"
   ]
  },
  {
   "cell_type": "code",
   "execution_count": null,
   "id": "b08dee46",
   "metadata": {},
   "outputs": [],
   "source": [
    "fasch['age'].mean()"
   ]
  },
  {
   "cell_type": "code",
   "execution_count": null,
   "id": "97e48e42",
   "metadata": {},
   "outputs": [],
   "source": [
    "fasch['age'].sum()"
   ]
  },
  {
   "cell_type": "code",
   "execution_count": null,
   "id": "6a9a22b6",
   "metadata": {},
   "outputs": [],
   "source": [
    "try:\n",
    "    lastnames.get_group('Notexist')\n",
    "except KeyError as e:\n",
    "    print(type(e), e)"
   ]
  }
 ],
 "metadata": {
  "kernelspec": {
   "display_name": "Python 3 (ipykernel)",
   "language": "python",
   "name": "python3"
  },
  "language_info": {
   "codemirror_mode": {
    "name": "ipython",
    "version": 3
   },
   "file_extension": ".py",
   "mimetype": "text/x-python",
   "name": "python",
   "nbconvert_exporter": "python",
   "pygments_lexer": "ipython3",
   "version": "3.10.7"
  }
 },
 "nbformat": 4,
 "nbformat_minor": 5
}
