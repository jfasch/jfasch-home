{
 "cells": [
  {
   "cell_type": "markdown",
   "id": "793ff69c",
   "metadata": {},
   "source": [
    "# Pandas"
   ]
  },
  {
   "cell_type": "code",
   "execution_count": 1,
   "id": "01093dff",
   "metadata": {},
   "outputs": [],
   "source": [
    "import pandas as pd"
   ]
  },
  {
   "cell_type": "code",
   "execution_count": 2,
   "id": "602cfcb5",
   "metadata": {},
   "outputs": [],
   "source": [
    "persons = pd.DataFrame({\n",
    "    'firstname': ['Joerg', 'Johanna', 'Caro', 'Philipp'],\n",
    "    'lastname': ['Faschingbauer', 'Faschingbauer', 'Faschingbauer', 'Lichtenberger'],\n",
    "    'email': ['JF@faschingbauer.co.at', 'Caro@email.com', 'Johanna@email.com', 'PHILIPP@email.com'],\n",
    "    'age': [56, 27, 25, 37],\n",
    "})"
   ]
  },
  {
   "cell_type": "markdown",
   "id": "5f4448b1",
   "metadata": {},
   "source": [
    "### Groups, Aggregation"
   ]
  },
  {
   "cell_type": "markdown",
   "id": "3db5d178",
   "metadata": {},
   "source": [
    "#### Naive Approach: Separate Filter for each possible value"
   ]
  },
  {
   "cell_type": "code",
   "execution_count": null,
   "id": "53ae5d7c",
   "metadata": {},
   "outputs": [],
   "source": [
    "flt = df['lastname'] == 'Faschingbauer'\n",
    "df.loc[flt, 'age'].mean()"
   ]
  },
  {
   "cell_type": "code",
   "execution_count": null,
   "id": "baef1d49",
   "metadata": {},
   "outputs": [],
   "source": [
    "flt = df['lastname'] == 'Lichtenberger'\n",
    "df.loc[flt, 'age'].mean()"
   ]
  },
  {
   "cell_type": "markdown",
   "id": "6bcdc91c",
   "metadata": {},
   "source": [
    "#### ``groupby``"
   ]
  },
  {
   "cell_type": "code",
   "execution_count": null,
   "id": "5f6c7e78",
   "metadata": {},
   "outputs": [],
   "source": [
    "lastnames = df.groupby('lastname')"
   ]
  },
  {
   "cell_type": "code",
   "execution_count": null,
   "id": "f4beaedc",
   "metadata": {},
   "outputs": [],
   "source": [
    "lastnames"
   ]
  },
  {
   "cell_type": "markdown",
   "id": "b2e52736",
   "metadata": {},
   "source": [
    "**To give an idea what it is ...**\n",
    "\n",
    "Converted to a list ..."
   ]
  },
  {
   "cell_type": "code",
   "execution_count": null,
   "id": "53528964",
   "metadata": {},
   "outputs": [],
   "source": [
    "list(lastnames)"
   ]
  },
  {
   "cell_type": "markdown",
   "id": "328121e6",
   "metadata": {},
   "source": [
    "That into a ``dict`` ... looks like the elements are data frames"
   ]
  },
  {
   "cell_type": "code",
   "execution_count": null,
   "id": "6e10f81d",
   "metadata": {},
   "outputs": [],
   "source": [
    "d = dict(list(lastnames))"
   ]
  },
  {
   "cell_type": "code",
   "execution_count": null,
   "id": "db4959b5",
   "metadata": {},
   "outputs": [],
   "source": [
    "d"
   ]
  },
  {
   "cell_type": "code",
   "execution_count": null,
   "id": "5bfa83a9",
   "metadata": {},
   "outputs": [],
   "source": [
    "type(d['Faschingbauer'])"
   ]
  },
  {
   "cell_type": "markdown",
   "id": "47d214d6",
   "metadata": {},
   "source": [
    "#### Working with ``groupby``"
   ]
  },
  {
   "cell_type": "markdown",
   "id": "ddd265c3",
   "metadata": {},
   "source": [
    "``get_group()`` gives a DataFrame"
   ]
  },
  {
   "cell_type": "code",
   "execution_count": null,
   "id": "1198d0fe",
   "metadata": {},
   "outputs": [],
   "source": [
    "fasch = lastnames.get_group('Faschingbauer')"
   ]
  },
  {
   "cell_type": "code",
   "execution_count": null,
   "id": "850a2364",
   "metadata": {},
   "outputs": [],
   "source": [
    "fasch"
   ]
  },
  {
   "cell_type": "markdown",
   "id": "31fbe508",
   "metadata": {},
   "source": [
    "Popular use: aggregation on each group"
   ]
  },
  {
   "cell_type": "code",
   "execution_count": null,
   "id": "b08dee46",
   "metadata": {},
   "outputs": [],
   "source": [
    "fasch['age'].mean()"
   ]
  },
  {
   "cell_type": "code",
   "execution_count": null,
   "id": "97e48e42",
   "metadata": {},
   "outputs": [],
   "source": [
    "fasch['age'].sum()"
   ]
  },
  {
   "cell_type": "code",
   "execution_count": null,
   "id": "6a9a22b6",
   "metadata": {},
   "outputs": [],
   "source": [
    "try:\n",
    "    lastnames.get_group('Notexist')\n",
    "except KeyError as e:\n",
    "    print(type(e), e)"
   ]
  }
 ],
 "metadata": {
  "kernelspec": {
   "display_name": "Python 3 (ipykernel)",
   "language": "python",
   "name": "python3"
  },
  "language_info": {
   "codemirror_mode": {
    "name": "ipython",
    "version": 3
   },
   "file_extension": ".py",
   "mimetype": "text/x-python",
   "name": "python",
   "nbconvert_exporter": "python",
   "pygments_lexer": "ipython3",
   "version": "3.10.7"
  }
 },
 "nbformat": 4,
 "nbformat_minor": 5
}
