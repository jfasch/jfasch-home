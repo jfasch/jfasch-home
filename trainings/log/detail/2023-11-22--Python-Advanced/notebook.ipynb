{
 "cells": [
  {
   "cell_type": "markdown",
   "metadata": {},
   "source": [
    "# Jupyter Notebook: Python Advanced (2023-11-22 - 2023-11-24)"
   ]
  },
  {
   "cell_type": "markdown",
   "metadata": {},
   "source": [
    "## Variables"
   ]
  },
  {
   "cell_type": "code",
   "execution_count": 1,
   "metadata": {},
   "outputs": [],
   "source": [
    "a = 1"
   ]
  },
  {
   "cell_type": "code",
   "execution_count": 2,
   "metadata": {},
   "outputs": [
    {
     "name": "stdout",
     "output_type": "stream",
     "text": [
      "1\n"
     ]
    }
   ],
   "source": [
    "print(a)"
   ]
  },
  {
   "cell_type": "code",
   "execution_count": 3,
   "metadata": {},
   "outputs": [
    {
     "data": {
      "text/plain": [
       "int"
      ]
     },
     "execution_count": 3,
     "metadata": {},
     "output_type": "execute_result"
    }
   ],
   "source": [
    "type(a)"
   ]
  },
  {
   "cell_type": "code",
   "execution_count": 4,
   "metadata": {},
   "outputs": [],
   "source": [
    "a = 'hallo'"
   ]
  },
  {
   "cell_type": "code",
   "execution_count": 5,
   "metadata": {},
   "outputs": [
    {
     "name": "stdout",
     "output_type": "stream",
     "text": [
      "hallo\n"
     ]
    }
   ],
   "source": [
    "print(a)"
   ]
  },
  {
   "cell_type": "code",
   "execution_count": 6,
   "metadata": {},
   "outputs": [
    {
     "data": {
      "text/plain": [
       "str"
      ]
     },
     "execution_count": 6,
     "metadata": {},
     "output_type": "execute_result"
    }
   ],
   "source": [
    "type(a)"
   ]
  },
  {
   "cell_type": "code",
   "execution_count": 7,
   "metadata": {},
   "outputs": [],
   "source": [
    "t = type(a)"
   ]
  },
  {
   "cell_type": "code",
   "execution_count": 8,
   "metadata": {},
   "outputs": [
    {
     "name": "stdout",
     "output_type": "stream",
     "text": [
      "<class 'str'>\n"
     ]
    }
   ],
   "source": [
    "print(t)"
   ]
  },
  {
   "cell_type": "code",
   "execution_count": 9,
   "metadata": {},
   "outputs": [
    {
     "data": {
      "text/plain": [
       "type"
      ]
     },
     "execution_count": 9,
     "metadata": {},
     "output_type": "execute_result"
    }
   ],
   "source": [
    "type(t)"
   ]
  },
  {
   "cell_type": "code",
   "execution_count": 10,
   "metadata": {},
   "outputs": [],
   "source": [
    "class Foo:\n",
    "    i = 666\n",
    "    def __init__(self, i):\n",
    "        self.i = i\n",
    "    def bar(self):\n",
    "        return self.i**2"
   ]
  },
  {
   "cell_type": "code",
   "execution_count": 11,
   "metadata": {},
   "outputs": [
    {
     "data": {
      "text/plain": [
       "type"
      ]
     },
     "execution_count": 11,
     "metadata": {},
     "output_type": "execute_result"
    }
   ],
   "source": [
    "type(Foo)"
   ]
  },
  {
   "cell_type": "code",
   "execution_count": 12,
   "metadata": {},
   "outputs": [],
   "source": [
    "s = str(666)"
   ]
  },
  {
   "cell_type": "code",
   "execution_count": 13,
   "metadata": {},
   "outputs": [
    {
     "data": {
      "text/plain": [
       "'666'"
      ]
     },
     "execution_count": 13,
     "metadata": {},
     "output_type": "execute_result"
    }
   ],
   "source": [
    "s"
   ]
  },
  {
   "cell_type": "code",
   "execution_count": 14,
   "metadata": {},
   "outputs": [],
   "source": [
    "s = '666'"
   ]
  },
  {
   "cell_type": "code",
   "execution_count": 15,
   "metadata": {},
   "outputs": [],
   "source": [
    "f = Foo(3)"
   ]
  },
  {
   "cell_type": "code",
   "execution_count": 16,
   "metadata": {},
   "outputs": [
    {
     "data": {
      "text/plain": [
       "3"
      ]
     },
     "execution_count": 16,
     "metadata": {},
     "output_type": "execute_result"
    }
   ],
   "source": [
    "f.i"
   ]
  },
  {
   "cell_type": "code",
   "execution_count": 17,
   "metadata": {},
   "outputs": [
    {
     "data": {
      "text/plain": [
       "9"
      ]
     },
     "execution_count": 17,
     "metadata": {},
     "output_type": "execute_result"
    }
   ],
   "source": [
    "f.bar()"
   ]
  },
  {
   "cell_type": "code",
   "execution_count": 18,
   "metadata": {},
   "outputs": [
    {
     "data": {
      "text/plain": [
       "__main__.Foo"
      ]
     },
     "execution_count": 18,
     "metadata": {},
     "output_type": "execute_result"
    }
   ],
   "source": [
    "type(f)"
   ]
  },
  {
   "cell_type": "code",
   "execution_count": 19,
   "metadata": {},
   "outputs": [
    {
     "data": {
      "text/plain": [
       "type"
      ]
     },
     "execution_count": 19,
     "metadata": {},
     "output_type": "execute_result"
    }
   ],
   "source": [
    "type(type(f))"
   ]
  },
  {
   "cell_type": "code",
   "execution_count": 20,
   "metadata": {},
   "outputs": [
    {
     "data": {
      "text/plain": [
       "function"
      ]
     },
     "execution_count": 20,
     "metadata": {},
     "output_type": "execute_result"
    }
   ],
   "source": [
    "type(Foo.bar)"
   ]
  },
  {
   "cell_type": "code",
   "execution_count": 21,
   "metadata": {},
   "outputs": [],
   "source": [
    "import sys"
   ]
  },
  {
   "cell_type": "code",
   "execution_count": 22,
   "metadata": {},
   "outputs": [
    {
     "data": {
      "text/plain": [
       "module"
      ]
     },
     "execution_count": 22,
     "metadata": {},
     "output_type": "execute_result"
    }
   ],
   "source": [
    "type(sys)"
   ]
  },
  {
   "cell_type": "code",
   "execution_count": 23,
   "metadata": {},
   "outputs": [],
   "source": [
    "sys = 666"
   ]
  },
  {
   "cell_type": "code",
   "execution_count": 24,
   "metadata": {},
   "outputs": [],
   "source": [
    "del sys"
   ]
  },
  {
   "cell_type": "markdown",
   "metadata": {},
   "source": [
    "## Assignment, And IDs"
   ]
  },
  {
   "cell_type": "code",
   "execution_count": 25,
   "metadata": {},
   "outputs": [],
   "source": [
    "a, b = 1, 2"
   ]
  },
  {
   "cell_type": "code",
   "execution_count": 26,
   "metadata": {},
   "outputs": [
    {
     "data": {
      "text/plain": [
       "1"
      ]
     },
     "execution_count": 26,
     "metadata": {},
     "output_type": "execute_result"
    }
   ],
   "source": [
    "a"
   ]
  },
  {
   "cell_type": "code",
   "execution_count": 27,
   "metadata": {},
   "outputs": [
    {
     "data": {
      "text/plain": [
       "2"
      ]
     },
     "execution_count": 27,
     "metadata": {},
     "output_type": "execute_result"
    }
   ],
   "source": [
    "b"
   ]
  },
  {
   "cell_type": "code",
   "execution_count": 28,
   "metadata": {},
   "outputs": [],
   "source": [
    "a = b = 1"
   ]
  },
  {
   "cell_type": "code",
   "execution_count": 29,
   "metadata": {},
   "outputs": [],
   "source": [
    "a = 42"
   ]
  },
  {
   "cell_type": "code",
   "execution_count": 30,
   "metadata": {},
   "outputs": [
    {
     "data": {
      "text/plain": [
       "139680347735568"
      ]
     },
     "execution_count": 30,
     "metadata": {},
     "output_type": "execute_result"
    }
   ],
   "source": [
    "id(a)"
   ]
  },
  {
   "cell_type": "code",
   "execution_count": 31,
   "metadata": {},
   "outputs": [],
   "source": [
    "b = a"
   ]
  },
  {
   "cell_type": "code",
   "execution_count": 32,
   "metadata": {},
   "outputs": [
    {
     "data": {
      "text/plain": [
       "139680347735568"
      ]
     },
     "execution_count": 32,
     "metadata": {},
     "output_type": "execute_result"
    }
   ],
   "source": [
    "id(b)"
   ]
  },
  {
   "cell_type": "code",
   "execution_count": 33,
   "metadata": {},
   "outputs": [],
   "source": [
    "b = 666"
   ]
  },
  {
   "cell_type": "code",
   "execution_count": 34,
   "metadata": {},
   "outputs": [
    {
     "data": {
      "text/plain": [
       "42"
      ]
     },
     "execution_count": 34,
     "metadata": {},
     "output_type": "execute_result"
    }
   ],
   "source": [
    "a"
   ]
  },
  {
   "cell_type": "code",
   "execution_count": 35,
   "metadata": {},
   "outputs": [],
   "source": [
    "a = 42\n",
    "b = a"
   ]
  },
  {
   "cell_type": "code",
   "execution_count": 36,
   "metadata": {},
   "outputs": [
    {
     "data": {
      "text/plain": [
       "True"
      ]
     },
     "execution_count": 36,
     "metadata": {},
     "output_type": "execute_result"
    }
   ],
   "source": [
    "id(a) == id(b)"
   ]
  },
  {
   "cell_type": "code",
   "execution_count": 37,
   "metadata": {},
   "outputs": [
    {
     "data": {
      "text/plain": [
       "True"
      ]
     },
     "execution_count": 37,
     "metadata": {},
     "output_type": "execute_result"
    }
   ],
   "source": [
    "a is b"
   ]
  },
  {
   "cell_type": "markdown",
   "metadata": {},
   "source": [
    "### (Im)Mutability"
   ]
  },
  {
   "cell_type": "code",
   "execution_count": 38,
   "metadata": {},
   "outputs": [],
   "source": [
    "a += 1"
   ]
  },
  {
   "cell_type": "code",
   "execution_count": 39,
   "metadata": {},
   "outputs": [
    {
     "data": {
      "text/plain": [
       "43"
      ]
     },
     "execution_count": 39,
     "metadata": {},
     "output_type": "execute_result"
    }
   ],
   "source": [
    "a"
   ]
  },
  {
   "cell_type": "code",
   "execution_count": 40,
   "metadata": {},
   "outputs": [
    {
     "data": {
      "text/plain": [
       "42"
      ]
     },
     "execution_count": 40,
     "metadata": {},
     "output_type": "execute_result"
    }
   ],
   "source": [
    "b"
   ]
  },
  {
   "cell_type": "markdown",
   "metadata": {},
   "source": [
    "Speed Optimization"
   ]
  },
  {
   "cell_type": "code",
   "execution_count": 41,
   "metadata": {},
   "outputs": [],
   "source": [
    "a = 43"
   ]
  },
  {
   "cell_type": "code",
   "execution_count": 42,
   "metadata": {},
   "outputs": [],
   "source": [
    "b = 43"
   ]
  },
  {
   "cell_type": "code",
   "execution_count": 43,
   "metadata": {},
   "outputs": [
    {
     "data": {
      "text/plain": [
       "True"
      ]
     },
     "execution_count": 43,
     "metadata": {},
     "output_type": "execute_result"
    }
   ],
   "source": [
    "a is b"
   ]
  },
  {
   "cell_type": "markdown",
   "metadata": {},
   "source": [
    "And Lists? Lists are **mutable**!"
   ]
  },
  {
   "cell_type": "code",
   "execution_count": 44,
   "metadata": {},
   "outputs": [],
   "source": [
    "l1 = [1,2,3, 'vier']"
   ]
  },
  {
   "cell_type": "code",
   "execution_count": 45,
   "metadata": {},
   "outputs": [
    {
     "data": {
      "text/plain": [
       "4"
      ]
     },
     "execution_count": 45,
     "metadata": {},
     "output_type": "execute_result"
    }
   ],
   "source": [
    "len(l1)"
   ]
  },
  {
   "cell_type": "code",
   "execution_count": 46,
   "metadata": {},
   "outputs": [
    {
     "data": {
      "text/plain": [
       "3"
      ]
     },
     "execution_count": 46,
     "metadata": {},
     "output_type": "execute_result"
    }
   ],
   "source": [
    "l1[2]"
   ]
  },
  {
   "cell_type": "code",
   "execution_count": 47,
   "metadata": {},
   "outputs": [],
   "source": [
    "l2 = l1"
   ]
  },
  {
   "cell_type": "code",
   "execution_count": 48,
   "metadata": {},
   "outputs": [
    {
     "data": {
      "text/plain": [
       "True"
      ]
     },
     "execution_count": 48,
     "metadata": {},
     "output_type": "execute_result"
    }
   ],
   "source": [
    "l1 is l2"
   ]
  },
  {
   "cell_type": "code",
   "execution_count": 49,
   "metadata": {},
   "outputs": [],
   "source": [
    "l1.append(5.0)"
   ]
  },
  {
   "cell_type": "code",
   "execution_count": 50,
   "metadata": {},
   "outputs": [
    {
     "data": {
      "text/plain": [
       "[1, 2, 3, 'vier', 5.0]"
      ]
     },
     "execution_count": 50,
     "metadata": {},
     "output_type": "execute_result"
    }
   ],
   "source": [
    "l1"
   ]
  },
  {
   "cell_type": "code",
   "execution_count": 51,
   "metadata": {},
   "outputs": [
    {
     "data": {
      "text/plain": [
       "[1, 2, 3, 'vier', 5.0]"
      ]
     },
     "execution_count": 51,
     "metadata": {},
     "output_type": "execute_result"
    }
   ],
   "source": [
    "l2"
   ]
  },
  {
   "cell_type": "code",
   "execution_count": 52,
   "metadata": {},
   "outputs": [],
   "source": [
    "l1 += [6, 7, 8]"
   ]
  },
  {
   "cell_type": "code",
   "execution_count": 53,
   "metadata": {},
   "outputs": [
    {
     "data": {
      "text/plain": [
       "[1, 2, 3, 'vier', 5.0, 6, 7, 8]"
      ]
     },
     "execution_count": 53,
     "metadata": {},
     "output_type": "execute_result"
    }
   ],
   "source": [
    "l1"
   ]
  },
  {
   "cell_type": "code",
   "execution_count": 54,
   "metadata": {},
   "outputs": [
    {
     "data": {
      "text/plain": [
       "[1, 2, 3, 'vier', 5.0, 6, 7, 8]"
      ]
     },
     "execution_count": 54,
     "metadata": {},
     "output_type": "execute_result"
    }
   ],
   "source": [
    "l2"
   ]
  },
  {
   "cell_type": "markdown",
   "metadata": {},
   "source": [
    "And Tuples? **Immutable**"
   ]
  },
  {
   "cell_type": "code",
   "execution_count": 55,
   "metadata": {},
   "outputs": [],
   "source": [
    "t1 = (1, 2, 3, 'vier')"
   ]
  },
  {
   "cell_type": "code",
   "execution_count": 56,
   "metadata": {},
   "outputs": [
    {
     "name": "stdout",
     "output_type": "stream",
     "text": [
      "<class 'AttributeError'> 'tuple' object has no attribute 'append'\n"
     ]
    }
   ],
   "source": [
    "try:\n",
    "    t1.append(5.0)\n",
    "except Exception as e:\n",
    "    print(type(e), e)"
   ]
  },
  {
   "cell_type": "code",
   "execution_count": 57,
   "metadata": {},
   "outputs": [],
   "source": [
    "t2 = t1"
   ]
  },
  {
   "cell_type": "code",
   "execution_count": 58,
   "metadata": {},
   "outputs": [
    {
     "data": {
      "text/plain": [
       "True"
      ]
     },
     "execution_count": 58,
     "metadata": {},
     "output_type": "execute_result"
    }
   ],
   "source": [
    "t2 is t1"
   ]
  },
  {
   "cell_type": "code",
   "execution_count": 59,
   "metadata": {},
   "outputs": [],
   "source": [
    "t2 += (6, 7, 8)"
   ]
  },
  {
   "cell_type": "code",
   "execution_count": 60,
   "metadata": {},
   "outputs": [
    {
     "data": {
      "text/plain": [
       "False"
      ]
     },
     "execution_count": 60,
     "metadata": {},
     "output_type": "execute_result"
    }
   ],
   "source": [
    "t2 is t1"
   ]
  },
  {
   "cell_type": "markdown",
   "metadata": {},
   "source": [
    "### Tuple Unpacking"
   ]
  },
  {
   "cell_type": "code",
   "execution_count": 61,
   "metadata": {},
   "outputs": [],
   "source": [
    "a, b = 1, 2"
   ]
  },
  {
   "cell_type": "code",
   "execution_count": 62,
   "metadata": {},
   "outputs": [],
   "source": [
    "(a, b) = (1, 2)"
   ]
  },
  {
   "cell_type": "code",
   "execution_count": 63,
   "metadata": {},
   "outputs": [
    {
     "name": "stdout",
     "output_type": "stream",
     "text": [
      "<class 'TypeError'> cannot unpack non-iterable int object\n"
     ]
    }
   ],
   "source": [
    "try:\n",
    "    a, b = 1\n",
    "except Exception as e:\n",
    "    print(type(e), e)"
   ]
  },
  {
   "cell_type": "code",
   "execution_count": 64,
   "metadata": {},
   "outputs": [
    {
     "data": {
      "text/plain": [
       "(1, 2)"
      ]
     },
     "execution_count": 64,
     "metadata": {},
     "output_type": "execute_result"
    }
   ],
   "source": [
    "a, b"
   ]
  },
  {
   "cell_type": "code",
   "execution_count": 65,
   "metadata": {},
   "outputs": [],
   "source": [
    "tmp = b\n",
    "b = a\n",
    "a = tmp"
   ]
  },
  {
   "cell_type": "code",
   "execution_count": 66,
   "metadata": {},
   "outputs": [
    {
     "data": {
      "text/plain": [
       "(2, 1)"
      ]
     },
     "execution_count": 66,
     "metadata": {},
     "output_type": "execute_result"
    }
   ],
   "source": [
    "a, b"
   ]
  },
  {
   "cell_type": "code",
   "execution_count": 67,
   "metadata": {},
   "outputs": [],
   "source": [
    "a, b = b, a"
   ]
  },
  {
   "cell_type": "code",
   "execution_count": 68,
   "metadata": {},
   "outputs": [
    {
     "data": {
      "text/plain": [
       "(1, 2)"
      ]
     },
     "execution_count": 68,
     "metadata": {},
     "output_type": "execute_result"
    }
   ],
   "source": [
    "a, b"
   ]
  },
  {
   "cell_type": "code",
   "execution_count": 69,
   "metadata": {},
   "outputs": [],
   "source": [
    "d = {'one': 1, 'two': 2}"
   ]
  },
  {
   "cell_type": "code",
   "execution_count": 70,
   "metadata": {},
   "outputs": [
    {
     "data": {
      "text/plain": [
       "dict"
      ]
     },
     "execution_count": 70,
     "metadata": {},
     "output_type": "execute_result"
    }
   ],
   "source": [
    "type(d)"
   ]
  },
  {
   "cell_type": "code",
   "execution_count": 71,
   "metadata": {},
   "outputs": [
    {
     "name": "stdout",
     "output_type": "stream",
     "text": [
      "one\n",
      "two\n"
     ]
    }
   ],
   "source": [
    "for elem in d:\n",
    "    print(elem)"
   ]
  },
  {
   "cell_type": "code",
   "execution_count": 72,
   "metadata": {},
   "outputs": [
    {
     "name": "stdout",
     "output_type": "stream",
     "text": [
      "one\n",
      "two\n"
     ]
    }
   ],
   "source": [
    "for elem in d.keys():\n",
    "    print(elem)"
   ]
  },
  {
   "cell_type": "code",
   "execution_count": 73,
   "metadata": {},
   "outputs": [
    {
     "name": "stdout",
     "output_type": "stream",
     "text": [
      "1\n",
      "2\n"
     ]
    }
   ],
   "source": [
    "for elem in d.values():\n",
    "    print(elem)"
   ]
  },
  {
   "cell_type": "code",
   "execution_count": 74,
   "metadata": {},
   "outputs": [
    {
     "name": "stdout",
     "output_type": "stream",
     "text": [
      "('one', 1)\n",
      "('two', 2)\n"
     ]
    }
   ],
   "source": [
    "for elem in d.items():\n",
    "    print(elem)"
   ]
  },
  {
   "cell_type": "code",
   "execution_count": 75,
   "metadata": {},
   "outputs": [
    {
     "name": "stdout",
     "output_type": "stream",
     "text": [
      "one 1\n",
      "two 2\n"
     ]
    }
   ],
   "source": [
    "for elem in d.items():\n",
    "    k = elem[0]\n",
    "    v = elem[1]\n",
    "    print(k, v)"
   ]
  },
  {
   "cell_type": "code",
   "execution_count": 76,
   "metadata": {},
   "outputs": [
    {
     "name": "stdout",
     "output_type": "stream",
     "text": [
      "one 1\n",
      "two 2\n"
     ]
    }
   ],
   "source": [
    "for k, v in d.items():\n",
    "    print(k, v)"
   ]
  },
  {
   "cell_type": "markdown",
   "metadata": {},
   "source": [
    "## Datatypes"
   ]
  },
  {
   "cell_type": "markdown",
   "metadata": {},
   "source": [
    "### Integers"
   ]
  },
  {
   "cell_type": "code",
   "execution_count": 77,
   "metadata": {},
   "outputs": [],
   "source": [
    "i = 0"
   ]
  },
  {
   "cell_type": "code",
   "execution_count": 78,
   "metadata": {},
   "outputs": [],
   "source": [
    "i = -1"
   ]
  },
  {
   "cell_type": "code",
   "execution_count": 79,
   "metadata": {},
   "outputs": [],
   "source": [
    "i = 2**64-1"
   ]
  },
  {
   "cell_type": "code",
   "execution_count": 80,
   "metadata": {},
   "outputs": [
    {
     "data": {
      "text/plain": [
       "'0xffffffffffffffff'"
      ]
     },
     "execution_count": 80,
     "metadata": {},
     "output_type": "execute_result"
    }
   ],
   "source": [
    "hex(i)"
   ]
  },
  {
   "cell_type": "code",
   "execution_count": 81,
   "metadata": {},
   "outputs": [],
   "source": [
    "i += 1"
   ]
  },
  {
   "cell_type": "code",
   "execution_count": 82,
   "metadata": {},
   "outputs": [
    {
     "data": {
      "text/plain": [
       "18446744073709551616"
      ]
     },
     "execution_count": 82,
     "metadata": {},
     "output_type": "execute_result"
    }
   ],
   "source": [
    "i"
   ]
  },
  {
   "cell_type": "code",
   "execution_count": 83,
   "metadata": {},
   "outputs": [
    {
     "data": {
      "text/plain": [
       "'0x10000000000000000'"
      ]
     },
     "execution_count": 83,
     "metadata": {},
     "output_type": "execute_result"
    }
   ],
   "source": [
    "hex(i)"
   ]
  },
  {
   "cell_type": "code",
   "execution_count": 84,
   "metadata": {},
   "outputs": [],
   "source": [
    "i**=10"
   ]
  },
  {
   "cell_type": "code",
   "execution_count": 85,
   "metadata": {},
   "outputs": [
    {
     "data": {
      "text/plain": [
       "'0x10000000000000000000000000000000000000000000000000000000000000000000000000000000000000000000000000000000000000000000000000000000000000000000000000000000000000000'"
      ]
     },
     "execution_count": 85,
     "metadata": {},
     "output_type": "execute_result"
    }
   ],
   "source": [
    "hex(i)"
   ]
  },
  {
   "cell_type": "code",
   "execution_count": 86,
   "metadata": {},
   "outputs": [
    {
     "data": {
      "text/plain": [
       "1.5"
      ]
     },
     "execution_count": 86,
     "metadata": {},
     "output_type": "execute_result"
    }
   ],
   "source": [
    "3/2"
   ]
  },
  {
   "cell_type": "code",
   "execution_count": 87,
   "metadata": {},
   "outputs": [
    {
     "data": {
      "text/plain": [
       "1"
      ]
     },
     "execution_count": 87,
     "metadata": {},
     "output_type": "execute_result"
    }
   ],
   "source": [
    "3//2"
   ]
  },
  {
   "cell_type": "code",
   "execution_count": 88,
   "metadata": {},
   "outputs": [
    {
     "data": {
      "text/plain": [
       "int"
      ]
     },
     "execution_count": 88,
     "metadata": {},
     "output_type": "execute_result"
    }
   ],
   "source": [
    "type(3//2)"
   ]
  },
  {
   "cell_type": "markdown",
   "metadata": {},
   "source": [
    "### Operator Overloading (Basics)"
   ]
  },
  {
   "cell_type": "code",
   "execution_count": 89,
   "metadata": {},
   "outputs": [],
   "source": [
    "a = 3"
   ]
  },
  {
   "cell_type": "code",
   "execution_count": 90,
   "metadata": {},
   "outputs": [
    {
     "data": {
      "text/plain": [
       "1"
      ]
     },
     "execution_count": 90,
     "metadata": {},
     "output_type": "execute_result"
    }
   ],
   "source": [
    "a - 2 "
   ]
  },
  {
   "cell_type": "code",
   "execution_count": 91,
   "metadata": {},
   "outputs": [
    {
     "data": {
      "text/plain": [
       "1"
      ]
     },
     "execution_count": 91,
     "metadata": {},
     "output_type": "execute_result"
    }
   ],
   "source": [
    "a.__sub__(2)"
   ]
  },
  {
   "cell_type": "code",
   "execution_count": 92,
   "metadata": {},
   "outputs": [
    {
     "data": {
      "text/plain": [
       "1.0"
      ]
     },
     "execution_count": 92,
     "metadata": {},
     "output_type": "execute_result"
    }
   ],
   "source": [
    "a - 2.0"
   ]
  },
  {
   "cell_type": "code",
   "execution_count": 93,
   "metadata": {},
   "outputs": [
    {
     "data": {
      "text/plain": [
       "NotImplemented"
      ]
     },
     "execution_count": 93,
     "metadata": {},
     "output_type": "execute_result"
    }
   ],
   "source": [
    "a.__sub__(2.0)"
   ]
  },
  {
   "cell_type": "code",
   "execution_count": 94,
   "metadata": {},
   "outputs": [],
   "source": [
    "b = 2.0"
   ]
  },
  {
   "cell_type": "code",
   "execution_count": 95,
   "metadata": {},
   "outputs": [
    {
     "data": {
      "text/plain": [
       "1.0"
      ]
     },
     "execution_count": 95,
     "metadata": {},
     "output_type": "execute_result"
    }
   ],
   "source": [
    "b.__rsub__(a)"
   ]
  },
  {
   "cell_type": "markdown",
   "metadata": {},
   "source": [
    "### Datatype Conversions"
   ]
  },
  {
   "cell_type": "code",
   "execution_count": 96,
   "metadata": {},
   "outputs": [],
   "source": [
    "i = 666"
   ]
  },
  {
   "cell_type": "code",
   "execution_count": 97,
   "metadata": {},
   "outputs": [],
   "source": [
    "s = str(i)"
   ]
  },
  {
   "cell_type": "code",
   "execution_count": 98,
   "metadata": {},
   "outputs": [
    {
     "data": {
      "text/plain": [
       "'666'"
      ]
     },
     "execution_count": 98,
     "metadata": {},
     "output_type": "execute_result"
    }
   ],
   "source": [
    "s"
   ]
  },
  {
   "cell_type": "code",
   "execution_count": 99,
   "metadata": {},
   "outputs": [],
   "source": [
    "i = int(s)"
   ]
  },
  {
   "cell_type": "code",
   "execution_count": 100,
   "metadata": {},
   "outputs": [
    {
     "data": {
      "text/plain": [
       "666"
      ]
     },
     "execution_count": 100,
     "metadata": {},
     "output_type": "execute_result"
    }
   ],
   "source": [
    "i"
   ]
  },
  {
   "cell_type": "code",
   "execution_count": 101,
   "metadata": {},
   "outputs": [],
   "source": [
    "s = 'abc'"
   ]
  },
  {
   "cell_type": "code",
   "execution_count": 102,
   "metadata": {},
   "outputs": [
    {
     "name": "stdout",
     "output_type": "stream",
     "text": [
      "<class 'ValueError'> invalid literal for int() with base 10: 'abc'\n"
     ]
    }
   ],
   "source": [
    "try:\n",
    "    int(s)\n",
    "except Exception as e:\n",
    "    print(type(e), e)"
   ]
  },
  {
   "cell_type": "code",
   "execution_count": 103,
   "metadata": {},
   "outputs": [],
   "source": [
    "i = int(s, 16)"
   ]
  },
  {
   "cell_type": "code",
   "execution_count": 104,
   "metadata": {},
   "outputs": [
    {
     "data": {
      "text/plain": [
       "2748"
      ]
     },
     "execution_count": 104,
     "metadata": {},
     "output_type": "execute_result"
    }
   ],
   "source": [
    "i"
   ]
  },
  {
   "cell_type": "code",
   "execution_count": 105,
   "metadata": {},
   "outputs": [
    {
     "name": "stdout",
     "output_type": "stream",
     "text": [
      "<class 'ValueError'> invalid literal for int() with base 10: '0xabc'\n"
     ]
    }
   ],
   "source": [
    "try:\n",
    "    s = '0xabc'\n",
    "    int(s)\n",
    "except Exception as e:\n",
    "    print(type(e), e)"
   ]
  },
  {
   "cell_type": "code",
   "execution_count": 106,
   "metadata": {},
   "outputs": [
    {
     "data": {
      "text/plain": [
       "2748"
      ]
     },
     "execution_count": 106,
     "metadata": {},
     "output_type": "execute_result"
    }
   ],
   "source": [
    "int(s, 16)"
   ]
  },
  {
   "cell_type": "code",
   "execution_count": 107,
   "metadata": {},
   "outputs": [
    {
     "data": {
      "text/plain": [
       "2.3"
      ]
     },
     "execution_count": 107,
     "metadata": {},
     "output_type": "execute_result"
    }
   ],
   "source": [
    "float('2.3')"
   ]
  },
  {
   "cell_type": "code",
   "execution_count": 108,
   "metadata": {},
   "outputs": [],
   "source": [
    "def convert_to_int(obj):\n",
    "    if type(obj) is int:\n",
    "        return obj\n",
    "    elif type(obj) is float:\n",
    "        return int(obj)\n",
    "    # ..."
   ]
  },
  {
   "cell_type": "markdown",
   "metadata": {},
   "source": [
    "## Compound Datatypes"
   ]
  },
  {
   "cell_type": "markdown",
   "metadata": {},
   "source": [
    "### Dictionary"
   ]
  },
  {
   "cell_type": "code",
   "execution_count": 109,
   "metadata": {},
   "outputs": [],
   "source": [
    "d = {'one': 1, 'two': 2}"
   ]
  },
  {
   "cell_type": "code",
   "execution_count": 110,
   "metadata": {},
   "outputs": [
    {
     "data": {
      "text/plain": [
       "1"
      ]
     },
     "execution_count": 110,
     "metadata": {},
     "output_type": "execute_result"
    }
   ],
   "source": [
    "d['one']"
   ]
  },
  {
   "cell_type": "code",
   "execution_count": 111,
   "metadata": {},
   "outputs": [
    {
     "name": "stdout",
     "output_type": "stream",
     "text": [
      "<class 'KeyError'> 'three'\n"
     ]
    }
   ],
   "source": [
    "try:\n",
    "    d['three']\n",
    "except Exception as e:\n",
    "    print(type(e), e)"
   ]
  },
  {
   "cell_type": "code",
   "execution_count": 112,
   "metadata": {},
   "outputs": [],
   "source": [
    "d['three'] = 3"
   ]
  },
  {
   "cell_type": "code",
   "execution_count": 113,
   "metadata": {},
   "outputs": [
    {
     "name": "stdout",
     "output_type": "stream",
     "text": [
      "None\n"
     ]
    }
   ],
   "source": [
    "v = d.get('four')\n",
    "print(v)"
   ]
  },
  {
   "cell_type": "code",
   "execution_count": 114,
   "metadata": {},
   "outputs": [],
   "source": [
    "v = d.get('four')\n",
    "if v is None:\n",
    "    v = 4"
   ]
  },
  {
   "cell_type": "code",
   "execution_count": 115,
   "metadata": {},
   "outputs": [
    {
     "data": {
      "text/plain": [
       "4"
      ]
     },
     "execution_count": 115,
     "metadata": {},
     "output_type": "execute_result"
    }
   ],
   "source": [
    "d.get('four', 4)"
   ]
  },
  {
   "cell_type": "code",
   "execution_count": 116,
   "metadata": {},
   "outputs": [],
   "source": [
    "v = d.get('four')\n",
    "if v is None:\n",
    "    v = 4\n",
    "    d['four'] = v"
   ]
  },
  {
   "cell_type": "code",
   "execution_count": 117,
   "metadata": {},
   "outputs": [
    {
     "data": {
      "text/plain": [
       "4"
      ]
     },
     "execution_count": 117,
     "metadata": {},
     "output_type": "execute_result"
    }
   ],
   "source": [
    "d['four']"
   ]
  },
  {
   "cell_type": "code",
   "execution_count": 118,
   "metadata": {},
   "outputs": [
    {
     "data": {
      "text/plain": [
       "5"
      ]
     },
     "execution_count": 118,
     "metadata": {},
     "output_type": "execute_result"
    }
   ],
   "source": [
    "d.setdefault('five', 5)"
   ]
  },
  {
   "cell_type": "code",
   "execution_count": 119,
   "metadata": {},
   "outputs": [
    {
     "data": {
      "text/plain": [
       "5"
      ]
     },
     "execution_count": 119,
     "metadata": {},
     "output_type": "execute_result"
    }
   ],
   "source": [
    "d['five']"
   ]
  },
  {
   "cell_type": "markdown",
   "metadata": {},
   "source": [
    "### Set"
   ]
  },
  {
   "cell_type": "code",
   "execution_count": 120,
   "metadata": {},
   "outputs": [],
   "source": [
    "s = {1,2,3}"
   ]
  },
  {
   "cell_type": "code",
   "execution_count": 121,
   "metadata": {},
   "outputs": [],
   "source": [
    "s.add(4)"
   ]
  },
  {
   "cell_type": "code",
   "execution_count": 122,
   "metadata": {},
   "outputs": [],
   "source": [
    "s.remove(1)"
   ]
  },
  {
   "cell_type": "code",
   "execution_count": 123,
   "metadata": {},
   "outputs": [
    {
     "data": {
      "text/plain": [
       "3"
      ]
     },
     "execution_count": 123,
     "metadata": {},
     "output_type": "execute_result"
    }
   ],
   "source": [
    "len(s)"
   ]
  },
  {
   "cell_type": "code",
   "execution_count": 124,
   "metadata": {},
   "outputs": [],
   "source": [
    "s.add(4)"
   ]
  },
  {
   "cell_type": "code",
   "execution_count": 125,
   "metadata": {},
   "outputs": [
    {
     "data": {
      "text/plain": [
       "3"
      ]
     },
     "execution_count": 125,
     "metadata": {},
     "output_type": "execute_result"
    }
   ],
   "source": [
    "len(s)"
   ]
  },
  {
   "cell_type": "code",
   "execution_count": 126,
   "metadata": {},
   "outputs": [
    {
     "data": {
      "text/plain": [
       "True"
      ]
     },
     "execution_count": 126,
     "metadata": {},
     "output_type": "execute_result"
    }
   ],
   "source": [
    "2 in s"
   ]
  },
  {
   "cell_type": "markdown",
   "metadata": {},
   "source": [
    "``in`` on lists: performance!"
   ]
  },
  {
   "cell_type": "code",
   "execution_count": 127,
   "metadata": {},
   "outputs": [
    {
     "data": {
      "text/plain": [
       "True"
      ]
     },
     "execution_count": 127,
     "metadata": {},
     "output_type": "execute_result"
    }
   ],
   "source": [
    "3 in s"
   ]
  },
  {
   "cell_type": "code",
   "execution_count": 128,
   "metadata": {},
   "outputs": [],
   "source": [
    "l = [1, 2, 3]"
   ]
  },
  {
   "cell_type": "code",
   "execution_count": 129,
   "metadata": {},
   "outputs": [
    {
     "data": {
      "text/plain": [
       "True"
      ]
     },
     "execution_count": 129,
     "metadata": {},
     "output_type": "execute_result"
    }
   ],
   "source": [
    "1 in l"
   ]
  },
  {
   "cell_type": "code",
   "execution_count": 130,
   "metadata": {},
   "outputs": [
    {
     "data": {
      "text/plain": [
       "True"
      ]
     },
     "execution_count": 130,
     "metadata": {},
     "output_type": "execute_result"
    }
   ],
   "source": [
    "2 in l"
   ]
  },
  {
   "cell_type": "code",
   "execution_count": 131,
   "metadata": {},
   "outputs": [
    {
     "data": {
      "text/plain": [
       "True"
      ]
     },
     "execution_count": 131,
     "metadata": {},
     "output_type": "execute_result"
    }
   ],
   "source": [
    "3 in l"
   ]
  },
  {
   "cell_type": "code",
   "execution_count": 132,
   "metadata": {},
   "outputs": [
    {
     "data": {
      "text/plain": [
       "False"
      ]
     },
     "execution_count": 132,
     "metadata": {},
     "output_type": "execute_result"
    }
   ],
   "source": [
    "100 in l"
   ]
  },
  {
   "cell_type": "markdown",
   "metadata": {},
   "source": [
    "Kann  man listen in sets konvertieren?"
   ]
  },
  {
   "cell_type": "code",
   "execution_count": 133,
   "metadata": {},
   "outputs": [],
   "source": [
    "l = [1,2,3]\n",
    "s = set(l)   # iterable"
   ]
  },
  {
   "cell_type": "code",
   "execution_count": 134,
   "metadata": {},
   "outputs": [
    {
     "data": {
      "text/plain": [
       "{1, 2, 3}"
      ]
     },
     "execution_count": 134,
     "metadata": {},
     "output_type": "execute_result"
    }
   ],
   "source": [
    "s"
   ]
  },
  {
   "cell_type": "code",
   "execution_count": 135,
   "metadata": {},
   "outputs": [
    {
     "data": {
      "text/plain": [
       "{'a', 'b', 'c'}"
      ]
     },
     "execution_count": 135,
     "metadata": {},
     "output_type": "execute_result"
    }
   ],
   "source": [
    "set('abc')"
   ]
  },
  {
   "cell_type": "code",
   "execution_count": 136,
   "metadata": {},
   "outputs": [
    {
     "name": "stdout",
     "output_type": "stream",
     "text": [
      "a\n",
      "b\n",
      "c\n"
     ]
    }
   ],
   "source": [
    "for elem in 'abc':\n",
    "    print(elem)"
   ]
  },
  {
   "cell_type": "code",
   "execution_count": 137,
   "metadata": {},
   "outputs": [
    {
     "name": "stdout",
     "output_type": "stream",
     "text": [
      "<class 'TypeError'> set expected at most 1 argument, got 2\n"
     ]
    }
   ],
   "source": [
    "try:\n",
    "    set('abc', 'def')\n",
    "except Exception as e:\n",
    "    print(type(e), e)"
   ]
  },
  {
   "cell_type": "code",
   "execution_count": 138,
   "metadata": {},
   "outputs": [
    {
     "data": {
      "text/plain": [
       "{'abc'}"
      ]
     },
     "execution_count": 138,
     "metadata": {},
     "output_type": "execute_result"
    }
   ],
   "source": [
    "set(['abc'])"
   ]
  },
  {
   "cell_type": "code",
   "execution_count": 139,
   "metadata": {},
   "outputs": [
    {
     "data": {
      "text/plain": [
       "{'abc', 'def'}"
      ]
     },
     "execution_count": 139,
     "metadata": {},
     "output_type": "execute_result"
    }
   ],
   "source": [
    "set(['abc', 'def'])"
   ]
  },
  {
   "cell_type": "markdown",
   "metadata": {},
   "source": [
    "### And Iterables? The Iterator Protocol!"
   ]
  },
  {
   "cell_type": "code",
   "execution_count": 140,
   "metadata": {},
   "outputs": [
    {
     "data": {
      "text/plain": [
       "{0, 1, 2}"
      ]
     },
     "execution_count": 140,
     "metadata": {},
     "output_type": "execute_result"
    }
   ],
   "source": [
    "set(range(3))"
   ]
  },
  {
   "cell_type": "code",
   "execution_count": 141,
   "metadata": {},
   "outputs": [
    {
     "name": "stdout",
     "output_type": "stream",
     "text": [
      "0\n",
      "1\n",
      "2\n"
     ]
    }
   ],
   "source": [
    "for elem in range(3):\n",
    "    print(elem)"
   ]
  },
  {
   "cell_type": "code",
   "execution_count": 142,
   "metadata": {},
   "outputs": [],
   "source": [
    "r = range(3)"
   ]
  },
  {
   "cell_type": "code",
   "execution_count": 143,
   "metadata": {},
   "outputs": [
    {
     "data": {
      "text/plain": [
       "range"
      ]
     },
     "execution_count": 143,
     "metadata": {},
     "output_type": "execute_result"
    }
   ],
   "source": [
    "type(r)"
   ]
  },
  {
   "cell_type": "code",
   "execution_count": 144,
   "metadata": {},
   "outputs": [],
   "source": [
    "it = iter(r)"
   ]
  },
  {
   "cell_type": "code",
   "execution_count": 145,
   "metadata": {},
   "outputs": [
    {
     "data": {
      "text/plain": [
       "0"
      ]
     },
     "execution_count": 145,
     "metadata": {},
     "output_type": "execute_result"
    }
   ],
   "source": [
    "next(it)"
   ]
  },
  {
   "cell_type": "code",
   "execution_count": 146,
   "metadata": {},
   "outputs": [
    {
     "data": {
      "text/plain": [
       "1"
      ]
     },
     "execution_count": 146,
     "metadata": {},
     "output_type": "execute_result"
    }
   ],
   "source": [
    "next(it)"
   ]
  },
  {
   "cell_type": "code",
   "execution_count": 147,
   "metadata": {},
   "outputs": [
    {
     "data": {
      "text/plain": [
       "2"
      ]
     },
     "execution_count": 147,
     "metadata": {},
     "output_type": "execute_result"
    }
   ],
   "source": [
    "next(it)"
   ]
  },
  {
   "cell_type": "code",
   "execution_count": 148,
   "metadata": {},
   "outputs": [
    {
     "name": "stdout",
     "output_type": "stream",
     "text": [
      "<class 'StopIteration'> \n"
     ]
    }
   ],
   "source": [
    "try:\n",
    "    next(it)\n",
    "except Exception as e:\n",
    "    print(type(e), e)"
   ]
  },
  {
   "cell_type": "code",
   "execution_count": 149,
   "metadata": {},
   "outputs": [],
   "source": [
    "def drei_ints():\n",
    "    return [1,2,3]"
   ]
  },
  {
   "cell_type": "code",
   "execution_count": 150,
   "metadata": {},
   "outputs": [
    {
     "name": "stdout",
     "output_type": "stream",
     "text": [
      "1\n",
      "2\n",
      "3\n"
     ]
    }
   ],
   "source": [
    "for elem in drei_ints():\n",
    "    print(elem)"
   ]
  },
  {
   "cell_type": "code",
   "execution_count": 151,
   "metadata": {},
   "outputs": [],
   "source": [
    "def drei_ints():\n",
    "    print('eins')\n",
    "    yield 1\n",
    "    print('zwei')\n",
    "    yield 2\n",
    "    print('drei')\n",
    "    yield 3\n",
    "    print('und aus')"
   ]
  },
  {
   "cell_type": "code",
   "execution_count": 152,
   "metadata": {},
   "outputs": [
    {
     "name": "stdout",
     "output_type": "stream",
     "text": [
      "eins\n",
      "1\n",
      "zwei\n",
      "2\n",
      "drei\n",
      "3\n",
      "und aus\n"
     ]
    }
   ],
   "source": [
    "for elem in drei_ints():\n",
    "    print(elem)"
   ]
  },
  {
   "cell_type": "code",
   "execution_count": 153,
   "metadata": {},
   "outputs": [],
   "source": [
    "d = drei_ints()"
   ]
  },
  {
   "cell_type": "code",
   "execution_count": 154,
   "metadata": {},
   "outputs": [],
   "source": [
    "it = iter(d)"
   ]
  },
  {
   "cell_type": "code",
   "execution_count": 155,
   "metadata": {},
   "outputs": [
    {
     "name": "stdout",
     "output_type": "stream",
     "text": [
      "eins\n"
     ]
    },
    {
     "data": {
      "text/plain": [
       "1"
      ]
     },
     "execution_count": 155,
     "metadata": {},
     "output_type": "execute_result"
    }
   ],
   "source": [
    "next(it)"
   ]
  },
  {
   "cell_type": "code",
   "execution_count": 156,
   "metadata": {},
   "outputs": [
    {
     "name": "stdout",
     "output_type": "stream",
     "text": [
      "zwei\n"
     ]
    },
    {
     "data": {
      "text/plain": [
       "2"
      ]
     },
     "execution_count": 156,
     "metadata": {},
     "output_type": "execute_result"
    }
   ],
   "source": [
    "next(it)"
   ]
  },
  {
   "cell_type": "code",
   "execution_count": 157,
   "metadata": {},
   "outputs": [
    {
     "name": "stdout",
     "output_type": "stream",
     "text": [
      "drei\n"
     ]
    },
    {
     "data": {
      "text/plain": [
       "3"
      ]
     },
     "execution_count": 157,
     "metadata": {},
     "output_type": "execute_result"
    }
   ],
   "source": [
    "next(it)"
   ]
  },
  {
   "cell_type": "code",
   "execution_count": 158,
   "metadata": {},
   "outputs": [
    {
     "name": "stdout",
     "output_type": "stream",
     "text": [
      "und aus\n",
      "<class 'StopIteration'> \n"
     ]
    }
   ],
   "source": [
    "try:\n",
    "    next(it)\n",
    "except Exception as e:\n",
    "    print(type(e), e)"
   ]
  },
  {
   "cell_type": "code",
   "execution_count": 159,
   "metadata": {},
   "outputs": [],
   "source": [
    "numbers = [0, 1, 2, 3, 4, 5]"
   ]
  },
  {
   "cell_type": "code",
   "execution_count": 160,
   "metadata": {},
   "outputs": [],
   "source": [
    "squares = []\n",
    "for elem in numbers:\n",
    "    squares.append(elem**2)"
   ]
  },
  {
   "cell_type": "code",
   "execution_count": 161,
   "metadata": {},
   "outputs": [
    {
     "data": {
      "text/plain": [
       "[0, 1, 4, 9, 16, 25]"
      ]
     },
     "execution_count": 161,
     "metadata": {},
     "output_type": "execute_result"
    }
   ],
   "source": [
    "squares"
   ]
  },
  {
   "cell_type": "code",
   "execution_count": 162,
   "metadata": {},
   "outputs": [],
   "source": [
    "def squares(nums):\n",
    "    sqs = []\n",
    "    for elem in nums:\n",
    "        sqs.append(elem**2)\n",
    "    return sqs"
   ]
  },
  {
   "cell_type": "code",
   "execution_count": 163,
   "metadata": {},
   "outputs": [
    {
     "name": "stdout",
     "output_type": "stream",
     "text": [
      "0\n",
      "1\n",
      "4\n",
      "9\n",
      "16\n",
      "25\n"
     ]
    }
   ],
   "source": [
    "for elem in squares(numbers):\n",
    "    print(elem)"
   ]
  },
  {
   "cell_type": "code",
   "execution_count": 164,
   "metadata": {},
   "outputs": [],
   "source": [
    "def squares(nums):\n",
    "    for elem in nums:\n",
    "        yield elem**2"
   ]
  },
  {
   "cell_type": "code",
   "execution_count": 165,
   "metadata": {},
   "outputs": [
    {
     "name": "stdout",
     "output_type": "stream",
     "text": [
      "0\n",
      "1\n",
      "4\n",
      "9\n",
      "16\n",
      "25\n"
     ]
    }
   ],
   "source": [
    "for elem in squares(numbers):\n",
    "    print(elem)"
   ]
  },
  {
   "cell_type": "code",
   "execution_count": 166,
   "metadata": {},
   "outputs": [
    {
     "data": {
      "text/plain": [
       "[0, 1, 2, 3, 4, 5]"
      ]
     },
     "execution_count": 166,
     "metadata": {},
     "output_type": "execute_result"
    }
   ],
   "source": [
    "numbers"
   ]
  },
  {
   "cell_type": "code",
   "execution_count": 167,
   "metadata": {},
   "outputs": [
    {
     "data": {
      "text/plain": [
       "[0, 1, 4, 9, 16, 25]"
      ]
     },
     "execution_count": 167,
     "metadata": {},
     "output_type": "execute_result"
    }
   ],
   "source": [
    "[elem**2 for elem in numbers]"
   ]
  },
  {
   "cell_type": "code",
   "execution_count": 168,
   "metadata": {},
   "outputs": [],
   "source": [
    "sqs = (elem**2 for elem in numbers)"
   ]
  },
  {
   "cell_type": "code",
   "execution_count": 169,
   "metadata": {},
   "outputs": [
    {
     "name": "stdout",
     "output_type": "stream",
     "text": [
      "0\n",
      "1\n",
      "4\n",
      "9\n",
      "16\n",
      "25\n"
     ]
    }
   ],
   "source": [
    "for sq in sqs:\n",
    "    print(sq)"
   ]
  },
  {
   "cell_type": "markdown",
   "metadata": {},
   "source": [
    "## Strings"
   ]
  },
  {
   "cell_type": "code",
   "execution_count": 170,
   "metadata": {},
   "outputs": [
    {
     "data": {
      "text/plain": [
       "'zeile 1\\nzeile 2\\n'"
      ]
     },
     "execution_count": 170,
     "metadata": {},
     "output_type": "execute_result"
    }
   ],
   "source": [
    "'''\\\n",
    "zeile 1\n",
    "zeile 2\n",
    "'''"
   ]
  },
  {
   "cell_type": "code",
   "execution_count": 171,
   "metadata": {},
   "outputs": [],
   "source": [
    "def foo(bar):\n",
    "    '''\n",
    "    Foos a bar.\n",
    "    ``bar`` should be a str.\n",
    "    '''\n",
    "\n",
    "    return 'foo' + bar"
   ]
  },
  {
   "cell_type": "code",
   "execution_count": 172,
   "metadata": {},
   "outputs": [
    {
     "data": {
      "text/plain": [
       "'fooabc'"
      ]
     },
     "execution_count": 172,
     "metadata": {},
     "output_type": "execute_result"
    }
   ],
   "source": [
    "foo('abc')"
   ]
  },
  {
   "cell_type": "code",
   "execution_count": 173,
   "metadata": {},
   "outputs": [
    {
     "data": {
      "text/plain": [
       "<function __main__.foo(bar)>"
      ]
     },
     "execution_count": 173,
     "metadata": {},
     "output_type": "execute_result"
    }
   ],
   "source": [
    "foo"
   ]
  },
  {
   "cell_type": "code",
   "execution_count": 174,
   "metadata": {},
   "outputs": [
    {
     "data": {
      "text/plain": [
       "'\\n    Foos a bar.\\n    ``bar`` should be a str.\\n    '"
      ]
     },
     "execution_count": 174,
     "metadata": {},
     "output_type": "execute_result"
    }
   ],
   "source": [
    "foo.__doc__"
   ]
  },
  {
   "cell_type": "code",
   "execution_count": 175,
   "metadata": {},
   "outputs": [
    {
     "name": "stdout",
     "output_type": "stream",
     "text": [
      "Help on function foo in module __main__:\n",
      "\n",
      "foo(bar)\n",
      "    Foos a bar.\n",
      "    ``bar`` should be a str.\n",
      "\n"
     ]
    }
   ],
   "source": [
    "help(foo)"
   ]
  },
  {
   "cell_type": "markdown",
   "metadata": {},
   "source": [
    "### Methods"
   ]
  },
  {
   "cell_type": "code",
   "execution_count": 176,
   "metadata": {},
   "outputs": [],
   "source": [
    "s = 'mississippi'"
   ]
  },
  {
   "cell_type": "code",
   "execution_count": 177,
   "metadata": {},
   "outputs": [
    {
     "data": {
      "text/plain": [
       "2"
      ]
     },
     "execution_count": 177,
     "metadata": {},
     "output_type": "execute_result"
    }
   ],
   "source": [
    "s.count('ss')"
   ]
  },
  {
   "cell_type": "code",
   "execution_count": 178,
   "metadata": {},
   "outputs": [
    {
     "data": {
      "text/plain": [
       "2"
      ]
     },
     "execution_count": 178,
     "metadata": {},
     "output_type": "execute_result"
    }
   ],
   "source": [
    "pos = s.find('ss')\n",
    "pos"
   ]
  },
  {
   "cell_type": "code",
   "execution_count": 179,
   "metadata": {},
   "outputs": [
    {
     "data": {
      "text/plain": [
       "5"
      ]
     },
     "execution_count": 179,
     "metadata": {},
     "output_type": "execute_result"
    }
   ],
   "source": [
    "s.find('ss', pos+1)"
   ]
  },
  {
   "cell_type": "code",
   "execution_count": 180,
   "metadata": {},
   "outputs": [
    {
     "data": {
      "text/plain": [
       "-1"
      ]
     },
     "execution_count": 180,
     "metadata": {},
     "output_type": "execute_result"
    }
   ],
   "source": [
    "s.find('xx')"
   ]
  },
  {
   "cell_type": "code",
   "execution_count": 181,
   "metadata": {},
   "outputs": [
    {
     "data": {
      "text/plain": [
       "2"
      ]
     },
     "execution_count": 181,
     "metadata": {},
     "output_type": "execute_result"
    }
   ],
   "source": [
    "s.index('ss')"
   ]
  },
  {
   "cell_type": "code",
   "execution_count": 182,
   "metadata": {},
   "outputs": [
    {
     "name": "stdout",
     "output_type": "stream",
     "text": [
      "<class 'ValueError'> substring not found\n"
     ]
    }
   ],
   "source": [
    "try:\n",
    "    s.index('xx')\n",
    "except Exception as e:\n",
    "    print(type(e), e)"
   ]
  },
  {
   "cell_type": "code",
   "execution_count": 183,
   "metadata": {},
   "outputs": [
    {
     "data": {
      "text/plain": [
       "True"
      ]
     },
     "execution_count": 183,
     "metadata": {},
     "output_type": "execute_result"
    }
   ],
   "source": [
    "'data.csv'.endswith('.csv')"
   ]
  },
  {
   "cell_type": "code",
   "execution_count": 184,
   "metadata": {},
   "outputs": [],
   "source": [
    "userline = 'jfasch:x:1000:1000:    Jörg Faschingbauer   :/home/jfasch:/bin/bash'"
   ]
  },
  {
   "cell_type": "code",
   "execution_count": 185,
   "metadata": {},
   "outputs": [
    {
     "data": {
      "text/plain": [
       "['jfasch',\n",
       " 'x',\n",
       " '1000',\n",
       " '1000',\n",
       " '    Jörg Faschingbauer   ',\n",
       " '/home/jfasch',\n",
       " '/bin/bash']"
      ]
     },
     "execution_count": 185,
     "metadata": {},
     "output_type": "execute_result"
    }
   ],
   "source": [
    "userline.split(':')"
   ]
  },
  {
   "cell_type": "code",
   "execution_count": 186,
   "metadata": {},
   "outputs": [],
   "source": [
    "name, _, uid, gid, descr, home, shell = userline.split(':')"
   ]
  },
  {
   "cell_type": "code",
   "execution_count": 187,
   "metadata": {},
   "outputs": [
    {
     "data": {
      "text/plain": [
       "'Jörg Faschingbauer'"
      ]
     },
     "execution_count": 187,
     "metadata": {},
     "output_type": "execute_result"
    }
   ],
   "source": [
    "descr.strip()"
   ]
  },
  {
   "cell_type": "code",
   "execution_count": 188,
   "metadata": {},
   "outputs": [
    {
     "data": {
      "text/plain": [
       "'    Jörg Faschingbauer'"
      ]
     },
     "execution_count": 188,
     "metadata": {},
     "output_type": "execute_result"
    }
   ],
   "source": [
    "descr.rstrip()"
   ]
  },
  {
   "cell_type": "code",
   "execution_count": 189,
   "metadata": {},
   "outputs": [
    {
     "data": {
      "text/plain": [
       "'Jörg Faschingbauer'"
      ]
     },
     "execution_count": 189,
     "metadata": {},
     "output_type": "execute_result"
    }
   ],
   "source": [
    "descr.strip(' \\t')"
   ]
  },
  {
   "cell_type": "code",
   "execution_count": 190,
   "metadata": {},
   "outputs": [
    {
     "data": {
      "text/plain": [
       "'örg Faschingbaue'"
      ]
     },
     "execution_count": 190,
     "metadata": {},
     "output_type": "execute_result"
    }
   ],
   "source": [
    "descr.strip(' \\tJr')"
   ]
  },
  {
   "cell_type": "code",
   "execution_count": 191,
   "metadata": {},
   "outputs": [],
   "source": [
    "user = ['jfasch', 'x', '1000', '1000', 'Joerg Faschingbauer', '/home/jfasch', '/bin/bash']"
   ]
  },
  {
   "cell_type": "code",
   "execution_count": 192,
   "metadata": {},
   "outputs": [
    {
     "data": {
      "text/plain": [
       "'jfasch:x:1000:1000:Joerg Faschingbauer:/home/jfasch:/bin/bash'"
      ]
     },
     "execution_count": 192,
     "metadata": {},
     "output_type": "execute_result"
    }
   ],
   "source": [
    "':'.join(user)"
   ]
  },
  {
   "cell_type": "code",
   "execution_count": 193,
   "metadata": {},
   "outputs": [
    {
     "data": {
      "text/plain": [
       "'                                      XXX                                       '"
      ]
     },
     "execution_count": 193,
     "metadata": {},
     "output_type": "execute_result"
    }
   ],
   "source": [
    "'XXX'.center(80)"
   ]
  },
  {
   "cell_type": "code",
   "execution_count": 194,
   "metadata": {},
   "outputs": [
    {
     "data": {
      "text/plain": [
       "'XXX'"
      ]
     },
     "execution_count": 194,
     "metadata": {},
     "output_type": "execute_result"
    }
   ],
   "source": [
    "'xxx'.upper()"
   ]
  },
  {
   "cell_type": "code",
   "execution_count": 195,
   "metadata": {},
   "outputs": [
    {
     "data": {
      "text/plain": [
       "'jfasch:x:1000:1000:    Jörg Faschingbauer   :/home/jfasch:/bin/bash'"
      ]
     },
     "execution_count": 195,
     "metadata": {},
     "output_type": "execute_result"
    }
   ],
   "source": [
    "userline"
   ]
  },
  {
   "cell_type": "code",
   "execution_count": 196,
   "metadata": {},
   "outputs": [],
   "source": [
    "name, _, _, _, descr, home, shell = userline.split(':')"
   ]
  },
  {
   "cell_type": "code",
   "execution_count": 197,
   "metadata": {},
   "outputs": [
    {
     "data": {
      "text/plain": [
       "'jfasch:x:1000:1000:    Jörg Faschingbauer   :/home/jfasch:/bin/bash'"
      ]
     },
     "execution_count": 197,
     "metadata": {},
     "output_type": "execute_result"
    }
   ],
   "source": [
    "userline"
   ]
  },
  {
   "cell_type": "code",
   "execution_count": 198,
   "metadata": {},
   "outputs": [
    {
     "data": {
      "text/plain": [
       "['jfasch',\n",
       " 'x',\n",
       " '1000',\n",
       " '1000',\n",
       " '    Jörg Faschingbauer   ',\n",
       " '/home/jfasch',\n",
       " '/bin/bash']"
      ]
     },
     "execution_count": 198,
     "metadata": {},
     "output_type": "execute_result"
    }
   ],
   "source": [
    "userline.split(':')"
   ]
  },
  {
   "cell_type": "code",
   "execution_count": 199,
   "metadata": {},
   "outputs": [
    {
     "data": {
      "text/plain": [
       "['JFASCH',\n",
       " 'X',\n",
       " '1000',\n",
       " '1000',\n",
       " 'JÖRG FASCHINGBAUER',\n",
       " '/HOME/JFASCH',\n",
       " '/BIN/BASH']"
      ]
     },
     "execution_count": 199,
     "metadata": {},
     "output_type": "execute_result"
    }
   ],
   "source": [
    "[elem.strip().upper() for elem in userline.split(':')]"
   ]
  },
  {
   "cell_type": "code",
   "execution_count": 200,
   "metadata": {},
   "outputs": [],
   "source": [
    "l = [300, 3, 20, 50, 101]"
   ]
  },
  {
   "cell_type": "code",
   "execution_count": 201,
   "metadata": {},
   "outputs": [
    {
     "name": "stdout",
     "output_type": "stream",
     "text": [
      "3\n",
      "20\n",
      "50\n"
     ]
    }
   ],
   "source": [
    "for elem in filter(lambda x: x<55, l):\n",
    "    print(elem)"
   ]
  },
  {
   "cell_type": "code",
   "execution_count": 202,
   "metadata": {},
   "outputs": [
    {
     "data": {
      "text/plain": [
       "[3, 20, 50]"
      ]
     },
     "execution_count": 202,
     "metadata": {},
     "output_type": "execute_result"
    }
   ],
   "source": [
    "[elem for elem in l if elem <55]"
   ]
  },
  {
   "cell_type": "markdown",
   "metadata": {},
   "source": [
    "## File IO"
   ]
  },
  {
   "cell_type": "code",
   "execution_count": 203,
   "metadata": {},
   "outputs": [],
   "source": [
    "f = open('/etc/passwd')"
   ]
  },
  {
   "cell_type": "code",
   "execution_count": 204,
   "metadata": {},
   "outputs": [
    {
     "data": {
      "text/plain": [
       "'root:x:0:0:root:/root:/bin/bash\\nbin:x:1:1:bin:/bin:/sbin/nologin\\ndaemon:x:2:2:daemon:/sbin:/sbin/nologin\\nadm:x:3:4:adm:/var/adm:/sbin/nologin\\nlp:x:4:7:lp:/var/spool/lpd:/sbin/nologin\\nsync:x:5:0:sync:/sbin:/bin/sync\\nshutdown:x:6:0:shutdown:/sbin:/sbin/shutdown\\nhalt:x:7:0:halt:/sbin:/sbin/halt\\nmail:x:8:12:mail:/var/spool/mail:/sbin/nologin\\noperator:x:11:0:operator:/root:/sbin/nologin\\ngames:x:12:100:games:/usr/games:/sbin/nologin\\nftp:x:14:50:FTP User:/var/ftp:/sbin/nologin\\nnobody:x:65534:65534:Kernel Overflow User:/:/sbin/nologin\\ndbus:x:81:81:System message bus:/:/sbin/nologin\\napache:x:48:48:Apache:/usr/share/httpd:/sbin/nologin\\ntss:x:59:59:Account used for TPM access:/dev/null:/sbin/nologin\\nsystemd-network:x:192:192:systemd Network Management:/:/usr/sbin/nologin\\nsystemd-oom:x:999:999:systemd Userspace OOM Killer:/:/usr/sbin/nologin\\nsystemd-resolve:x:193:193:systemd Resolver:/:/usr/sbin/nologin\\nqemu:x:107:107:qemu user:/:/sbin/nologin\\npolkitd:x:998:997:User for polkitd:/:/sbin/nologin\\navahi:x:70:70:Avahi mDNS/DNS-SD Stack:/var/run/avahi-daemon:/sbin/nologin\\nunbound:x:997:995:Unbound DNS resolver:/etc/unbound:/sbin/nologin\\nnm-openconnect:x:996:994:NetworkManager user for OpenConnect:/:/sbin/nologin\\ngeoclue:x:995:993:User for geoclue:/var/lib/geoclue:/sbin/nologin\\nusbmuxd:x:113:113:usbmuxd user:/:/sbin/nologin\\ngluster:x:994:992:GlusterFS daemons:/run/gluster:/sbin/nologin\\nrtkit:x:172:172:RealtimeKit:/proc:/sbin/nologin\\nchrony:x:993:990::/var/lib/chrony:/sbin/nologin\\nsaslauth:x:992:76:Saslauthd user:/run/saslauthd:/sbin/nologin\\ndnsmasq:x:991:989:Dnsmasq DHCP and DNS server:/var/lib/dnsmasq:/sbin/nologin\\nrpc:x:32:32:Rpcbind Daemon:/var/lib/rpcbind:/sbin/nologin\\ncolord:x:990:988:User for colord:/var/lib/colord:/sbin/nologin\\nrpcuser:x:29:29:RPC Service User:/var/lib/nfs:/sbin/nologin\\nopenvpn:x:989:987:OpenVPN:/etc/openvpn:/sbin/nologin\\nnm-openvpn:x:988:986:Default user for running openvpn spawned by NetworkManager:/:/sbin/nologin\\npipewire:x:987:985:PipeWire System Daemon:/var/run/pipewire:/sbin/nologin\\nabrt:x:173:173::/etc/abrt:/sbin/nologin\\nflatpak:x:986:983:User for flatpak system helper:/:/sbin/nologin\\ngdm:x:42:42:GNOME Display Manager:/var/lib/gdm:/sbin/nologin\\ngnome-initial-setup:x:985:982::/run/gnome-initial-setup/:/sbin/nologin\\nvboxadd:x:984:1::/var/run/vboxadd:/sbin/nologin\\nsshd:x:74:74:Privilege-separated SSH:/usr/share/empty.sshd:/sbin/nologin\\ntcpdump:x:72:72::/:/sbin/nologin\\njfasch:x:1000:1000:Jörg Faschingbauer:/home/jfasch:/bin/bash\\nsystemd-coredump:x:978:978:systemd Core Dumper:/:/usr/sbin/nologin\\nsystemd-timesync:x:977:977:systemd Time Synchronization:/:/usr/sbin/nologin\\nmosquitto:x:976:976:Mosquitto Broker:/etc/mosquitto:/sbin/nologin\\n'"
      ]
     },
     "execution_count": 204,
     "metadata": {},
     "output_type": "execute_result"
    }
   ],
   "source": [
    "f.read()"
   ]
  },
  {
   "cell_type": "code",
   "execution_count": 205,
   "metadata": {},
   "outputs": [],
   "source": [
    "f = open('/etc/passwd')"
   ]
  },
  {
   "cell_type": "code",
   "execution_count": 206,
   "metadata": {},
   "outputs": [
    {
     "data": {
      "text/plain": [
       "['root:x:0:0:root:/root:/bin/bash\\n',\n",
       " 'bin:x:1:1:bin:/bin:/sbin/nologin\\n',\n",
       " 'daemon:x:2:2:daemon:/sbin:/sbin/nologin\\n',\n",
       " 'adm:x:3:4:adm:/var/adm:/sbin/nologin\\n',\n",
       " 'lp:x:4:7:lp:/var/spool/lpd:/sbin/nologin\\n',\n",
       " 'sync:x:5:0:sync:/sbin:/bin/sync\\n',\n",
       " 'shutdown:x:6:0:shutdown:/sbin:/sbin/shutdown\\n',\n",
       " 'halt:x:7:0:halt:/sbin:/sbin/halt\\n',\n",
       " 'mail:x:8:12:mail:/var/spool/mail:/sbin/nologin\\n',\n",
       " 'operator:x:11:0:operator:/root:/sbin/nologin\\n',\n",
       " 'games:x:12:100:games:/usr/games:/sbin/nologin\\n',\n",
       " 'ftp:x:14:50:FTP User:/var/ftp:/sbin/nologin\\n',\n",
       " 'nobody:x:65534:65534:Kernel Overflow User:/:/sbin/nologin\\n',\n",
       " 'dbus:x:81:81:System message bus:/:/sbin/nologin\\n',\n",
       " 'apache:x:48:48:Apache:/usr/share/httpd:/sbin/nologin\\n',\n",
       " 'tss:x:59:59:Account used for TPM access:/dev/null:/sbin/nologin\\n',\n",
       " 'systemd-network:x:192:192:systemd Network Management:/:/usr/sbin/nologin\\n',\n",
       " 'systemd-oom:x:999:999:systemd Userspace OOM Killer:/:/usr/sbin/nologin\\n',\n",
       " 'systemd-resolve:x:193:193:systemd Resolver:/:/usr/sbin/nologin\\n',\n",
       " 'qemu:x:107:107:qemu user:/:/sbin/nologin\\n',\n",
       " 'polkitd:x:998:997:User for polkitd:/:/sbin/nologin\\n',\n",
       " 'avahi:x:70:70:Avahi mDNS/DNS-SD Stack:/var/run/avahi-daemon:/sbin/nologin\\n',\n",
       " 'unbound:x:997:995:Unbound DNS resolver:/etc/unbound:/sbin/nologin\\n',\n",
       " 'nm-openconnect:x:996:994:NetworkManager user for OpenConnect:/:/sbin/nologin\\n',\n",
       " 'geoclue:x:995:993:User for geoclue:/var/lib/geoclue:/sbin/nologin\\n',\n",
       " 'usbmuxd:x:113:113:usbmuxd user:/:/sbin/nologin\\n',\n",
       " 'gluster:x:994:992:GlusterFS daemons:/run/gluster:/sbin/nologin\\n',\n",
       " 'rtkit:x:172:172:RealtimeKit:/proc:/sbin/nologin\\n',\n",
       " 'chrony:x:993:990::/var/lib/chrony:/sbin/nologin\\n',\n",
       " 'saslauth:x:992:76:Saslauthd user:/run/saslauthd:/sbin/nologin\\n',\n",
       " 'dnsmasq:x:991:989:Dnsmasq DHCP and DNS server:/var/lib/dnsmasq:/sbin/nologin\\n',\n",
       " 'rpc:x:32:32:Rpcbind Daemon:/var/lib/rpcbind:/sbin/nologin\\n',\n",
       " 'colord:x:990:988:User for colord:/var/lib/colord:/sbin/nologin\\n',\n",
       " 'rpcuser:x:29:29:RPC Service User:/var/lib/nfs:/sbin/nologin\\n',\n",
       " 'openvpn:x:989:987:OpenVPN:/etc/openvpn:/sbin/nologin\\n',\n",
       " 'nm-openvpn:x:988:986:Default user for running openvpn spawned by NetworkManager:/:/sbin/nologin\\n',\n",
       " 'pipewire:x:987:985:PipeWire System Daemon:/var/run/pipewire:/sbin/nologin\\n',\n",
       " 'abrt:x:173:173::/etc/abrt:/sbin/nologin\\n',\n",
       " 'flatpak:x:986:983:User for flatpak system helper:/:/sbin/nologin\\n',\n",
       " 'gdm:x:42:42:GNOME Display Manager:/var/lib/gdm:/sbin/nologin\\n',\n",
       " 'gnome-initial-setup:x:985:982::/run/gnome-initial-setup/:/sbin/nologin\\n',\n",
       " 'vboxadd:x:984:1::/var/run/vboxadd:/sbin/nologin\\n',\n",
       " 'sshd:x:74:74:Privilege-separated SSH:/usr/share/empty.sshd:/sbin/nologin\\n',\n",
       " 'tcpdump:x:72:72::/:/sbin/nologin\\n',\n",
       " 'jfasch:x:1000:1000:Jörg Faschingbauer:/home/jfasch:/bin/bash\\n',\n",
       " 'systemd-coredump:x:978:978:systemd Core Dumper:/:/usr/sbin/nologin\\n',\n",
       " 'systemd-timesync:x:977:977:systemd Time Synchronization:/:/usr/sbin/nologin\\n',\n",
       " 'mosquitto:x:976:976:Mosquitto Broker:/etc/mosquitto:/sbin/nologin\\n']"
      ]
     },
     "execution_count": 206,
     "metadata": {},
     "output_type": "execute_result"
    }
   ],
   "source": [
    "f.readlines()"
   ]
  },
  {
   "cell_type": "code",
   "execution_count": 207,
   "metadata": {},
   "outputs": [],
   "source": [
    "f = open('/etc/passwd')"
   ]
  },
  {
   "cell_type": "code",
   "execution_count": 208,
   "metadata": {},
   "outputs": [],
   "source": [
    "del f"
   ]
  },
  {
   "cell_type": "code",
   "execution_count": 209,
   "metadata": {},
   "outputs": [
    {
     "name": "stdout",
     "output_type": "stream",
     "text": [
      "root:x:0:0:root:/root:/bin/bash\n",
      "\n",
      "bin:x:1:1:bin:/bin:/sbin/nologin\n",
      "\n"
     ]
    }
   ],
   "source": [
    "with open('/etc/passwd') as f:\n",
    "    print(f.readline())\n",
    "    print(f.readline())"
   ]
  },
  {
   "cell_type": "code",
   "execution_count": 210,
   "metadata": {},
   "outputs": [],
   "source": [
    "f = open('/etc/passwd', 'r')    # 'r' is default"
   ]
  },
  {
   "cell_type": "code",
   "execution_count": 211,
   "metadata": {},
   "outputs": [
    {
     "name": "stdout",
     "output_type": "stream",
     "text": [
      "root:x:0:0:root:/root:/bin/bash\n",
      "\n",
      "bin:x:1:1:bin:/bin:/sbin/nologin\n",
      "\n",
      "daemon:x:2:2:daemon:/sbin:/sbin/nologin\n",
      "\n",
      "adm:x:3:4:adm:/var/adm:/sbin/nologin\n",
      "\n",
      "lp:x:4:7:lp:/var/spool/lpd:/sbin/nologin\n",
      "\n",
      "sync:x:5:0:sync:/sbin:/bin/sync\n",
      "\n",
      "shutdown:x:6:0:shutdown:/sbin:/sbin/shutdown\n",
      "\n",
      "halt:x:7:0:halt:/sbin:/sbin/halt\n",
      "\n",
      "mail:x:8:12:mail:/var/spool/mail:/sbin/nologin\n",
      "\n",
      "operator:x:11:0:operator:/root:/sbin/nologin\n",
      "\n",
      "games:x:12:100:games:/usr/games:/sbin/nologin\n",
      "\n",
      "ftp:x:14:50:FTP User:/var/ftp:/sbin/nologin\n",
      "\n",
      "nobody:x:65534:65534:Kernel Overflow User:/:/sbin/nologin\n",
      "\n",
      "dbus:x:81:81:System message bus:/:/sbin/nologin\n",
      "\n",
      "apache:x:48:48:Apache:/usr/share/httpd:/sbin/nologin\n",
      "\n",
      "tss:x:59:59:Account used for TPM access:/dev/null:/sbin/nologin\n",
      "\n",
      "systemd-network:x:192:192:systemd Network Management:/:/usr/sbin/nologin\n",
      "\n",
      "systemd-oom:x:999:999:systemd Userspace OOM Killer:/:/usr/sbin/nologin\n",
      "\n",
      "systemd-resolve:x:193:193:systemd Resolver:/:/usr/sbin/nologin\n",
      "\n",
      "qemu:x:107:107:qemu user:/:/sbin/nologin\n",
      "\n",
      "polkitd:x:998:997:User for polkitd:/:/sbin/nologin\n",
      "\n",
      "avahi:x:70:70:Avahi mDNS/DNS-SD Stack:/var/run/avahi-daemon:/sbin/nologin\n",
      "\n",
      "unbound:x:997:995:Unbound DNS resolver:/etc/unbound:/sbin/nologin\n",
      "\n",
      "nm-openconnect:x:996:994:NetworkManager user for OpenConnect:/:/sbin/nologin\n",
      "\n",
      "geoclue:x:995:993:User for geoclue:/var/lib/geoclue:/sbin/nologin\n",
      "\n",
      "usbmuxd:x:113:113:usbmuxd user:/:/sbin/nologin\n",
      "\n",
      "gluster:x:994:992:GlusterFS daemons:/run/gluster:/sbin/nologin\n",
      "\n",
      "rtkit:x:172:172:RealtimeKit:/proc:/sbin/nologin\n",
      "\n",
      "chrony:x:993:990::/var/lib/chrony:/sbin/nologin\n",
      "\n",
      "saslauth:x:992:76:Saslauthd user:/run/saslauthd:/sbin/nologin\n",
      "\n",
      "dnsmasq:x:991:989:Dnsmasq DHCP and DNS server:/var/lib/dnsmasq:/sbin/nologin\n",
      "\n",
      "rpc:x:32:32:Rpcbind Daemon:/var/lib/rpcbind:/sbin/nologin\n",
      "\n",
      "colord:x:990:988:User for colord:/var/lib/colord:/sbin/nologin\n",
      "\n",
      "rpcuser:x:29:29:RPC Service User:/var/lib/nfs:/sbin/nologin\n",
      "\n",
      "openvpn:x:989:987:OpenVPN:/etc/openvpn:/sbin/nologin\n",
      "\n",
      "nm-openvpn:x:988:986:Default user for running openvpn spawned by NetworkManager:/:/sbin/nologin\n",
      "\n",
      "pipewire:x:987:985:PipeWire System Daemon:/var/run/pipewire:/sbin/nologin\n",
      "\n",
      "abrt:x:173:173::/etc/abrt:/sbin/nologin\n",
      "\n",
      "flatpak:x:986:983:User for flatpak system helper:/:/sbin/nologin\n",
      "\n",
      "gdm:x:42:42:GNOME Display Manager:/var/lib/gdm:/sbin/nologin\n",
      "\n",
      "gnome-initial-setup:x:985:982::/run/gnome-initial-setup/:/sbin/nologin\n",
      "\n",
      "vboxadd:x:984:1::/var/run/vboxadd:/sbin/nologin\n",
      "\n",
      "sshd:x:74:74:Privilege-separated SSH:/usr/share/empty.sshd:/sbin/nologin\n",
      "\n",
      "tcpdump:x:72:72::/:/sbin/nologin\n",
      "\n",
      "jfasch:x:1000:1000:Jörg Faschingbauer:/home/jfasch:/bin/bash\n",
      "\n",
      "systemd-coredump:x:978:978:systemd Core Dumper:/:/usr/sbin/nologin\n",
      "\n",
      "systemd-timesync:x:977:977:systemd Time Synchronization:/:/usr/sbin/nologin\n",
      "\n",
      "mosquitto:x:976:976:Mosquitto Broker:/etc/mosquitto:/sbin/nologin\n",
      "\n"
     ]
    }
   ],
   "source": [
    "for line in f:\n",
    "    print(line)"
   ]
  },
  {
   "cell_type": "markdown",
   "metadata": {},
   "source": [
    "### Encoding"
   ]
  },
  {
   "cell_type": "code",
   "execution_count": 216,
   "metadata": {},
   "outputs": [],
   "source": [
    "f = open('/etc/passwd', encoding='ascii')"
   ]
  },
  {
   "cell_type": "code",
   "execution_count": 217,
   "metadata": {},
   "outputs": [
    {
     "name": "stdout",
     "output_type": "stream",
     "text": [
      "<class 'UnicodeDecodeError'> 'ascii' codec can't decode byte 0xc3 in position 2440: ordinal not in range(128)\n"
     ]
    }
   ],
   "source": [
    "try:\n",
    "    for line in f:\n",
    "        print(line)\n",
    "except Exception as e:\n",
    "    print(type(e), e)"
   ]
  },
  {
   "cell_type": "code",
   "execution_count": 218,
   "metadata": {},
   "outputs": [],
   "source": [
    "f = open('/etc/passwd', encoding='utf-8')"
   ]
  },
  {
   "cell_type": "code",
   "execution_count": 220,
   "metadata": {},
   "outputs": [],
   "source": [
    "for line in f:\n",
    "    print(line)"
   ]
  },
  {
   "cell_type": "markdown",
   "metadata": {},
   "source": [
    "## Encoding"
   ]
  },
  {
   "cell_type": "code",
   "execution_count": 221,
   "metadata": {},
   "outputs": [],
   "source": [
    "s = 'abc'"
   ]
  },
  {
   "cell_type": "code",
   "execution_count": 222,
   "metadata": {},
   "outputs": [],
   "source": [
    "import sys"
   ]
  },
  {
   "cell_type": "code",
   "execution_count": 223,
   "metadata": {},
   "outputs": [
    {
     "data": {
      "text/plain": [
       "52"
      ]
     },
     "execution_count": 223,
     "metadata": {},
     "output_type": "execute_result"
    }
   ],
   "source": [
    "sys.getsizeof(s)"
   ]
  },
  {
   "cell_type": "code",
   "execution_count": 224,
   "metadata": {},
   "outputs": [],
   "source": [
    "s = 'a'"
   ]
  },
  {
   "cell_type": "code",
   "execution_count": 225,
   "metadata": {},
   "outputs": [
    {
     "data": {
      "text/plain": [
       "50"
      ]
     },
     "execution_count": 225,
     "metadata": {},
     "output_type": "execute_result"
    }
   ],
   "source": [
    "sys.getsizeof(s)"
   ]
  },
  {
   "cell_type": "code",
   "execution_count": 226,
   "metadata": {},
   "outputs": [],
   "source": [
    "s = 'Liebe Grüße, Jörg'"
   ]
  },
  {
   "cell_type": "code",
   "execution_count": 229,
   "metadata": {},
   "outputs": [],
   "source": [
    "enc_s = s.encode('iso-8859-1')"
   ]
  },
  {
   "cell_type": "code",
   "execution_count": 230,
   "metadata": {},
   "outputs": [
    {
     "data": {
      "text/plain": [
       "b'Liebe Gr\\xfc\\xdfe, J\\xf6rg'"
      ]
     },
     "execution_count": 230,
     "metadata": {},
     "output_type": "execute_result"
    }
   ],
   "source": [
    "enc_s"
   ]
  },
  {
   "cell_type": "code",
   "execution_count": 231,
   "metadata": {},
   "outputs": [
    {
     "data": {
      "text/plain": [
       "bytes"
      ]
     },
     "execution_count": 231,
     "metadata": {},
     "output_type": "execute_result"
    }
   ],
   "source": [
    "type(enc_s)"
   ]
  },
  {
   "cell_type": "code",
   "execution_count": 232,
   "metadata": {},
   "outputs": [],
   "source": [
    "enc_s_recvd = enc_s"
   ]
  },
  {
   "cell_type": "code",
   "execution_count": 233,
   "metadata": {},
   "outputs": [
    {
     "data": {
      "text/plain": [
       "'Liebe Grќпe, Jіrg'"
      ]
     },
     "execution_count": 233,
     "metadata": {},
     "output_type": "execute_result"
    }
   ],
   "source": [
    "enc_s_recvd.decode('iso-8859-5')"
   ]
  },
  {
   "cell_type": "code",
   "execution_count": 234,
   "metadata": {},
   "outputs": [],
   "source": [
    "lg = '祝好'"
   ]
  },
  {
   "cell_type": "code",
   "execution_count": 235,
   "metadata": {},
   "outputs": [
    {
     "ename": "UnicodeEncodeError",
     "evalue": "'latin-1' codec can't encode characters in position 0-1: ordinal not in range(256)",
     "output_type": "error",
     "traceback": [
      "\u001b[0;31m---------------------------------------------------------------------------\u001b[0m",
      "\u001b[0;31mUnicodeEncodeError\u001b[0m                        Traceback (most recent call last)",
      "\u001b[0;32m/tmp/ipykernel_81650/1521975281.py\u001b[0m in \u001b[0;36m<module>\u001b[0;34m\u001b[0m\n\u001b[0;32m----> 1\u001b[0;31m \u001b[0mlg\u001b[0m\u001b[0;34m.\u001b[0m\u001b[0mencode\u001b[0m\u001b[0;34m(\u001b[0m\u001b[0;34m'iso-8859-1'\u001b[0m\u001b[0;34m)\u001b[0m\u001b[0;34m\u001b[0m\u001b[0;34m\u001b[0m\u001b[0m\n\u001b[0m",
      "\u001b[0;31mUnicodeEncodeError\u001b[0m: 'latin-1' codec can't encode characters in position 0-1: ordinal not in range(256)"
     ]
    }
   ],
   "source": [
    "lg.encode('iso-8859-1')"
   ]
  },
  {
   "cell_type": "code",
   "execution_count": 236,
   "metadata": {},
   "outputs": [
    {
     "data": {
      "text/plain": [
       "b'\\xaf\\xac\\xa6n'"
      ]
     },
     "execution_count": 236,
     "metadata": {},
     "output_type": "execute_result"
    }
   ],
   "source": [
    "lg.encode('big5')"
   ]
  },
  {
   "cell_type": "code",
   "execution_count": 237,
   "metadata": {},
   "outputs": [
    {
     "data": {
      "text/plain": [
       "2"
      ]
     },
     "execution_count": 237,
     "metadata": {},
     "output_type": "execute_result"
    }
   ],
   "source": [
    "len(lg)"
   ]
  },
  {
   "cell_type": "code",
   "execution_count": 238,
   "metadata": {},
   "outputs": [
    {
     "data": {
      "text/plain": [
       "b'\\xe7\\xa5\\x9d\\xe5\\xa5\\xbd'"
      ]
     },
     "execution_count": 238,
     "metadata": {},
     "output_type": "execute_result"
    }
   ],
   "source": [
    "lg.encode('utf-8')"
   ]
  },
  {
   "cell_type": "code",
   "execution_count": 239,
   "metadata": {},
   "outputs": [
    {
     "data": {
      "text/plain": [
       "b'\\xff\\xfe\\x00\\x00]y\\x00\\x00}Y\\x00\\x00'"
      ]
     },
     "execution_count": 239,
     "metadata": {},
     "output_type": "execute_result"
    }
   ],
   "source": [
    "lg.encode('utf-32')"
   ]
  },
  {
   "cell_type": "code",
   "execution_count": 240,
   "metadata": {},
   "outputs": [
    {
     "data": {
      "text/plain": [
       "'祝好'"
      ]
     },
     "execution_count": 240,
     "metadata": {},
     "output_type": "execute_result"
    }
   ],
   "source": [
    "lg"
   ]
  },
  {
   "cell_type": "code",
   "execution_count": 241,
   "metadata": {},
   "outputs": [],
   "source": [
    "joerg = 'Jörg'"
   ]
  },
  {
   "cell_type": "code",
   "execution_count": 242,
   "metadata": {},
   "outputs": [],
   "source": [
    "lg_joerg = lg + ', ' + joerg "
   ]
  },
  {
   "cell_type": "code",
   "execution_count": 247,
   "metadata": {},
   "outputs": [
    {
     "data": {
      "text/plain": [
       "b'\\xe7\\xa5\\x9d\\xe5\\xa5\\xbd, J\\xc3\\xb6rg'"
      ]
     },
     "execution_count": 247,
     "metadata": {},
     "output_type": "execute_result"
    }
   ],
   "source": [
    "lg_joerg.encode('utf-8')"
   ]
  },
  {
   "cell_type": "code",
   "execution_count": 248,
   "metadata": {},
   "outputs": [],
   "source": [
    "f = open('/etc/passwd', encoding='utf-8')"
   ]
  },
  {
   "cell_type": "code",
   "execution_count": 249,
   "metadata": {},
   "outputs": [
    {
     "data": {
      "text/plain": [
       "'root:x:0:0:root:/root:/bin/bash\\n'"
      ]
     },
     "execution_count": 249,
     "metadata": {},
     "output_type": "execute_result"
    }
   ],
   "source": [
    "f.readline()"
   ]
  },
  {
   "cell_type": "code",
   "execution_count": 252,
   "metadata": {},
   "outputs": [],
   "source": [
    "f = open('/etc/passwd', 'br')"
   ]
  },
  {
   "cell_type": "code",
   "execution_count": 254,
   "metadata": {},
   "outputs": [],
   "source": [
    "content = f.readline()"
   ]
  },
  {
   "cell_type": "code",
   "execution_count": 256,
   "metadata": {},
   "outputs": [
    {
     "name": "stdout",
     "output_type": "stream",
     "text": [
      "<class 'TypeError'> can't concat str to bytes\n"
     ]
    }
   ],
   "source": [
    "try:\n",
    "    content += joerg\n",
    "except Exception as e:\n",
    "    print(type(e), e)"
   ]
  },
  {
   "cell_type": "markdown",
   "metadata": {},
   "source": [
    "## ``numpy``, ``pandas``, ``matplotlib``"
   ]
  },
  {
   "cell_type": "code",
   "execution_count": 16,
   "metadata": {},
   "outputs": [],
   "source": [
    "f = open('data.csv')"
   ]
  },
  {
   "cell_type": "code",
   "execution_count": 17,
   "metadata": {},
   "outputs": [],
   "source": [
    "import csv"
   ]
  },
  {
   "cell_type": "code",
   "execution_count": 18,
   "metadata": {},
   "outputs": [],
   "source": [
    "rdr = csv.DictReader(f, delimiter=';')"
   ]
  },
  {
   "cell_type": "code",
   "execution_count": 19,
   "metadata": {},
   "outputs": [
    {
     "name": "stdout",
     "output_type": "stream",
     "text": [
      "{'LinksUnten': '45.0', 'RechtsOben': '33.0', 'MeinSinusSensor': '0.0'}\n",
      "{'LinksUnten': '45.0', 'RechtsOben': '33.0', 'MeinSinusSensor': '0.309'}\n",
      "{'LinksUnten': '45.0', 'RechtsOben': '33.0', 'MeinSinusSensor': '0.588'}\n",
      "{'LinksUnten': '45.0', 'RechtsOben': '33.0', 'MeinSinusSensor': '0.809'}\n",
      "{'LinksUnten': '45.0', 'RechtsOben': '33.0', 'MeinSinusSensor': '0.951'}\n",
      "{'LinksUnten': '45.0', 'RechtsOben': '33.0', 'MeinSinusSensor': '1.0'}\n",
      "{'LinksUnten': '45.0', 'RechtsOben': '33.0', 'MeinSinusSensor': '0.951'}\n",
      "{'LinksUnten': '45.0', 'RechtsOben': '33.0', 'MeinSinusSensor': '0.809'}\n",
      "{'LinksUnten': '45.0', 'RechtsOben': '33.0', 'MeinSinusSensor': '0.588'}\n",
      "{'LinksUnten': '45.0', 'RechtsOben': '33.0', 'MeinSinusSensor': '0.309'}\n",
      "{'LinksUnten': '45.0', 'RechtsOben': '33.0', 'MeinSinusSensor': '0.0'}\n",
      "{'LinksUnten': '45.0', 'RechtsOben': '33.0', 'MeinSinusSensor': '-0.309'}\n",
      "{'LinksUnten': '45.0', 'RechtsOben': '33.0', 'MeinSinusSensor': '-0.588'}\n",
      "{'LinksUnten': '45.0', 'RechtsOben': '33.0', 'MeinSinusSensor': '-0.809'}\n",
      "{'LinksUnten': '45.0', 'RechtsOben': '33.0', 'MeinSinusSensor': '-0.951'}\n",
      "{'LinksUnten': '45.0', 'RechtsOben': '33.0', 'MeinSinusSensor': '-1.0'}\n",
      "{'LinksUnten': '45.0', 'RechtsOben': '33.0', 'MeinSinusSensor': '-0.951'}\n",
      "{'LinksUnten': '45.0', 'RechtsOben': '33.0', 'MeinSinusSensor': '-0.809'}\n",
      "{'LinksUnten': '45.0', 'RechtsOben': '33.0', 'MeinSinusSensor': '-0.588'}\n",
      "{'LinksUnten': '45.0', 'RechtsOben': '33.0', 'MeinSinusSensor': '-0.309'}\n",
      "{'LinksUnten': '45.0', 'RechtsOben': '33.0', 'MeinSinusSensor': '-0.0'}\n",
      "{'LinksUnten': '45.0', 'RechtsOben': '33.0', 'MeinSinusSensor': '0.309'}\n",
      "{'LinksUnten': '45.0', 'RechtsOben': '33.0', 'MeinSinusSensor': '0.588'}\n",
      "{'LinksUnten': '45.0', 'RechtsOben': '33.0', 'MeinSinusSensor': '0.809'}\n",
      "{'LinksUnten': '45.0', 'RechtsOben': '33.0', 'MeinSinusSensor': '0.951'}\n",
      "{'LinksUnten': '45.0', 'RechtsOben': '33.0', 'MeinSinusSensor': '1.0'}\n",
      "{'LinksUnten': '45.0', 'RechtsOben': '33.0', 'MeinSinusSensor': '0.951'}\n",
      "{'LinksUnten': '45.0', 'RechtsOben': '33.0', 'MeinSinusSensor': '0.809'}\n",
      "{'LinksUnten': '45.0', 'RechtsOben': '33.0', 'MeinSinusSensor': '0.588'}\n",
      "{'LinksUnten': '45.0', 'RechtsOben': '33.0', 'MeinSinusSensor': '0.309'}\n",
      "{'LinksUnten': '45.0', 'RechtsOben': '33.0', 'MeinSinusSensor': '0.0'}\n",
      "{'LinksUnten': '45.0', 'RechtsOben': '33.0', 'MeinSinusSensor': '-0.309'}\n",
      "{'LinksUnten': '45.0', 'RechtsOben': '33.0', 'MeinSinusSensor': '-0.588'}\n",
      "{'LinksUnten': '45.0', 'RechtsOben': '33.0', 'MeinSinusSensor': '-0.809'}\n",
      "{'LinksUnten': '45.0', 'RechtsOben': '33.0', 'MeinSinusSensor': '-0.951'}\n",
      "{'LinksUnten': '45.0', 'RechtsOben': '33.0', 'MeinSinusSensor': '-1.0'}\n",
      "{'LinksUnten': '45.0', 'RechtsOben': '33.0', 'MeinSinusSensor': '-0.951'}\n",
      "{'LinksUnten': '45.0', 'RechtsOben': '33.0', 'MeinSinusSensor': '-0.809'}\n",
      "{'LinksUnten': '45.0', 'RechtsOben': '33.0', 'MeinSinusSensor': '-0.588'}\n",
      "{'LinksUnten': '45.0', 'RechtsOben': '33.0', 'MeinSinusSensor': '-0.309'}\n",
      "{'LinksUnten': '45.0', 'RechtsOben': '33.0', 'MeinSinusSensor': '-0.0'}\n",
      "{'LinksUnten': '45.0', 'RechtsOben': '33.0', 'MeinSinusSensor': '0.309'}\n",
      "{'LinksUnten': '45.0', 'RechtsOben': '33.0', 'MeinSinusSensor': '0.588'}\n",
      "{'LinksUnten': '45.0', 'RechtsOben': '33.0', 'MeinSinusSensor': '0.809'}\n",
      "{'LinksUnten': '45.0', 'RechtsOben': '33.0', 'MeinSinusSensor': '0.951'}\n",
      "{'LinksUnten': '45.0', 'RechtsOben': '33.0', 'MeinSinusSensor': '1.0'}\n",
      "{'LinksUnten': '45.0', 'RechtsOben': '33.0', 'MeinSinusSensor': '0.951'}\n",
      "{'LinksUnten': '45.0', 'RechtsOben': '33.0', 'MeinSinusSensor': '0.809'}\n",
      "{'LinksUnten': '45.0', 'RechtsOben': '33.0', 'MeinSinusSensor': '0.588'}\n",
      "{'LinksUnten': '45.0', 'RechtsOben': '33.0', 'MeinSinusSensor': '0.309'}\n",
      "{'LinksUnten': '45.0', 'RechtsOben': '33.0', 'MeinSinusSensor': '-0.0'}\n",
      "{'LinksUnten': '45.0', 'RechtsOben': '33.0', 'MeinSinusSensor': '-0.309'}\n",
      "{'LinksUnten': '45.0', 'RechtsOben': '33.0', 'MeinSinusSensor': '-0.588'}\n",
      "{'LinksUnten': '45.0', 'RechtsOben': '33.0', 'MeinSinusSensor': '-0.809'}\n",
      "{'LinksUnten': '45.0', 'RechtsOben': '33.0', 'MeinSinusSensor': '-0.951'}\n",
      "{'LinksUnten': '45.0', 'RechtsOben': '33.0', 'MeinSinusSensor': '-1.0'}\n",
      "{'LinksUnten': '45.0', 'RechtsOben': '33.0', 'MeinSinusSensor': '-0.951'}\n",
      "{'LinksUnten': '45.0', 'RechtsOben': '33.0', 'MeinSinusSensor': '-0.809'}\n",
      "{'LinksUnten': '45.0', 'RechtsOben': '33.0', 'MeinSinusSensor': '-0.588'}\n",
      "{'LinksUnten': '45.0', 'RechtsOben': '33.0', 'MeinSinusSensor': '-0.309'}\n",
      "{'LinksUnten': '45.0', 'RechtsOben': '33.0', 'MeinSinusSensor': '-0.0'}\n",
      "{'LinksUnten': '45.0', 'RechtsOben': '33.0', 'MeinSinusSensor': '0.309'}\n",
      "{'LinksUnten': '45.0', 'RechtsOben': '33.0', 'MeinSinusSensor': '0.588'}\n",
      "{'LinksUnten': '45.0', 'RechtsOben': '33.0', 'MeinSinusSensor': '0.809'}\n",
      "{'LinksUnten': '44.0', 'RechtsOben': '33.0', 'MeinSinusSensor': '0.951'}\n",
      "{'LinksUnten': '44.0', 'RechtsOben': '33.0', 'MeinSinusSensor': '1.0'}\n",
      "{'LinksUnten': '45.0', 'RechtsOben': '33.0', 'MeinSinusSensor': '0.951'}\n",
      "{'LinksUnten': '45.0', 'RechtsOben': '33.0', 'MeinSinusSensor': '0.809'}\n",
      "{'LinksUnten': '45.0', 'RechtsOben': '33.0', 'MeinSinusSensor': '0.588'}\n",
      "{'LinksUnten': '45.0', 'RechtsOben': '33.0', 'MeinSinusSensor': '0.309'}\n",
      "{'LinksUnten': '45.0', 'RechtsOben': '33.0', 'MeinSinusSensor': '0.0'}\n",
      "{'LinksUnten': '45.0', 'RechtsOben': '33.0', 'MeinSinusSensor': '-0.309'}\n",
      "{'LinksUnten': '45.0', 'RechtsOben': '33.0', 'MeinSinusSensor': '-0.588'}\n",
      "{'LinksUnten': '45.0', 'RechtsOben': '33.0', 'MeinSinusSensor': '-0.809'}\n",
      "{'LinksUnten': '45.0', 'RechtsOben': '33.0', 'MeinSinusSensor': '-0.951'}\n",
      "{'LinksUnten': '45.0', 'RechtsOben': '33.0', 'MeinSinusSensor': '-1.0'}\n",
      "{'LinksUnten': '45.0', 'RechtsOben': '33.0', 'MeinSinusSensor': '-0.951'}\n",
      "{'LinksUnten': '45.0', 'RechtsOben': '33.0', 'MeinSinusSensor': '-0.809'}\n",
      "{'LinksUnten': '44.0', 'RechtsOben': '33.0', 'MeinSinusSensor': '-0.588'}\n",
      "{'LinksUnten': '45.0', 'RechtsOben': '33.0', 'MeinSinusSensor': '-0.309'}\n",
      "{'LinksUnten': '45.0', 'RechtsOben': '33.0', 'MeinSinusSensor': '-0.0'}\n",
      "{'LinksUnten': '45.0', 'RechtsOben': '33.0', 'MeinSinusSensor': '0.309'}\n",
      "{'LinksUnten': '45.0', 'RechtsOben': '33.0', 'MeinSinusSensor': '0.588'}\n",
      "{'LinksUnten': '45.0', 'RechtsOben': '33.0', 'MeinSinusSensor': '0.809'}\n",
      "{'LinksUnten': '45.0', 'RechtsOben': '33.0', 'MeinSinusSensor': '0.951'}\n",
      "{'LinksUnten': '45.0', 'RechtsOben': '33.0', 'MeinSinusSensor': '1.0'}\n",
      "{'LinksUnten': '45.0', 'RechtsOben': '33.0', 'MeinSinusSensor': '0.951'}\n",
      "{'LinksUnten': '45.0', 'RechtsOben': '33.0', 'MeinSinusSensor': '0.809'}\n",
      "{'LinksUnten': '45.0', 'RechtsOben': '33.0', 'MeinSinusSensor': '0.588'}\n",
      "{'LinksUnten': '45.0', 'RechtsOben': '33.0', 'MeinSinusSensor': '0.309'}\n",
      "{'LinksUnten': '45.0', 'RechtsOben': '33.0', 'MeinSinusSensor': '-0.0'}\n",
      "{'LinksUnten': '45.0', 'RechtsOben': '33.0', 'MeinSinusSensor': '-0.309'}\n",
      "{'LinksUnten': '45.0', 'RechtsOben': '33.0', 'MeinSinusSensor': '-0.588'}\n",
      "{'LinksUnten': '45.0', 'RechtsOben': '33.0', 'MeinSinusSensor': '-0.809'}\n",
      "{'LinksUnten': '45.0', 'RechtsOben': '33.0', 'MeinSinusSensor': '-0.951'}\n",
      "{'LinksUnten': '45.0', 'RechtsOben': '33.0', 'MeinSinusSensor': '-1.0'}\n",
      "{'LinksUnten': '45.0', 'RechtsOben': '33.0', 'MeinSinusSensor': '-0.951'}\n",
      "{'LinksUnten': '45.0', 'RechtsOben': '33.0', 'MeinSinusSensor': '-0.809'}\n",
      "{'LinksUnten': '45.0', 'RechtsOben': '33.0', 'MeinSinusSensor': '-0.588'}\n",
      "{'LinksUnten': '45.0', 'RechtsOben': '33.0', 'MeinSinusSensor': '-0.309'}\n",
      "{'LinksUnten': '45.0', 'RechtsOben': '33.0', 'MeinSinusSensor': '0.0'}\n",
      "{'LinksUnten': '45.0', 'RechtsOben': '33.0', 'MeinSinusSensor': '0.309'}\n",
      "{'LinksUnten': '45.0', 'RechtsOben': '33.0', 'MeinSinusSensor': '0.588'}\n",
      "{'LinksUnten': '45.0', 'RechtsOben': '33.0', 'MeinSinusSensor': '0.809'}\n",
      "{'LinksUnten': '45.0', 'RechtsOben': '33.0', 'MeinSinusSensor': '0.951'}\n",
      "{'LinksUnten': '45.0', 'RechtsOben': '33.0', 'MeinSinusSensor': '1.0'}\n",
      "{'LinksUnten': '45.0', 'RechtsOben': '33.0', 'MeinSinusSensor': '0.951'}\n",
      "{'LinksUnten': '45.0', 'RechtsOben': '33.0', 'MeinSinusSensor': '0.809'}\n",
      "{'LinksUnten': '45.0', 'RechtsOben': '33.0', 'MeinSinusSensor': '0.588'}\n",
      "{'LinksUnten': '45.0', 'RechtsOben': '33.0', 'MeinSinusSensor': '0.309'}\n",
      "{'LinksUnten': '45.0', 'RechtsOben': '33.0', 'MeinSinusSensor': '-0.0'}\n",
      "{'LinksUnten': '45.0', 'RechtsOben': '33.0', 'MeinSinusSensor': '-0.309'}\n",
      "{'LinksUnten': '45.0', 'RechtsOben': '33.0', 'MeinSinusSensor': '-0.588'}\n",
      "{'LinksUnten': '45.0', 'RechtsOben': '33.0', 'MeinSinusSensor': '-0.809'}\n",
      "{'LinksUnten': '45.0', 'RechtsOben': '33.0', 'MeinSinusSensor': '-0.951'}\n",
      "{'LinksUnten': '45.0', 'RechtsOben': '33.0', 'MeinSinusSensor': '-1.0'}\n",
      "{'LinksUnten': '45.0', 'RechtsOben': '33.0', 'MeinSinusSensor': '-0.951'}\n",
      "{'LinksUnten': '45.0', 'RechtsOben': '33.0', 'MeinSinusSensor': '-0.809'}\n",
      "{'LinksUnten': '45.0', 'RechtsOben': '33.0', 'MeinSinusSensor': '-0.588'}\n",
      "{'LinksUnten': '45.0', 'RechtsOben': '33.0', 'MeinSinusSensor': '-0.309'}\n",
      "{'LinksUnten': '45.0', 'RechtsOben': '33.0', 'MeinSinusSensor': '-0.0'}\n",
      "{'LinksUnten': '45.0', 'RechtsOben': '33.0', 'MeinSinusSensor': '0.309'}\n",
      "{'LinksUnten': '45.0', 'RechtsOben': '33.0', 'MeinSinusSensor': '0.588'}\n",
      "{'LinksUnten': '45.0', 'RechtsOben': '33.0', 'MeinSinusSensor': '0.809'}\n",
      "{'LinksUnten': '45.0', 'RechtsOben': '33.0', 'MeinSinusSensor': '0.951'}\n",
      "{'LinksUnten': '45.0', 'RechtsOben': '33.0', 'MeinSinusSensor': '1.0'}\n",
      "{'LinksUnten': '45.0', 'RechtsOben': '33.0', 'MeinSinusSensor': '0.951'}\n",
      "{'LinksUnten': '45.0', 'RechtsOben': '33.0', 'MeinSinusSensor': '0.809'}\n",
      "{'LinksUnten': '45.0', 'RechtsOben': '33.0', 'MeinSinusSensor': '0.588'}\n",
      "{'LinksUnten': '45.0', 'RechtsOben': '33.0', 'MeinSinusSensor': '0.309'}\n",
      "{'LinksUnten': '45.0', 'RechtsOben': '33.0', 'MeinSinusSensor': '-0.0'}\n",
      "{'LinksUnten': '45.0', 'RechtsOben': '33.0', 'MeinSinusSensor': '-0.309'}\n",
      "{'LinksUnten': '45.0', 'RechtsOben': '33.0', 'MeinSinusSensor': '-0.588'}\n",
      "{'LinksUnten': '45.0', 'RechtsOben': '33.0', 'MeinSinusSensor': '-0.809'}\n",
      "{'LinksUnten': '45.0', 'RechtsOben': '33.0', 'MeinSinusSensor': '-0.951'}\n",
      "{'LinksUnten': '45.0', 'RechtsOben': '33.0', 'MeinSinusSensor': '-1.0'}\n",
      "{'LinksUnten': '45.0', 'RechtsOben': '33.0', 'MeinSinusSensor': '-0.951'}\n",
      "{'LinksUnten': '45.0', 'RechtsOben': '33.0', 'MeinSinusSensor': '-0.809'}\n",
      "{'LinksUnten': '45.0', 'RechtsOben': '33.0', 'MeinSinusSensor': '-0.588'}\n",
      "{'LinksUnten': '45.0', 'RechtsOben': '33.0', 'MeinSinusSensor': '-0.309'}\n",
      "{'LinksUnten': '45.0', 'RechtsOben': '33.0', 'MeinSinusSensor': '-0.0'}\n",
      "{'LinksUnten': '45.0', 'RechtsOben': '33.0', 'MeinSinusSensor': '0.309'}\n",
      "{'LinksUnten': '45.0', 'RechtsOben': '33.0', 'MeinSinusSensor': '0.588'}\n",
      "{'LinksUnten': '45.0', 'RechtsOben': '33.0', 'MeinSinusSensor': '0.809'}\n",
      "{'LinksUnten': '45.0', 'RechtsOben': '33.0', 'MeinSinusSensor': '0.951'}\n",
      "{'LinksUnten': '45.0', 'RechtsOben': '33.0', 'MeinSinusSensor': '1.0'}\n",
      "{'LinksUnten': '45.0', 'RechtsOben': '33.0', 'MeinSinusSensor': '0.951'}\n",
      "{'LinksUnten': '45.0', 'RechtsOben': '33.0', 'MeinSinusSensor': '0.809'}\n",
      "{'LinksUnten': '45.0', 'RechtsOben': '33.0', 'MeinSinusSensor': '0.588'}\n",
      "{'LinksUnten': '45.0', 'RechtsOben': '33.0', 'MeinSinusSensor': '0.309'}\n",
      "{'LinksUnten': '45.0', 'RechtsOben': '33.0', 'MeinSinusSensor': '-0.0'}\n",
      "{'LinksUnten': '45.0', 'RechtsOben': '33.0', 'MeinSinusSensor': '-0.309'}\n",
      "{'LinksUnten': '45.0', 'RechtsOben': '33.0', 'MeinSinusSensor': '-0.588'}\n",
      "{'LinksUnten': '45.0', 'RechtsOben': '33.0', 'MeinSinusSensor': '-0.809'}\n",
      "{'LinksUnten': '45.0', 'RechtsOben': '33.0', 'MeinSinusSensor': '-0.951'}\n",
      "{'LinksUnten': '45.0', 'RechtsOben': '33.0', 'MeinSinusSensor': '-1.0'}\n",
      "{'LinksUnten': '45.0', 'RechtsOben': '33.0', 'MeinSinusSensor': '-0.951'}\n",
      "{'LinksUnten': '45.0', 'RechtsOben': '33.0', 'MeinSinusSensor': '-0.809'}\n",
      "{'LinksUnten': '45.0', 'RechtsOben': '33.0', 'MeinSinusSensor': '-0.588'}\n",
      "{'LinksUnten': '45.0', 'RechtsOben': '33.0', 'MeinSinusSensor': '-0.309'}\n",
      "{'LinksUnten': '45.0', 'RechtsOben': '33.0', 'MeinSinusSensor': '-0.0'}\n",
      "{'LinksUnten': '45.0', 'RechtsOben': '33.0', 'MeinSinusSensor': '0.309'}\n",
      "{'LinksUnten': '45.0', 'RechtsOben': '33.0', 'MeinSinusSensor': '0.588'}\n",
      "{'LinksUnten': '45.0', 'RechtsOben': '33.0', 'MeinSinusSensor': '0.809'}\n",
      "{'LinksUnten': '45.0', 'RechtsOben': '33.0', 'MeinSinusSensor': '0.951'}\n",
      "{'LinksUnten': '45.0', 'RechtsOben': '33.0', 'MeinSinusSensor': '1.0'}\n",
      "{'LinksUnten': '45.0', 'RechtsOben': '33.0', 'MeinSinusSensor': '0.951'}\n",
      "{'LinksUnten': '45.0', 'RechtsOben': '33.0', 'MeinSinusSensor': '0.809'}\n",
      "{'LinksUnten': '45.0', 'RechtsOben': '33.0', 'MeinSinusSensor': '0.588'}\n",
      "{'LinksUnten': '45.0', 'RechtsOben': '33.0', 'MeinSinusSensor': '0.309'}\n",
      "{'LinksUnten': '45.0', 'RechtsOben': '33.0', 'MeinSinusSensor': '-0.0'}\n",
      "{'LinksUnten': '45.0', 'RechtsOben': '33.0', 'MeinSinusSensor': '-0.309'}\n",
      "{'LinksUnten': '45.0', 'RechtsOben': '33.0', 'MeinSinusSensor': '-0.588'}\n",
      "{'LinksUnten': '45.0', 'RechtsOben': '33.0', 'MeinSinusSensor': '-0.809'}\n",
      "{'LinksUnten': '45.0', 'RechtsOben': '33.0', 'MeinSinusSensor': '-0.951'}\n",
      "{'LinksUnten': '45.0', 'RechtsOben': '33.0', 'MeinSinusSensor': '-1.0'}\n",
      "{'LinksUnten': '45.0', 'RechtsOben': '33.0', 'MeinSinusSensor': '-0.951'}\n",
      "{'LinksUnten': '45.0', 'RechtsOben': '33.0', 'MeinSinusSensor': '-0.809'}\n",
      "{'LinksUnten': '45.0', 'RechtsOben': '33.0', 'MeinSinusSensor': '-0.588'}\n",
      "{'LinksUnten': '45.0', 'RechtsOben': '33.0', 'MeinSinusSensor': '-0.309'}\n",
      "{'LinksUnten': '45.0', 'RechtsOben': '33.0', 'MeinSinusSensor': '0.0'}\n",
      "{'LinksUnten': '45.0', 'RechtsOben': '33.0', 'MeinSinusSensor': '0.309'}\n",
      "{'LinksUnten': '45.0', 'RechtsOben': '33.0', 'MeinSinusSensor': '0.588'}\n",
      "{'LinksUnten': '45.0', 'RechtsOben': '33.0', 'MeinSinusSensor': '0.809'}\n",
      "{'LinksUnten': '45.0', 'RechtsOben': '33.0', 'MeinSinusSensor': '0.951'}\n",
      "{'LinksUnten': '45.0', 'RechtsOben': '33.0', 'MeinSinusSensor': '1.0'}\n",
      "{'LinksUnten': '45.0', 'RechtsOben': '33.0', 'MeinSinusSensor': '0.951'}\n",
      "{'LinksUnten': '45.0', 'RechtsOben': '33.0', 'MeinSinusSensor': '0.809'}\n",
      "{'LinksUnten': '45.0', 'RechtsOben': '33.0', 'MeinSinusSensor': '0.588'}\n",
      "{'LinksUnten': '45.0', 'RechtsOben': '33.0', 'MeinSinusSensor': '0.309'}\n",
      "{'LinksUnten': '45.0', 'RechtsOben': '33.0', 'MeinSinusSensor': '-0.0'}\n",
      "{'LinksUnten': '45.0', 'RechtsOben': '33.0', 'MeinSinusSensor': '-0.309'}\n",
      "{'LinksUnten': '45.0', 'RechtsOben': '33.0', 'MeinSinusSensor': '-0.588'}\n",
      "{'LinksUnten': '45.0', 'RechtsOben': '33.0', 'MeinSinusSensor': '-0.809'}\n",
      "{'LinksUnten': '45.0', 'RechtsOben': '33.0', 'MeinSinusSensor': '-0.951'}\n",
      "{'LinksUnten': '45.0', 'RechtsOben': '33.0', 'MeinSinusSensor': '-1.0'}\n",
      "{'LinksUnten': '45.0', 'RechtsOben': '33.0', 'MeinSinusSensor': '-0.951'}\n",
      "{'LinksUnten': '45.0', 'RechtsOben': '33.0', 'MeinSinusSensor': '-0.809'}\n",
      "{'LinksUnten': '45.0', 'RechtsOben': '33.0', 'MeinSinusSensor': '-0.588'}\n",
      "{'LinksUnten': '45.0', 'RechtsOben': '33.0', 'MeinSinusSensor': '-0.309'}\n",
      "{'LinksUnten': '45.0', 'RechtsOben': '33.0', 'MeinSinusSensor': '0.0'}\n",
      "{'LinksUnten': '45.0', 'RechtsOben': '33.0', 'MeinSinusSensor': '0.309'}\n",
      "{'LinksUnten': '45.0', 'RechtsOben': '33.0', 'MeinSinusSensor': '0.588'}\n",
      "{'LinksUnten': '45.0', 'RechtsOben': '33.0', 'MeinSinusSensor': '0.809'}\n",
      "{'LinksUnten': '45.0', 'RechtsOben': '33.0', 'MeinSinusSensor': '0.951'}\n",
      "{'LinksUnten': '45.0', 'RechtsOben': '33.0', 'MeinSinusSensor': '1.0'}\n",
      "{'LinksUnten': '45.0', 'RechtsOben': '33.0', 'MeinSinusSensor': '0.951'}\n",
      "{'LinksUnten': '45.0', 'RechtsOben': '33.0', 'MeinSinusSensor': '0.809'}\n",
      "{'LinksUnten': '45.0', 'RechtsOben': '33.0', 'MeinSinusSensor': '0.588'}\n",
      "{'LinksUnten': '45.0', 'RechtsOben': '33.0', 'MeinSinusSensor': '0.309'}\n",
      "{'LinksUnten': '45.0', 'RechtsOben': '33.0', 'MeinSinusSensor': '-0.0'}\n",
      "{'LinksUnten': '45.0', 'RechtsOben': '33.0', 'MeinSinusSensor': '-0.309'}\n",
      "{'LinksUnten': '45.0', 'RechtsOben': '33.0', 'MeinSinusSensor': '-0.588'}\n",
      "{'LinksUnten': '45.0', 'RechtsOben': '33.0', 'MeinSinusSensor': '-0.809'}\n",
      "{'LinksUnten': '45.0', 'RechtsOben': '33.0', 'MeinSinusSensor': '-0.951'}\n",
      "{'LinksUnten': '45.0', 'RechtsOben': '33.0', 'MeinSinusSensor': '-1.0'}\n",
      "{'LinksUnten': '45.0', 'RechtsOben': '33.0', 'MeinSinusSensor': '-0.951'}\n",
      "{'LinksUnten': '45.0', 'RechtsOben': '33.0', 'MeinSinusSensor': '-0.809'}\n",
      "{'LinksUnten': '45.0', 'RechtsOben': '33.0', 'MeinSinusSensor': '-0.588'}\n",
      "{'LinksUnten': '45.0', 'RechtsOben': '33.0', 'MeinSinusSensor': '-0.309'}\n",
      "{'LinksUnten': '45.0', 'RechtsOben': '33.0', 'MeinSinusSensor': '0.0'}\n",
      "{'LinksUnten': '45.0', 'RechtsOben': '33.0', 'MeinSinusSensor': '0.309'}\n",
      "{'LinksUnten': '45.0', 'RechtsOben': '33.0', 'MeinSinusSensor': '0.588'}\n",
      "{'LinksUnten': '45.0', 'RechtsOben': '33.0', 'MeinSinusSensor': '0.809'}\n",
      "{'LinksUnten': '45.0', 'RechtsOben': '33.0', 'MeinSinusSensor': '0.951'}\n",
      "{'LinksUnten': '45.0', 'RechtsOben': '33.0', 'MeinSinusSensor': '1.0'}\n",
      "{'LinksUnten': '45.0', 'RechtsOben': '33.0', 'MeinSinusSensor': '0.951'}\n",
      "{'LinksUnten': '45.0', 'RechtsOben': '33.0', 'MeinSinusSensor': '0.809'}\n",
      "{'LinksUnten': '45.0', 'RechtsOben': '33.0', 'MeinSinusSensor': '0.588'}\n",
      "{'LinksUnten': '45.0', 'RechtsOben': '33.0', 'MeinSinusSensor': '0.309'}\n",
      "{'LinksUnten': '45.0', 'RechtsOben': '33.0', 'MeinSinusSensor': '-0.0'}\n",
      "{'LinksUnten': '45.0', 'RechtsOben': '33.0', 'MeinSinusSensor': '-0.309'}\n",
      "{'LinksUnten': '45.0', 'RechtsOben': '33.0', 'MeinSinusSensor': '-0.588'}\n",
      "{'LinksUnten': '45.0', 'RechtsOben': '33.0', 'MeinSinusSensor': '-0.809'}\n",
      "{'LinksUnten': '44.0', 'RechtsOben': '33.0', 'MeinSinusSensor': '-0.951'}\n",
      "{'LinksUnten': '44.0', 'RechtsOben': '33.0', 'MeinSinusSensor': '-1.0'}\n",
      "{'LinksUnten': '44.0', 'RechtsOben': '33.0', 'MeinSinusSensor': '-0.951'}\n",
      "{'LinksUnten': '44.0', 'RechtsOben': '33.0', 'MeinSinusSensor': '-0.809'}\n",
      "{'LinksUnten': '44.0', 'RechtsOben': '33.0', 'MeinSinusSensor': '-0.588'}\n",
      "{'LinksUnten': '44.0', 'RechtsOben': '33.0', 'MeinSinusSensor': '-0.309'}\n",
      "{'LinksUnten': '44.0', 'RechtsOben': '33.0', 'MeinSinusSensor': '-0.0'}\n",
      "{'LinksUnten': '44.0', 'RechtsOben': '33.0', 'MeinSinusSensor': '0.309'}\n",
      "{'LinksUnten': '44.0', 'RechtsOben': '33.0', 'MeinSinusSensor': '0.588'}\n",
      "{'LinksUnten': '44.0', 'RechtsOben': '33.0', 'MeinSinusSensor': '0.809'}\n",
      "{'LinksUnten': '45.0', 'RechtsOben': '33.0', 'MeinSinusSensor': '0.951'}\n",
      "{'LinksUnten': '45.0', 'RechtsOben': '33.0', 'MeinSinusSensor': '1.0'}\n",
      "{'LinksUnten': '45.0', 'RechtsOben': '33.0', 'MeinSinusSensor': '0.951'}\n",
      "{'LinksUnten': '45.0', 'RechtsOben': '33.0', 'MeinSinusSensor': '0.809'}\n",
      "{'LinksUnten': '44.0', 'RechtsOben': '33.0', 'MeinSinusSensor': '0.588'}\n",
      "{'LinksUnten': '44.0', 'RechtsOben': '33.0', 'MeinSinusSensor': '0.309'}\n",
      "{'LinksUnten': '45.0', 'RechtsOben': '33.0', 'MeinSinusSensor': '-0.0'}\n",
      "{'LinksUnten': '45.0', 'RechtsOben': '33.0', 'MeinSinusSensor': '-0.309'}\n",
      "{'LinksUnten': '45.0', 'RechtsOben': '33.0', 'MeinSinusSensor': '-0.588'}\n",
      "{'LinksUnten': '45.0', 'RechtsOben': '33.0', 'MeinSinusSensor': '-0.809'}\n",
      "{'LinksUnten': '45.0', 'RechtsOben': '33.0', 'MeinSinusSensor': '-0.951'}\n",
      "{'LinksUnten': '45.0', 'RechtsOben': '33.0', 'MeinSinusSensor': '-1.0'}\n"
     ]
    }
   ],
   "source": [
    "for obj in rdr:\n",
    "    print(obj)"
   ]
  },
  {
   "cell_type": "code",
   "execution_count": 20,
   "metadata": {},
   "outputs": [],
   "source": [
    "import pandas"
   ]
  },
  {
   "cell_type": "code",
   "execution_count": 24,
   "metadata": {},
   "outputs": [],
   "source": [
    "df = pandas.read_csv('data.csv', delimiter=';')"
   ]
  },
  {
   "cell_type": "code",
   "execution_count": 25,
   "metadata": {},
   "outputs": [
    {
     "data": {
      "text/plain": [
       "pandas.core.frame.DataFrame"
      ]
     },
     "execution_count": 25,
     "metadata": {},
     "output_type": "execute_result"
    }
   ],
   "source": [
    "type(df)"
   ]
  },
  {
   "cell_type": "code",
   "execution_count": 26,
   "metadata": {},
   "outputs": [
    {
     "data": {
      "text/html": [
       "<div>\n",
       "<style scoped>\n",
       "    .dataframe tbody tr th:only-of-type {\n",
       "        vertical-align: middle;\n",
       "    }\n",
       "\n",
       "    .dataframe tbody tr th {\n",
       "        vertical-align: top;\n",
       "    }\n",
       "\n",
       "    .dataframe thead th {\n",
       "        text-align: right;\n",
       "    }\n",
       "</style>\n",
       "<table border=\"1\" class=\"dataframe\">\n",
       "  <thead>\n",
       "    <tr style=\"text-align: right;\">\n",
       "      <th></th>\n",
       "      <th>LinksUnten</th>\n",
       "      <th>RechtsOben</th>\n",
       "      <th>MeinSinusSensor</th>\n",
       "    </tr>\n",
       "  </thead>\n",
       "  <tbody>\n",
       "    <tr>\n",
       "      <th>0</th>\n",
       "      <td>45.0</td>\n",
       "      <td>33.0</td>\n",
       "      <td>0.000</td>\n",
       "    </tr>\n",
       "    <tr>\n",
       "      <th>1</th>\n",
       "      <td>45.0</td>\n",
       "      <td>33.0</td>\n",
       "      <td>0.309</td>\n",
       "    </tr>\n",
       "    <tr>\n",
       "      <th>2</th>\n",
       "      <td>45.0</td>\n",
       "      <td>33.0</td>\n",
       "      <td>0.588</td>\n",
       "    </tr>\n",
       "    <tr>\n",
       "      <th>3</th>\n",
       "      <td>45.0</td>\n",
       "      <td>33.0</td>\n",
       "      <td>0.809</td>\n",
       "    </tr>\n",
       "    <tr>\n",
       "      <th>4</th>\n",
       "      <td>45.0</td>\n",
       "      <td>33.0</td>\n",
       "      <td>0.951</td>\n",
       "    </tr>\n",
       "    <tr>\n",
       "      <th>...</th>\n",
       "      <td>...</td>\n",
       "      <td>...</td>\n",
       "      <td>...</td>\n",
       "    </tr>\n",
       "    <tr>\n",
       "      <th>251</th>\n",
       "      <td>45.0</td>\n",
       "      <td>33.0</td>\n",
       "      <td>-0.309</td>\n",
       "    </tr>\n",
       "    <tr>\n",
       "      <th>252</th>\n",
       "      <td>45.0</td>\n",
       "      <td>33.0</td>\n",
       "      <td>-0.588</td>\n",
       "    </tr>\n",
       "    <tr>\n",
       "      <th>253</th>\n",
       "      <td>45.0</td>\n",
       "      <td>33.0</td>\n",
       "      <td>-0.809</td>\n",
       "    </tr>\n",
       "    <tr>\n",
       "      <th>254</th>\n",
       "      <td>45.0</td>\n",
       "      <td>33.0</td>\n",
       "      <td>-0.951</td>\n",
       "    </tr>\n",
       "    <tr>\n",
       "      <th>255</th>\n",
       "      <td>45.0</td>\n",
       "      <td>33.0</td>\n",
       "      <td>-1.000</td>\n",
       "    </tr>\n",
       "  </tbody>\n",
       "</table>\n",
       "<p>256 rows × 3 columns</p>\n",
       "</div>"
      ],
      "text/plain": [
       "     LinksUnten  RechtsOben  MeinSinusSensor\n",
       "0          45.0        33.0            0.000\n",
       "1          45.0        33.0            0.309\n",
       "2          45.0        33.0            0.588\n",
       "3          45.0        33.0            0.809\n",
       "4          45.0        33.0            0.951\n",
       "..          ...         ...              ...\n",
       "251        45.0        33.0           -0.309\n",
       "252        45.0        33.0           -0.588\n",
       "253        45.0        33.0           -0.809\n",
       "254        45.0        33.0           -0.951\n",
       "255        45.0        33.0           -1.000\n",
       "\n",
       "[256 rows x 3 columns]"
      ]
     },
     "execution_count": 26,
     "metadata": {},
     "output_type": "execute_result"
    }
   ],
   "source": [
    "df"
   ]
  },
  {
   "cell_type": "code",
   "execution_count": 28,
   "metadata": {},
   "outputs": [],
   "source": [
    "sinvalues = df['MeinSinusSensor']"
   ]
  },
  {
   "cell_type": "code",
   "execution_count": 29,
   "metadata": {},
   "outputs": [
    {
     "data": {
      "text/plain": [
       "pandas.core.series.Series"
      ]
     },
     "execution_count": 29,
     "metadata": {},
     "output_type": "execute_result"
    }
   ],
   "source": [
    "type(sinvalues)"
   ]
  },
  {
   "cell_type": "code",
   "execution_count": 30,
   "metadata": {},
   "outputs": [
    {
     "data": {
      "text/plain": [
       "0      0.000\n",
       "1      0.309\n",
       "2      0.588\n",
       "3      0.809\n",
       "4      0.951\n",
       "       ...  \n",
       "251   -0.309\n",
       "252   -0.588\n",
       "253   -0.809\n",
       "254   -0.951\n",
       "255   -1.000\n",
       "Name: MeinSinusSensor, Length: 256, dtype: float64"
      ]
     },
     "execution_count": 30,
     "metadata": {},
     "output_type": "execute_result"
    }
   ],
   "source": [
    "sinvalues"
   ]
  },
  {
   "cell_type": "code",
   "execution_count": 32,
   "metadata": {},
   "outputs": [
    {
     "data": {
      "text/plain": [
       "LinksUnten         45.000\n",
       "RechtsOben         33.000\n",
       "MeinSinusSensor     0.951\n",
       "Name: 4, dtype: float64"
      ]
     },
     "execution_count": 32,
     "metadata": {},
     "output_type": "execute_result"
    }
   ],
   "source": [
    "df.iloc[4]"
   ]
  },
  {
   "cell_type": "code",
   "execution_count": 33,
   "metadata": {},
   "outputs": [
    {
     "data": {
      "text/plain": [
       "0      0.000\n",
       "1      0.309\n",
       "2      0.588\n",
       "3      0.809\n",
       "4      0.951\n",
       "       ...  \n",
       "251   -0.309\n",
       "252   -0.588\n",
       "253   -0.809\n",
       "254   -0.951\n",
       "255   -1.000\n",
       "Name: MeinSinusSensor, Length: 256, dtype: float64"
      ]
     },
     "execution_count": 33,
     "metadata": {},
     "output_type": "execute_result"
    }
   ],
   "source": [
    "sinvalues"
   ]
  },
  {
   "cell_type": "code",
   "execution_count": 34,
   "metadata": {},
   "outputs": [
    {
     "data": {
      "text/plain": [
       "256"
      ]
     },
     "execution_count": 34,
     "metadata": {},
     "output_type": "execute_result"
    }
   ],
   "source": [
    "len(df)"
   ]
  },
  {
   "cell_type": "code",
   "execution_count": 36,
   "metadata": {},
   "outputs": [],
   "source": [
    "import numpy"
   ]
  },
  {
   "cell_type": "code",
   "execution_count": 39,
   "metadata": {},
   "outputs": [],
   "source": [
    "timestamps = numpy.linspace(0,1,len(df))"
   ]
  },
  {
   "cell_type": "code",
   "execution_count": 40,
   "metadata": {},
   "outputs": [
    {
     "data": {
      "text/plain": [
       "numpy.ndarray"
      ]
     },
     "execution_count": 40,
     "metadata": {},
     "output_type": "execute_result"
    }
   ],
   "source": [
    "type(timestamps)"
   ]
  },
  {
   "cell_type": "code",
   "execution_count": 41,
   "metadata": {},
   "outputs": [
    {
     "data": {
      "text/plain": [
       "(256,)"
      ]
     },
     "execution_count": 41,
     "metadata": {},
     "output_type": "execute_result"
    }
   ],
   "source": [
    "timestamps.shape"
   ]
  },
  {
   "cell_type": "code",
   "execution_count": 43,
   "metadata": {},
   "outputs": [
    {
     "data": {
      "text/plain": [
       "0      0.000\n",
       "1      0.309\n",
       "2      0.588\n",
       "3      0.809\n",
       "4      0.951\n",
       "       ...  \n",
       "251   -0.309\n",
       "252   -0.588\n",
       "253   -0.809\n",
       "254   -0.951\n",
       "255   -1.000\n",
       "Name: MeinSinusSensor, Length: 256, dtype: float64"
      ]
     },
     "execution_count": 43,
     "metadata": {},
     "output_type": "execute_result"
    }
   ],
   "source": [
    "sinvalues"
   ]
  },
  {
   "cell_type": "code",
   "execution_count": 44,
   "metadata": {},
   "outputs": [
    {
     "data": {
      "text/plain": [
       "pandas.core.series.Series"
      ]
     },
     "execution_count": 44,
     "metadata": {},
     "output_type": "execute_result"
    }
   ],
   "source": [
    "type(sinvalues)"
   ]
  },
  {
   "cell_type": "code",
   "execution_count": 45,
   "metadata": {},
   "outputs": [],
   "source": [
    "import matplotlib.pyplot as plt"
   ]
  },
  {
   "cell_type": "code",
   "execution_count": 46,
   "metadata": {},
   "outputs": [],
   "source": [
    "%matplotlib inline"
   ]
  },
  {
   "cell_type": "code",
   "execution_count": 47,
   "metadata": {},
   "outputs": [
    {
     "data": {
      "text/plain": [
       "[<matplotlib.lines.Line2D at 0x7f67142f53c0>]"
      ]
     },
     "execution_count": 47,
     "metadata": {},
     "output_type": "execute_result"
    },
    {
     "data": {
      "image/png": "[encoded data removed]",
      "text/plain": [
       "<Figure size 432x288 with 1 Axes>"
      ]
     },
     "metadata": {
      "needs_background": "light"
     },
     "output_type": "display_data"
    }
   ],
   "source": [
    "plt.plot(timestamps, sinvalues)"
   ]
  }
 ],
 "metadata": {
  "kernelspec": {
   "display_name": "Python 3 (ipykernel)",
   "language": "python",
   "name": "python3"
  },
  "language_info": {
   "codemirror_mode": {
    "name": "ipython",
    "version": 3
   },
   "file_extension": ".py",
   "mimetype": "text/x-python",
   "name": "python",
   "nbconvert_exporter": "python",
   "pygments_lexer": "ipython3",
   "version": "3.10.11"
  }
 },
 "nbformat": 4,
 "nbformat_minor": 4
}
